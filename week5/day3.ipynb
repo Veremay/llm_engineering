{
 "cells": [
  {
   "cell_type": "markdown",
   "id": "dfe37963-1af6-44fc-a841-8e462443f5e6",
   "metadata": {},
   "source": [
    "## Expert Knowledge Worker\n",
    "\n",
    "### A question answering agent that is an expert knowledge worker\n",
    "### To be used by employees of Insurellm, an Insurance Tech company\n",
    "### The agent needs to be accurate and the solution should be low cost.\n",
    "\n",
    "This project will use RAG (Retrieval Augmented Generation) to ensure our question/answering assistant has high accuracy."
   ]
  },
  {
   "cell_type": "markdown",
   "id": "4a4c8e84",
   "metadata": {},
   "source": [
    "**Vector Embedding Models**\n",
    "\n",
    "word2vec(2013)\n",
    "\n",
    "BERT(2018)\n",
    "\n",
    "OPENAI Embeddings(2024 updates)"
   ]
  },
  {
   "cell_type": "markdown",
   "id": "4a75175b",
   "metadata": {},
   "source": [
    "**Chroma** is the first open-source Al application database. Batteries included.\n",
    "\n",
    "![chroma.png](chroma.png)"
   ]
  },
  {
   "cell_type": "code",
   "execution_count": 1,
   "id": "ba2779af-84ef-4227-9e9e-6eaf0df87e77",
   "metadata": {},
   "outputs": [],
   "source": [
    "# imports\n",
    "\n",
    "import os\n",
    "import glob\n",
    "from dotenv import load_dotenv\n",
    "import gradio as gr"
   ]
  },
  {
   "cell_type": "code",
   "execution_count": 2,
   "id": "802137aa-8a74-45e0-a487-d1974927d7ca",
   "metadata": {},
   "outputs": [],
   "source": [
    "# imports for langchain and Chroma and plotly\n",
    "\n",
    "from langchain.document_loaders import DirectoryLoader, TextLoader\n",
    "from langchain.text_splitter import CharacterTextSplitter\n",
    "from langchain.schema import Document\n",
    "from langchain_openai import OpenAIEmbeddings, ChatOpenAI\n",
    "from langchain_chroma import Chroma\n",
    "import numpy as np\n",
    "from sklearn.manifold import TSNE\n",
    "import plotly.graph_objects as go"
   ]
  },
  {
   "cell_type": "code",
   "execution_count": 3,
   "id": "58c85082-e417-4708-9efe-81a5d55d1424",
   "metadata": {},
   "outputs": [],
   "source": [
    "# price is a factor for our company, so we're going to use a low cost model\n",
    "\n",
    "MODEL = \"gpt-4o-mini\"\n",
    "MODEL = \"Qwen/QwQ-32B\"\n",
    "db_name = \"vector_db\""
   ]
  },
  {
   "cell_type": "code",
   "execution_count": 4,
   "id": "ee78efcb-60fe-449e-a944-40bab26261af",
   "metadata": {},
   "outputs": [],
   "source": [
    "# Load environment variables in a file called .env\n",
    "\n",
    "load_dotenv(override=True)\n",
    "os.environ['OPENAI_API_KEY'] = os.getenv('OPENAI_API_KEY', 'your-key-if-not-using-env')"
   ]
  },
  {
   "cell_type": "code",
   "execution_count": 5,
   "id": "730711a9-6ffe-4eee-8f48-d6cfb7314905",
   "metadata": {},
   "outputs": [],
   "source": [
    "# Read in documents using LangChain's loaders\n",
    "# Take everything in all the sub-folders of our knowledgebase\n",
    "\n",
    "folders = glob.glob(\"knowledge-base/*\")\n",
    "\n",
    "# With thanks to CG and Jon R, students on the course, for this fix needed for some users \n",
    "text_loader_kwargs = {'encoding': 'utf-8'}\n",
    "# If that doesn't work, some Windows users might need to uncomment the next line instead\n",
    "# text_loader_kwargs={'autodetect_encoding': True}\n",
    "\n",
    "documents = []\n",
    "for folder in folders:\n",
    "    doc_type = os.path.basename(folder) # use the folder name as the doc_type\n",
    "    loader = DirectoryLoader(folder, glob=\"**/*.md\", loader_cls=TextLoader, loader_kwargs=text_loader_kwargs)\n",
    "    folder_docs = loader.load()\n",
    "    for doc in folder_docs:\n",
    "        doc.metadata[\"doc_type\"] = doc_type\n",
    "        documents.append(doc)"
   ]
  },
  {
   "cell_type": "code",
   "execution_count": 7,
   "id": "b05debae",
   "metadata": {},
   "outputs": [
    {
     "name": "stdout",
     "output_type": "stream",
     "text": [
      "[Document(metadata={'source': 'knowledge-base\\\\company\\\\about.md', 'doc_type': 'company'}, page_content=\"# About Insurellm\\n\\nInsurellm was founded by Avery Lancaster in 2015 as an insurance tech startup designed to disrupt an industry in need of innovative products. It's first product was Markellm, the marketplace connecting consumers with insurance providers.\\nIt rapidly expanded, adding new products and clients, reaching 200 emmployees by 2024 with 12 offices across the US.\"), Document(metadata={'source': 'knowledge-base\\\\company\\\\careers.md', 'doc_type': 'company'}, page_content='# Careers at Insurellm\\n\\nInsurellm is hiring! We are looking for talented software engineers, data scientists and account executives to join our growing team. Come be a part of our movement to disrupt the insurance sector.'), Document(metadata={'source': 'knowledge-base\\\\company\\\\overview.md', 'doc_type': 'company'}, page_content='# Overview of Insurellm\\n\\nInsurellm is an innovative insurance tech firm with 200 employees across the US.\\nInsurellm offers 4 insurance software products:\\n- Carllm, a portal for auto insurance companies\\n- Homellm, a portal for home insurance companies\\n- Rellm, an enterprise platform for the reinsurance sector\\n- Marketllm, a marketplace for connecting consumers with insurance providers\\n  \\nInsurellm has more than 300 clients worldwide.'), Document(metadata={'source': 'knowledge-base\\\\contracts\\\\Contract with Apex Reinsurance for Rellm.md', 'doc_type': 'contracts'}, page_content=\"# Contract with Apex Reinsurance for Rellm: AI-Powered Enterprise Reinsurance Solution\\n\\n## Terms\\n\\n1. **Parties Involved**: This contract (“Agreement”) is entered into between Insurellm, Inc. (“Provider”) and Apex Reinsurance (“Client”) on this [Date].\\n\\n2. **Scope of Services**: Provider agrees to deliver the Rellm solution, which includes AI-driven analytics, seamless integrations, risk assessment modules, customizable dashboards, regulatory compliance tools, and client and broker portals as described in the product summary.\\n\\n3. **Payment Terms**: Client shall pay the Provider the sum of $10,000 per month for the duration of this agreement. Payments are due on the first day of each month and will be processed via electronic funds transfer.\\n\\n4. **Contract Duration**: This Agreement shall commence on [Start Date] and shall remain in effect for a period of twelve (12) months unless terminated earlier in accordance with the terms set forth herein.\\n\\n## Renewal\\n\\n1. **Automatic Renewal**: This Agreement will automatically renew for successive one-year terms unless either party provides a written notice of intent to terminate at least thirty (30) days prior to the expiration of the current term.\\n\\n2. **Renewal Pricing**: Upon renewal, the pricing may be subject to adjustment by the Provider. The Provider will give a minimum of sixty (60) days’ notice of any changes in pricing.\\n\\n## Features\\n\\n1. **AI-Driven Analytics**: The Rellm platform will utilize AI algorithms to provide predictive insights into risk exposures, allowing the Client to make informed decisions with real-time data analysis.\\n\\n2. **Seamless Integrations**: The architecture of Rellm allows for easy integration with existing systems used by the Client, including policy management and claims processing.\\n\\n3. **Customizable Dashboard**: The dashboard will be tailored to display metrics specific to the Client's operational needs, enhancing productivity and facilitating more efficient data access.\\n\\n4. **Regulatory Compliance**: The solution will include compliance tracking features to assist the Client in maintaining adherence to relevant regulations.\\n\\n5. **Dedicated Client Portal**: A portal for the Client will facilitate real-time communication and document sharing, ensuring seamless collaboration throughout the partnership.\\n\\n## Support\\n\\n1. **Technical Support**: Provider shall offer dedicated technical support to the Client via phone, email, and a ticketing system during business hours (Monday to Friday, 9 AM to 5 PM EST).\\n\\n2. **Training and Onboarding**: Provider will deliver comprehensive onboarding training for up to ten (10) members of the Client's staff to ensure effective use of the Rellm solution.\\n\\n3. **Updates and Maintenance**: Provider is responsible for providing updates to the Rellm platform to improve functionality and security, at no additional cost to the Client.\\n\\n4. **Escalation Protocol**: Issues that cannot be resolved at the first level of support will be escalated to the senior support team, ensuring that critical concerns are addressed promptly.\\n\\n---\\n\\n**Acceptance of Terms**: By signing below, both parties agree to the Terms, Renewal, Features, and Support outlined in this Agreement.\\n\\n**Insurellm, Inc.**  \\n_____________________________  \\nAuthorized Signature   \\nDate: ___________________  \\n\\n**Apex Reinsurance**  \\n_____________________________  \\nAuthorized Signature  \\nDate: ___________________\"), Document(metadata={'source': 'knowledge-base\\\\contracts\\\\Contract with Belvedere Insurance for Markellm.md', 'doc_type': 'contracts'}, page_content='# Contract with Belvedere Insurance for Markellm\\n\\n## Terms\\nThis Contract (\"Agreement\") is made and entered into as of [Date] by and between Insurellm, Inc., a corporation registered in the United States, (\"Provider\") and Belvedere Insurance, (\"Client\"). \\n\\n1. **Service Commencement**: The services described herein will commence on [Start Date].\\n2. **Contract Duration**: This Agreement shall remain in effect for a period of 1 year from the Commencement Date, unless terminated earlier in accordance with the termination clause of this Agreement.\\n3. **Fees**: Client agrees to pay a Basic Listing Fee of $199/month for accessing the Markellm platform along with a performance-based pricing of $25 per lead generated.\\n4. **Payment Terms**: Payments shall be made monthly, in advance, with invoices issued on the 1st of each month, payable within 15 days of receipt.\\n\\n## Renewal\\n1. **Renewal Terms**: This Agreement may be renewed for additional one-year terms upon mutual written consent of both parties no later than 30 days before the end of the current term.\\n2. **Fee Adjustments**: Any changes to the fees or terms will be communicated in writing at least 60 days prior to the renewal date.\\n\\n## Features\\n1. **AI-Powered Matching**: Belvedere Insurance will benefit from Markellm\\'s AI-powered matching, ensuring the best-fit customers are identified and connected.\\n2. **Real-Time Quotes**: Access to real-time quotes will enhance the customer acquisition process, facilitating timely and informed decision-making.\\n3. **Data Insights**: Client shall have access to Markellm\\'s analytics dashboard, allowing insights into consumer behavior and market trends.\\n4. **Customization Options**: Belvedere Insurance can leverage optional premium features and analytics upon payment of an additional $9.99/month.\\n5. **Customer Support**: Insurellm will provide dedicated support to Belvedere Insurance, ensuring any issues or queries are promptly addressed.\\n\\n## Support\\n1. **Technical Support**: Technical support will be available from 9 AM to 7 PM EST, Monday through Friday via email and phone.\\n2. **Response Times**: Insurellm agrees to respond to all support queries within 24 business hours. Emergency support will be prioritized throughout the contract period.\\n3. **Training**: Insurellm will offer a comprehensive training session for the Client’s staff upon beginning the service to ensure effective utilization of the features.\\n\\n## Acceptance\\nBy signing below, the parties agree to the terms of this Agreement.\\n\\n**Insurellm, Inc.**  \\nSignature: ______________________  \\nName: [Authorized Signatory]  \\nTitle: [Title]  \\nDate: ______________________  \\n\\n**Belvedere Insurance**  \\nSignature: ______________________  \\nName: [Authorized Signatory]  \\nTitle: [Title]  \\nDate: ______________________  \\n\\n--- \\nThis synthetic contract document outlines a fictional agreement between Insurellm and a fictional insurance client, Belvedere Insurance, which engages with the Markellm platform. The contract contains creative yet realistic terms for potential use in training and development in insurance technology scenarios.'), Document(metadata={'source': 'knowledge-base\\\\contracts\\\\Contract with BrightWay Solutions for Markellm.md', 'doc_type': 'contracts'}, page_content='# Contract with BrightWay Solutions for Markellm\\n\\n**Contract Date:** October 5, 2023  \\n**Contract ID:** INS-2023-0092\\n\\n### Terms\\nThis contract (“Contract”) is made between Insurellm, a company incorporated in the United States, and BrightWay Solutions, a technology provider specializing in insurance services.\\n\\n1. **Scope of Services:**  \\n   Insurellm shall provide BrightWay Solutions access to the Markellm platform under the agreed pricing structure for a duration of one year from the effective date.\\n\\n2. **Payment Terms:**  \\n   BrightWay Solutions agrees to pay an initial setup fee of $1,000 for integration services, followed by the Basic Listing Fee of $199 per month for featured listing on Markellm. Payment shall be made within 30 days of invoice.\\n\\n3. **Service Level Agreement (SLA):**  \\n   Insurellm commits to a 99.9% uptime for the platform with dedicated support response times not exceeding 4 business hours.\\n\\n### Renewal\\n1. **Automatic Renewal:**  \\n   This Contract will automatically renew for additional one-year terms unless either party provides a written notice of intent to terminate at least 30 days prior to the renewal date.\\n\\n2. **Review Period:**  \\n   Both parties will enter a review period each year, during which they will discuss potential amendments to the pricing or contract terms based on market conditions and performance metrics.\\n\\n### Features\\n1. **Access to AI-Powered Matching:**  \\n   BrightWay Solutions will benefit from the AI algorithms for optimal customer matches, helping them connect with consumers looking for their specific insurance offerings.\\n\\n2. **Real-Time Quote Availability:**  \\n   Consumers sourced via BrightWay Solutions will receive real-time quotes, allowing for a seamless customer experience.\\n\\n3. **Analytics Dashboard:**  \\n   Access to Markellm’s analytics dashboard will provide BrightWay Solutions with insights into consumer behavior and market trends, assisting them in refining their insurance offerings.\\n\\n4. **Customization Options:**  \\n   BrightWay Solutions may request customizations to their listing page on Markellm, within the capabilities of the platform.\\n\\n### Support\\n1. **Dedicated Customer Support:**  \\n   BrightWay Solutions will have access to a dedicated support team from Insurellm during standard business hours (9 AM - 7 PM EST).\\n\\n2. **Additional Support Services:**  \\n   Technical support for integration and maintenance will be available. An optional premium support package can be purchased for $49.99/month, which includes 24/7 support and advanced troubleshooting.\\n\\n3. **Training and Onboarding:**  \\n   Insurellm agrees to provide one free training session on how to utilize the Markellm platform effectively for BrightWay Solutions’ team upon contract signing.\\n\\n### Signatures\\nBy signing below, both parties agree to the terms and conditions outlined in this Contract.\\n\\n__________________________  \\n**[Name], [Title]**  \\n**Insurellm**  \\nDate: ______________________\\n\\n__________________________  \\n**[Name], [Title]**  \\n**BrightWay Solutions**  \\nDate: ______________________\\n\\n---\\n\\nThis document serves as a formal agreement between Insurellm and BrightWay Solutions, ensuring a successful partnership focused on enhancing the insurance shopping experience for consumers.'), Document(metadata={'source': 'knowledge-base\\\\contracts\\\\Contract with EverGuard Insurance for Rellm.md', 'doc_type': 'contracts'}, page_content='# Contract with EverGuard Insurance for Rellm: AI-Powered Enterprise Reinsurance Solution\\n\\n**Contract Number:** IG-2023-EG  \\n**Effective Date:** January 1, 2024  \\n**Expiration Date:** December 31, 2026  \\n\\n## Terms\\n\\n1. **Parties**: This agreement is made between Insurellm, located at 123 Innovation Drive, Tech City, USA, and EverGuard Insurance, located at 456 Safety Lane, Protectville, USA.\\n   \\n2. **Product Description**: This contract pertains to the use of the Rellm platform, an AI-powered enterprise reinsurance solution provided by Insurellm. EverGuard Insurance will implement Rellm to enhance its reinsurance operations.\\n\\n3. **Payment Terms**: EverGuard Insurance agrees to pay Insurellm a monthly fee of $10,000 for the duration of this contract, covering the Professional Plan features of Rellm, which includes all advanced integrations and priority customer support.\\n\\n4. **Usage Rights**: EverGuard Insurance is granted a non-exclusive, non-transferable license to access and use Rellm for the duration of this contract. Unauthorized sharing or distribution is strictly prohibited.\\n\\n## Renewal\\n\\n1. **Automatic Renewal**: This contract will automatically renew for successive one-year terms unless either party provides written notice of termination at least 60 days prior to the expiration date.\\n\\n2. **Price Adjustment**: In the event of a renewal, Insurellm reserves the right to adjust the monthly fee based on market conditions and the value of services offered, with a minimum notice of 30 days.\\n\\n## Features\\n\\n1. **Core Functionality**: Rellm provides EverGuard Insurance with advanced AI-driven analytics, seamless integrations, and a comprehensive risk assessment module designed to optimize risk management.\\n\\n2. **Customizable Dashboard**: Users at EverGuard Insurance will have access to a customizable dashboard that allows them to tailor their experience based on their specific operational metrics.\\n\\n3. **Compliance Tools**: The built-in regulatory compliance tools will ensure that EverGuard Insurance meets industry standards while managing its reinsurance practices.\\n\\n4. **Client Portal Access**: EverGuard Insurance will have access to both client and broker portals, enhancing communication and collaboration with its partners.\\n\\n## Support\\n\\n1. **Customer Support**: Insurellm will provide EverGuard Insurance with 24/7 customer support, including live chat, email, and phone assistance for any technical issues or inquiries regarding Rellm.\\n\\n2. **Training Services**: Insurellm will provide initial training for EverGuard Insurance staff to ensure proper utilization of Rellm features. Additional training sessions can be scheduled upon request at an agreed fee.\\n\\n3. **Updates and Upgrades**: EverGuard Insurance will receive all platform updates and upgrades at no additional cost during the contract term, including enhancements outlined in Insurellm’s 2025-2026 roadmap.\\n\\n4. **Feedback Mechanisms**: EverGuard Insurance is encouraged to provide feedback regarding Rellm’s functionalities and any desired features, which will be considered for future updates.\\n\\n---\\n\\n**Signatures**  \\n**For Insurellm**: __________________________  \\n**Name**: John Smith  \\n**Title**: Chief Operating Officer  \\n**Date**: _________________  \\n\\n**For EverGuard Insurance**: __________________________  \\n**Name**: Sarah Johnson  \\n**Title**: Chief Executive Officer  \\n**Date**: _________________  \\n\\n--- \\n\\nThis contract seeks to foster a strong partnership between Insurellm and EverGuard Insurance, leveraging Rellm to innovate and enhance reinsurance capabilities while ensuring mutual growth and compliance in the ever-evolving insurance landscape.'), Document(metadata={'source': 'knowledge-base\\\\contracts\\\\Contract with GreenField Holdings for Markellm.md', 'doc_type': 'contracts'}, page_content='# Contract with GreenField Holdings for Markellm\\n\\n**Effective Date:** November 15, 2023  \\n**Contract Duration:** 12 months  \\n\\n## Terms\\n1. **Parties to the Agreement**: This contract is entered into between Insurellm, hereafter referred to as \"Provider,\" and GreenField Holdings, hereafter referred to as \"Client.\"\\n2. **Scope of Services**: Provider agrees to grant the Client access to the Markellm platform, enabling GreenField Holdings to connect with potential insurance customers through the AI-powered marketplace.\\n3. **Compliance**: Both parties agree to adhere to applicable laws and regulations that govern information security and consumer data protection.\\n\\n## Renewal\\n1. **Automatic Renewal**: This contract will automatically renew for sequential one-year terms unless either party provides a written notice of non-renewal at least 30 days prior to the expiration of the current term.\\n2. **Annual Review**: Upon renewal, both parties may review and negotiate the terms, including any modifications to pricing based on performance metrics outlined in Section 4.\\n\\n## Features\\n1. **AI-Powered Matching**: Access to advanced algorithms that connect GreenField Holdings with tailored insurance leads.\\n2. **Real-Time Quotes**: Ability to provide customers with instant quotes from multiple insurance providers, facilitating faster decision-making processes.\\n3. **Customized Recommendations**: Utilization of customizable consumer profiles to enhance marketing strategies and optimize customer engagement.\\n4. **Data Insights**: Access to analytics dashboards for real-time insights into market trends and consumer behavior, helping GreenField Holdings refine their product offerings.\\n\\n## Support\\n1. **Customer Support Access**: The Client will have access to dedicated support through phone and email during normal business hours to address any inquiries or technical issues.\\n2. **Training and Resources**: Provider will offer onboarding training resources to ensure GreenField Holdings can effectively utilize the Markellm platform.\\n3. **Performance Reviews**: Quarterly performance reviews will be conducted to analyze platform effectiveness, customer acquisition rates, and marketing strategies, ensuring both parties are aligned on objectives.\\n\\n## Pricing\\n- **Basic Listing Fee**: GreenField Holdings agrees to pay a monthly fee of $199 for a featured listing on the Markellm platform.\\n- **Performance-Based Pricing**: An additional fee of $25 per acquired customer lead will be charged, reflecting successful connections made through the Markellm platform.\\n\\n**Signatures:**  \\n_________________________                           _________________________  \\n**[Name], Title**                                   **[Name], Title**  \\nInsurellm                                           GreenField Holdings  \\n**Date:** ____________                             **Date:** ____________'), Document(metadata={'source': 'knowledge-base\\\\contracts\\\\Contract with Greenstone Insurance for Homellm.md', 'doc_type': 'contracts'}, page_content='# Contract with Greenstone Insurance for Homellm\\n\\n---\\n\\n## Terms\\n\\n1. **Parties**: This Contract (\"Agreement\") is entered into on this day, [Insert Date], between Insurellm (\"Provider\"), located at [Provider Address], and Greenstone Insurance (\"Customer\"), located at [Customer Address].\\n\\n2. **Services Provided**: Provider agrees to deliver the Homellm product, which includes AI-powered risk assessment, dynamic pricing model, instant claim processing, predictive maintenance alerts, multi-channel integration, and access to a customer portal as specified in the provided Product Summary.\\n\\n3. **Contract Duration**: This Agreement shall commence on [Insert Start Date] and continue for a period of [Insert Duration, e.g., 12 months] unless terminated earlier as per the provisions herein.\\n\\n4. **Payment Terms**: \\n   - The Customer shall pay an amount of $10,000 per month for the Standard Tier of the Homellm service.\\n   - Payments are due within 30 days of invoicing.\\n\\n5. **Customization**: Any additional customization requests outside the standard offerings will require a separate agreement and associated costs.\\n\\n---\\n\\n## Renewal\\n\\n1. **Automatic Renewal**: This Agreement will automatically renew for additional one-year terms unless either party provides written notice of termination at least 60 days prior to the end of the current term.\\n\\n2. **Renewal Terms Review**: Prior to each renewal, the Provider and Customer will review the terms and pricing. Adjustments may be made based on the current features and market conditions.\\n\\n---\\n\\n## Features\\n\\n- **AI-Powered Risk Assessment**: Customer will have access to enhanced risk evaluation tools, allowing for personalized underwriting based on real-time data analysis.\\n  \\n- **Dynamic Pricing Model**: The Customer can leverage flexible premiums adjusted according to customer risk profiles.\\n\\n- **Instant Claim Processing**: Claims submitted by the Customer\\'s clients will be processed through an automated system, with most claims resolved within hours.\\n\\n- **Predictive Maintenance Alerts**: The Customer will receive alerts regarding potential maintenance needs for insured properties, enhancing client satisfaction and reducing claims.\\n\\n- **Multi-Channel Integration**: Homellm will integrate with the Customer\\'s existing platforms to create seamless service delivery.\\n\\n- **Customer Portal**: A dedicated portal will be provided, allowing the Customer\\'s clients to manage their accounts 24/7.\\n\\n---\\n\\n## Support\\n\\n1. **Training**: Provider will offer a comprehensive training program at the start of the term to ensure the Customer\\'s staff can effectively use the Homellm product.\\n\\n2. **Ongoing Support**: The Provider will supply ongoing technical support via email and phone during business hours (9 am - 5 pm EST) throughout the contract duration.\\n\\n3. **Updates and Improvements**: Customer will receive all software updates and feature enhancements as they become available, without additional charge.\\n\\n--- \\n\\n**AGREEMENT SIGNATURES**\\n\\nBy signing below, the parties acknowledge their acceptance of the terms of this Agreement.\\n\\n**For Insurellm:**\\n\\n______________________________  \\n[Name], [Title]  \\nDate: ______________________\\n\\n**For Greenstone Insurance:**\\n\\n______________________________  \\n[Name], [Title]  \\nDate: ______________________\\n\\n--- \\n\\n*This contract is intended for illustrative purposes only and does not constitute a real legal document.*'), Document(metadata={'source': 'knowledge-base\\\\contracts\\\\Contract with GreenValley Insurance for Homellm.md', 'doc_type': 'contracts'}, page_content=\"# Contract with GreenValley Insurance for Homellm\\n\\n**Contract Date:** October 6, 2023  \\n**Contract Number:** HV-2023-0458  \\n**Parties:**  \\n- Insurellm, Inc.  \\n- GreenValley Insurance, LLC  \\n\\n---\\n\\n## Terms\\n\\n1. **Coverage:** Insurellm agrees to provide GreenValley Insurance with access to the Homellm product, allowing for personalized home insurance offerings tailored to customers.\\n   \\n2. **Duration:** This agreement is effective for a period of 12 months from the contract date, after which it will automatically renew unless terminated by either party with a written 30-day notice.\\n\\n3. **Payment:** GreenValley Insurance shall pay a monthly fee of $10,000, due by the 5th of every month for the Standard Tier package. \\n\\n4. **Confidentiality:** Both parties agree to maintain the confidentiality of proprietary information disclosed during the execution of this contract.\\n\\n5. **Liability:** Insurellm's liability under this agreement shall be limited to direct damages and shall not exceed the total fees paid by GreenValley Insurance in the last 12 months prior to the date of the claim.\\n\\n---\\n\\n## Renewal\\n\\nUnless either party provides a written notice of termination at least 30 days prior to the expiration of the contract term, this agreement will automatically renew for an additional one-year term under the same terms and conditions.\\n\\n---\\n\\n## Features\\n\\nGreenValley Insurance will receive the following features with Homellm:\\n\\n1. **AI-Powered Risk Assessment:** Access to advanced AI algorithms for real-time risk evaluations.\\n   \\n2. **Dynamic Pricing Model:** Flexible premium adjustments based on ongoing risk analysis.\\n\\n3. **Instant Claim Processing:** Automated claim management to accelerate processing times significantly.\\n\\n4. **Predictive Maintenance Alerts:** Alerts for potential maintenance needs to mitigate risks.\\n\\n5. **Multi-Channel Integration:** Capability to integrate seamlessly with existing systems for unified customer management.\\n\\n6. **Customer Portal:** A user-friendly portal for their customers for policy and claims management.\\n\\n---\\n\\n## Support\\n\\nInsurellm commits to providing comprehensive support to GreenValley Insurance, which includes:\\n\\n1. **Onboarding:** An extensive training program for the GreenValley staff to ensure effective use of Homellm.\\n   \\n2. **Dedicated Support Team:** A dedicated support team available 24/7 to address any technical issues or inquiries.\\n\\n3. **Regular Updates:** Insurellm will offer ongoing updates and enhancements to the Homellm platform, including new features and security improvements.\\n\\n4. **Feedback Implementation:** Insurellm will actively solicit feedback from GreenValley Insurance to ensure Homellm continues to meet their evolving needs.\\n\\n---\\n\\n**Signatures:**\\n\\n_________________________________  \\n**[Name]**  \\n**Title**: CEO  \\n**Insurellm, Inc.**\\n\\n_________________________________  \\n**[Name]**  \\n**Title**: COO  \\n**GreenValley Insurance, LLC**  \\n\\n---\\n\\nThis agreement represents the complete understanding of both parties regarding the use of the Homellm product and supersedes any prior agreements or communications.\"), Document(metadata={'source': 'knowledge-base\\\\contracts\\\\Contract with Pinnacle Insurance Co. for Homellm.md', 'doc_type': 'contracts'}, page_content='# Contract with Pinnacle Insurance Co. for Homellm\\n\\n## Terms\\nThis contract (\"Contract\") is entered into as of this 1st day of January 2024 (\"Effective Date\") by and between Insurellm (\"Provider\"), a Delaware corporation with its principal place of business at 1234 Innovation Drive, San Francisco, CA 94105, and Pinnacle Insurance Co. (\"Client\"), a Texas corporation with its principal place of business at 4567 Protection Plaza, Houston, TX 77001. \\n\\n1. **License Grant**: Insurellm hereby grants the Client a non-exclusive, non-transferable license to use Homellm in accordance with the terms of this Contract.\\n2. **Payment Terms**: The Client agrees to pay an initial setup fee of $15,000 and a monthly subscription fee of $10,000 for the duration of the Contract.\\n3. **Term**: The initial term of this Contract shall last for a period of two (2) years from the Effective Date.\\n\\n## Renewal\\n1. **Renewal Terms**: At the end of the initial term, this Contract shall automatically renew for additional one-year terms unless either party provides written notice of termination at least thirty (30) days prior to the expiration of the current term.\\n2. **Adjustment of Fees**: Subscription fees may be adjusted annually based on consumer price index changes, not to exceed 5% per year.\\n\\n## Features\\n1. **AI-Powered Risk Assessment**: Utilized for tailored underwriting decisions specific to individual homeowner policies.\\n2. **Dynamic Pricing Model**: Monthly premiums adjusted based on real-time risk evaluations, ensuring fair pricing for Pinnacle’s customers.\\n3. **Instant Claim Processing**: Claims resolved in hours rather than weeks, significantly improving customer satisfaction and operational efficiency.\\n4. **Predictive Maintenance Alerts**: Alerts sent to customers advising them of potential risks unique to their property, supporting proactive maintenance.\\n5. **Multi-Channel Integration**: Seamless access to customer data through existing systems in Pinnacle Insurance\\'s infrastructure.\\n6. **Customer Portal**: A user-friendly interface allowing policy management, claims submission, and coverage updates at any time.\\n\\n## Support\\n1. **Technical Support**: Insurellm shall provide 24/7 technical support via an email and phone assistance for the duration of this Contract.\\n2. **Training**: Insurellm will conduct an onsite training session for Client employees upon implementation, and quarterly training webinars will be made available thereafter.\\n3. **Updates and Maintenance**: Insurellm will provide regular system updates and maintenance, ensuring that the software is operating at peak efficiency.\\n\\nBy signing below, both parties agree to the terms set forth in this Contract for the use of the Homellm product.\\n\\n____  \\n**Insurellm Authorized Signature**  \\nName: Sarah Johnson  \\nTitle: VP of Sales  \\nDate: ____________\\n\\n____  \\n**Pinnacle Insurance Co. Authorized Signature**  \\nName: Tom Anderson  \\nTitle: Chief Operating Officer  \\nDate: ____________'), Document(metadata={'source': 'knowledge-base\\\\contracts\\\\Contract with Roadway Insurance Inc. for Carllm.md', 'doc_type': 'contracts'}, page_content=\"# Contract with Roadway Insurance Inc. for Carllm\\n\\n---\\n\\n## Terms\\n\\n1. **Agreement Effective Date**: This contract is effective as of January 1, 2025.\\n2. **Duration**: This agreement will remain in effect for a term of 12 months, concluding on December 31, 2025.\\n3. **Subscription Type**: Roadway Insurance Inc. agrees to subscribe to the **Professional Tier** of Carllm, at a cost of $2,500/month, totaling $30,000 for the duration of this contract.\\n4. **Payment Terms**: Payments are due on the first of each month. Late payments will incur a penalty of 1.5% per month.\\n5. **Termination Clause**: Either party may terminate this agreement with 30 days' written notice prior to the end of the term. If terminated early, fees will be calculated on a pro-rata basis.\\n\\n---\\n\\n## Renewal\\n\\n1. **Automatic Renewal**: This agreement will automatically renew for an additional 12-month term unless either party provides written notice of non-renewal at least 30 days before the expiration date.\\n2. **Price Adjustments**: Subscription fees may be adjusted for the renewal term in accordance with market conditions and the company's pricing policies, with 60 days' prior notice provided to Roadway Insurance Inc.\\n\\n---\\n\\n## Features\\n\\n1. **Access to Core Features**: Roadway Insurance Inc. will have access to all Professional Tier features, including:\\n   - AI-Powered Risk Assessment\\n   - Advanced Analytics & Fraud Detection\\n   - Instant Quoting System\\n   - Customizable Coverage Plans\\n   - Customer Insights Dashboard\\n   \\n2. **Mobile Integration**: All features will be accessible through a mobile application that Insurellm will provide.\\n3. **Customer Support**: Includes 24/7 automated customer support via AI chatbots and access to dedicated account management support during business hours.\\n\\n---\\n\\n## Support\\n\\n1. **Technical Support**: Roadway Insurance Inc. will receive priority technical support from Insurellm for any issues arising from the Carllm product.\\n2. **Training**: Insurellm will provide up to 5 training sessions for Roadway Insurance Inc. staff on the effective use of the Carllm platform, scheduled at mutual convenience.\\n3. **Updates and Maintenance**: Regular updates to the Carllm platform will be conducted quarterly, and any maintenance outages will be communicated at least 48 hours in advance.\\n\\n---\\n\\n*This contract outlines the terms of the relationship between Insurellm and Roadway Insurance Inc. for the Carllm product, emphasizing the collaborative spirit aimed at transforming the auto insurance landscape.*\"), Document(metadata={'source': 'knowledge-base\\\\contracts\\\\Contract with Stellar Insurance Co. for Rellm.md', 'doc_type': 'contracts'}, page_content='# Contract with Stellar Insurance Co. for Rellm\\n\\n## Terms\\nThis contract is made between **Insurellm**, located at 123 Innovation Lane, San Francisco, CA, and **Stellar Insurance Co.**, located at 456 Galaxy Road, Chicago, IL. The effective date of this agreement is **January 1, 2024**. \\n\\n### Duration\\nThe initial term of this agreement shall be for **12 months**, commencing from the effective date. The contract will automatically renew for successive **12-month periods** unless either party provides written notice of non-renewal at least **30 days** prior to the expiration of the current term.\\n\\n### Payment Terms\\nStellar Insurance Co. agrees to pay Insurellm a monthly subscription fee of **$10,000** for the **Professional Plan** of the Rellm product. Payments are due on the **1st of each month**.\\n\\n### Termination\\nEither party may terminate this agreement with a **30-day written notice**. In the event of a material breach, the non-breaching party may terminate immediately, provided a written notice is given.\\n\\n## Renewal\\nThis contract will renew automatically for additional 12-month terms unless written notice is provided by either party 30 days prior to the renewal date. Upon renewal, pricing may be adjusted based on agreed-upon inflation adjustments or additional services requested by Stellar Insurance Co.\\n\\n## Features\\nStellar Insurance Co. will receive access to the following features of the Rellm product:\\n\\n- **AI-Driven Analytics**: Predictive insights into risk exposures tailored for the reinsurance industry.\\n- **Seamless Integrations**: Compatibility with existing systems for policy management and claims processing.\\n- **Risk Assessment Module**: Comprehensive evaluation of risk profiles using advanced modeling techniques.\\n- **Customizable Dashboard**: Tailored user interface presenting relevant metrics and performance indicators.\\n- **Regulatory Compliance Tools**: Features to ensure adherence to local and international regulations.\\n- **Client and Broker Portals**: Dedicated portals for enhanced communication and document sharing.\\n\\n## Support\\nInsurellm provides Stellar Insurance Co. with the following support services:\\n\\n- **24/7 Technical Support**: Access to dedicated support representatives via phone and online chat.\\n- **Quarterly Account Review**: Meetings to discuss performance metrics and uncover additional needs.\\n- **Training Sessions**: Initial orientation and ongoing training opportunities to maximize the effectiveness of Rellm usage.\\n- **Updates and Upgrades**: Regular software updates and enhancements are included as part of the subscription.\\n\\nStellar Insurance Co. acknowledges receipt of the Rellm product summary and agrees to the terms set forth above. By signing below, both parties confirm their acceptance of this contract.\\n\\n**For Insurellm**  \\n______________________________  \\n[Signature]  \\n[Name, Title]  \\n[Date]  \\n\\n**For Stellar Insurance Co.**  \\n______________________________  \\n[Signature]  \\n[Name, Title]  \\n[Date]'), Document(metadata={'source': 'knowledge-base\\\\contracts\\\\Contract with TechDrive Insurance for Carllm.md', 'doc_type': 'contracts'}, page_content='# Contract with TechDrive Insurance for Carllm\\n\\n**Contract Date:** October 1, 2024  \\n**Contract Duration:** 12 months\\n\\n---\\n\\n## Terms\\n\\n1. **Parties Involved**: This contract is entered into between Insurellm (the \"Provider\") and TechDrive Insurance (the \"Customer\").\\n   \\n2. **License Grant**: Insurellm grants TechDrive Insurance a non-exclusive, non-transferable license to use the Carllm product as per the selected pricing tier (Professional Tier at $2,500/month).\\n   \\n3. **Payment Terms**: TechDrive Insurance agrees to make monthly payments of $2,500 for the duration of this contract, due on the 5th of each month.\\n   \\n4. **Confidentiality**: Both parties shall maintain confidentiality regarding each other’s proprietary information throughout the duration of this contract and for three years following its termination.\\n\\n## Renewal\\n\\n1. **Automatic Renewal**: This contract shall automatically renew for additional one-year terms unless either party provides written notice of non-renewal at least 30 days prior to the contract expiration.\\n   \\n2. **Pricing Review**: The pricing for any renewal period shall be discussed 60 days prior to the end of the term and agreed upon in writing.\\n\\n## Features\\n\\n1. **Included Features**: Under the Professional Tier, TechDrive Insurance will have access to the following features of Carllm:\\n   - AI-Powered Risk Assessment\\n   - Instant Quoting\\n   - Customizable Coverage Plans\\n   - Fraud Detection\\n   - Customer Insights Dashboard\\n   - Mobile Integration\\n   - Automated Customer Support\\n\\n2. **System Requirements**: TechDrive Insurance must ensure that their existing systems meet the technical requirements to integrate with Carllm, as outlined in the onboarding documentation provided by Insurellm.\\n\\n## Support\\n\\n1. **Customer Support**: Insurellm will provide 24/7 customer support to TechDrive Insurance via AI-driven chatbots, ensuring timely resolution of inquiries and issues.\\n\\n2. **Training**: TechDrive Insurance staff will receive onboarding training sessions to ensure effective utilization of the Carllm platform, scheduled within the first two weeks of contract commencement.\\n\\n3. **System Updates**: The Provider will push regular updates to improve system performance and add new features. TechDrive Insurance will receive prior notification of any significant upgrades that may affect current operations.\\n\\n---\\n\\n**Signatures:**\\n\\n**Insurellm Representative:**  \\nName: John Smith  \\nTitle: Account Manager  \\nDate: ____________\\n\\n**TechDrive Insurance Representative:**  \\nName: Sarah Johnson  \\nTitle: Operations Director  \\nDate: ____________  \\n\\nThis contract will serve as the foundational agreement for the ongoing collaboration between Insurellm and TechDrive Insurance in optimizing their auto insurance offerings through the Carllm product.'), Document(metadata={'source': 'knowledge-base\\\\contracts\\\\Contract with Velocity Auto Solutions for Carllm.md', 'doc_type': 'contracts'}, page_content='# Contract with Velocity Auto Solutions for Carllm\\n\\n**Contract Date:** October 1, 2023  \\n**Contract Number:** C-12345-2023  \\n**Client:** Velocity Auto Solutions  \\n**Product:** Carllm Auto Insurance Solution  \\n\\n---\\n\\n## Terms\\n\\n1. **Duration**: This contract is effective for a period of 12 months from the contract date.  \\n2. **Payment Schedule**: Velocity Auto Solutions agrees to pay Insurellm the total fee associated with the selected subscription tier on a monthly basis, beginning on the contract date.  \\n3. **Confidentiality**: Both parties agree to keep all proprietary information confidential and not to disclose it to any third parties without written consent.  \\n4. **Intellectual Property**: All components of Carllm and any related technology are the property of Insurellm, and license is granted to Velocity Auto Solutions for internal use only.  \\n\\n## Renewal\\n\\n1. **Automatic Renewal**: This contract will automatically renew for successive 12-month periods unless either party provides written notice at least 30 days prior to the end of the initial term or any renewal term.  \\n2. **Rate Adjustment**: Subscription pricing may be subject to adjustment, with Insurellm providing a 60-day advance notice of any changes prior to renewal.  \\n\\n## Features\\n\\n1. **Included Features**:  \\n   - AI-Powered Risk Assessment  \\n   - Instant Quoting and Customizable Coverage Plans  \\n   - Fraud Detection Systems  \\n   - Customer Insights Dashboard  \\n   - Automated Customer Support  \\n\\n2. **Feature Enhancements**: Velocity Auto Solutions will receive updates to the Carllm product as outlined in the Insurellm 2025-2026 Roadmap, including mobile integration and telematics-based pricing enhancements.\\n\\n## Support\\n\\n1. **Customer Support**: Velocity Auto Solutions will have access to Insurellm’s customer support team via email or chatbot, available 24/7.  \\n2. **Technical Maintenance**: Regular maintenance and updates to the Carllm platform will be conducted by Insurellm, with any downtime communicated in advance.  \\n3. **Training & Resources**: Initial training sessions will be provided for Velocity Auto Solutions’ staff to ensure effective use of the Carllm suite. Regular resources and documentation will be made available online.\\n\\n---\\n\\n**Accepted and Agreed:**  \\n**For Velocity Auto Solutions**  \\nSignature: _____________________  \\nName: John Doe  \\nTitle: CEO  \\nDate: _____________________  \\n\\n**For Insurellm**  \\nSignature: _____________________  \\nName: Jane Smith  \\nTitle: VP of Sales  \\nDate: _____________________'), Document(metadata={'source': 'knowledge-base\\\\employees\\\\Alex Chen.md', 'doc_type': 'employees'}, page_content='# HR Record\\n\\n# Alex Chen\\n\\n## Summary\\n- **Date of Birth:** March 15, 1990  \\n- **Job Title:** Backend Software Engineer  \\n- **Location:** San Francisco, California  \\n\\n## Insurellm Career Progression\\n- **April 2020:** Joined Insurellm as a Junior Backend Developer. Focused on building APIs to enhance customer data security.\\n- **October 2021:** Promoted to Backend Software Engineer. Took on leadership for a key project developing a microservices architecture to support the company\\'s growing platform.\\n- **March 2023:** Awarded the title of Senior Backend Software Engineer due to exemplary performance in scaling backend services, reducing downtime by 30% over six months.\\n\\n## Annual Performance History\\n- **2020:**  \\n  - Completed onboarding successfully.  \\n  - Met expectations in delivering project milestones.  \\n  - Received positive feedback from the team leads.\\n\\n- **2021:**  \\n  - Achieved a 95% success rate in project delivery timelines.  \\n  - Awarded \"Rising Star\" at the annual company gala for outstanding contributions.  \\n\\n- **2022:**  \\n  - Exceeded goals by optimizing existing backend code, improving system performance by 25%.  \\n  - Conducted training sessions for junior developers, fostering knowledge sharing.  \\n\\n- **2023:**  \\n  - Led a major overhaul of the API internal architecture, enhancing security protocols.  \\n  - Contributed to the company’s transition to a cloud-based infrastructure.  \\n  - Received an overall performance rating of 4.8/5.\\n\\n## Compensation History\\n- **2020:** Base Salary: $80,000  \\n- **2021:** Base Salary Increase to $90,000; Received a performance bonus of $5,000.  \\n- **2022:** Base Salary Increase to $100,000; Performance bonus of $7,500 due to exceptional project outcomes.  \\n- **2023:** Base Salary Increase to $115,000; Performance bonus of $10,000 for leading pivotal projects.\\n\\n## Other HR Notes\\n- Participates regularly in Insurellm\\'s Diversity & Inclusion initiatives, championing tech accessibility for underrepresented communities.\\n- Completed several certifications in cloud architecture and DevOps, contributing to professional growth.\\n- Plans for a professional development course in AI and machine learning to further enhance backend capabilities in Insurellm\\'s offerings.\\n- Acknowledged for volunteer efforts in local tech meetups, bringing seasoned engineers to mentor aspiring coders.  \\n\\nAlex Chen continues to be a vital asset at Insurellm, contributing significantly to innovative backend solutions that help shape the future of insurance technology.'), Document(metadata={'source': 'knowledge-base\\\\employees\\\\Alex Harper.md', 'doc_type': 'employees'}, page_content='# HR Record\\n\\n# Alex Harper\\n\\n## Summary\\n- **Date of Birth**: March 15, 1993  \\n- **Job Title**: Sales Development Representative (SDR)  \\n- **Location**: Denver, Colorado  \\n\\n## Insurellm Career Progression\\n- **July 2021**: Joined Insurellm as a Sales Development Representative, focusing on lead generation and nurturing B2B relationships.  \\n- **January 2022**: Promoted to Senior Sales Development Representative due to exceptional performance in converting leads into clients.  \\n- **October 2022**: Completed an Internal Leadership Training Program, enhancing skills in team collaboration and strategic selling. Currently mentoring junior SDRs.  \\n- **April 2023**: Became involved in a cross-departmental project to streamline the customer onboarding process, showcasing initiative and leadership.  \\n\\n## Annual Performance History  \\n- **2021**:  \\n  - **Performance Rating**: 4.5/5  \\n  - **Key Achievements**: Exceeded lead generation targets by 30%. Introduced a new CRM analytics tool resulting in improved tracking of customer interactions.  \\n\\n- **2022**:  \\n  - **Performance Rating**: 4.8/5  \\n  - **Key Achievements**: Awarded \"SDR of the Year\" for outstanding contributions. Instrumental in securing 15 new B2B contracts, surpassing targets by 40%.  \\n\\n- **2023**:  \\n  - **Performance Rating**: 4.7/5  \\n  - **Key Achievements**: Played a key role in the launch of a new product line with a 25% increase in lead-to-conversion rates. Completed advanced sales negotiation training with high marks.  \\n\\n## Compensation History  \\n- **2021**:  \\n  - **Base Salary**: $55,000  \\n  - **Bonus**: $5,500 (10% of base due to performance)  \\n\\n- **2022**:  \\n  - **Base Salary**: $65,000 (Promotion to Senior SDR)  \\n  - **Bonus**: $13,000 (20% of base due to performance)  \\n\\n- **2023**:  \\n  - **Base Salary**: $75,000  \\n  - **Bonus**: $15,000 (20% of base)  \\n\\n## Other HR Notes  \\n- **Training Completed**:  \\n  - CRM Analytics & Data Management Workshop (2021)  \\n  - Leadership Training Program (2022)  \\n  - Advanced Sales Negotiation Course (2023)  \\n\\n- **Awards**:  \\n  - Insurellm \"SDR of the Year\" Award (2022)  \\n  - Monthly MVP Recognition (3 times in 2023)  \\n\\n- **Interests**:  \\n  - In Alex\\'s spare time, they enjoy participating in community volunteer programs, particularly those focused on financial literacy.  \\n  - Alex is also an avid runner and has participated in several charity marathons.  \\n\\n- **Feedback from HR**:  \\n  - Alex Harper is noted for their work ethic, positive attitude, and willingness to go above and beyond for both clients and colleagues. Recognized for fostering a team spirit within the SDR team.  '), Document(metadata={'source': 'knowledge-base\\\\employees\\\\Alex Thomson.md', 'doc_type': 'employees'}, page_content='# HR Record\\n\\n# Alex Thomson\\n\\n## Summary\\n- **Date of Birth:** March 15, 1995  \\n- **Job Title:** Sales Development Representative (SDR)  \\n- **Location:** Austin, Texas  \\n\\n## Insurellm Career Progression\\n- **November 2022** - Joined Insurellm as a Sales Development Representative. Alex Thomson quickly adapted to the team, demonstrating exceptional communication and rapport-building skills.\\n- **January 2023** - Promoted to Team Lead for special projects due to Alex\\'s initiative in driving B2B customer outreach programs.  \\n- **August 2023** - Developed a training module for new SDRs at Insurellm, enhancing onboarding processes based on feedback and strategies that Alex Thomson pioneered.  \\n- **Current** - Continues to excel in the role, leading a small team of 5 SDRs while collaborating closely with the marketing department to identify new lead-generation strategies.  \\n\\n## Annual Performance History  \\n- **2022** - Rated as \"Exceeds Expectations.\" Alex Thomson achieved 150% of the sales target within the first three months.  \\n- **2023** - Rated \"Outstanding.\" Recognized for innovative lead-generation tactics which contributed to a 30% increase in qualified leads for the sales team.  \\n\\n### Highlights:\\n- Consistently maintained a 30-minute response time to inbound leads.\\n- Successfully coordinated webinars for product launches, which attracted over 2,000 potential customers.\\n\\n## Compensation History\\n- **2022**: Base Salary - $55,000 | Bonus - $5,000  \\n- **2023**: Base Salary - $65,000 | Bonus - $10,000 (for exceeding sales targets and exceptional teamwork)  \\n- **Projected for 2024**: Anticipated salary increase due to Alex Thomson\\'s significant contributions and successful completion of leadership training.\\n\\n## Other HR Notes\\n- Alex Thomson is an active member of the Diversity and Inclusion committee at Insurellm and has participated in various community outreach programs.  \\n- Alex has received external training on advanced CRM usage, which has subsequently improved team efficiency and productivity.\\n- Continuous professional development through attending sales conventions and workshops, with plans to pursue certification in Sales Enablement in 2024.\\n- Recognized by peers for promoting a supportive and high-energy team environment, often organizing team-building activities to enhance camaraderie within the SDR department. \\n\\n--- \\n**Comment:** Alex Thomson is considered a cornerstone of Insurellm’s sales team and has a bright future within the organization.'), Document(metadata={'source': 'knowledge-base\\\\employees\\\\Avery Lancaster.md', 'doc_type': 'employees'}, page_content=\"# Avery Lancaster\\n\\n## Summary\\n- **Date of Birth**: March 15, 1985  \\n- **Job Title**: Co-Founder & Chief Executive Officer (CEO)  \\n- **Location**: San Francisco, California  \\n\\n## Insurellm Career Progression\\n- **2015 - Present**: Co-Founder & CEO  \\n  Avery Lancaster co-founded Insurellm in 2015 and has since guided the company to its current position as a leading Insurance Tech provider. Avery is known for her innovative leadership strategies and risk management expertise that have catapulted the company into the mainstream insurance market.  \\n\\n- **2013 - 2015**: Senior Product Manager at Innovate Insurance Solutions  \\n  Before launching Insurellm, Avery was a leading Senior Product Manager at Innovate Insurance Solutions, where she developed groundbreaking insurance products aimed at the tech sector.  \\n\\n- **2010 - 2013**: Business Analyst at Edge Analytics  \\n  Prior to joining Innovate, Avery worked as a Business Analyst, focusing on market trends and consumer preferences in the insurance space. This position laid the groundwork for Avery’s future entrepreneurial endeavors.\\n\\n## Annual Performance History\\n- **2015**: **Exceeds Expectations**  \\n  Avery’s leadership during Insurellm's foundational year led to successful product launches and securing initial funding.  \\n\\n- **2016**: **Meets Expectations**  \\n  Growth continued, though challenges arose in operational efficiency that required Avery's attention.  \\n\\n- **2017**: **Developing**  \\n  Market competition intensified, and monthly sales metrics were below targets. Avery implemented new strategies which required a steep learning curve.  \\n\\n- **2018**: **Exceeds Expectations**  \\n  Under Avery’s pivoted vision, Insurellm launched two new successful products that significantly increased market share.  \\n\\n- **2019**: **Meets Expectations**  \\n  Steady growth, however, some team tensions led to a minor drop in employee morale. Avery recognized the need to enhance company culture.  \\n\\n- **2020**: **Below Expectations**  \\n  The COVID-19 pandemic posed unforeseen operational difficulties. Avery faced criticism for delayed strategy shifts, although efforts were eventually made to stabilize the company.  \\n\\n- **2021**: **Exceptional**  \\n  Avery's decisive transition to remote work and rapid adoption of digital tools led to record-high customer satisfaction levels and increased sales.  \\n\\n- **2022**: **Satisfactory**  \\n  Avery focused on rebuilding team dynamics and addressing employee concerns, leading to overall improvement despite a saturated market.  \\n\\n- **2023**: **Exceeds Expectations**  \\n  Market leadership was regained with innovative approaches to personalized insurance solutions. Avery is now recognized in industry publications as a leading voice in Insurance Tech innovation.\\n\\n## Compensation History\\n- **2015**: $150,000 base salary + Significant equity stake  \\n- **2016**: $160,000 base salary + Equity increase  \\n- **2017**: $150,000 base salary + Decrease in bonus due to performance  \\n- **2018**: $180,000 base salary + performance bonus of $30,000  \\n- **2019**: $185,000 base salary + market adjustment + $5,000 bonus  \\n- **2020**: $170,000 base salary (temporary reduction due to COVID-19)  \\n- **2021**: $200,000 base salary + performance bonus of $50,000  \\n- **2022**: $210,000 base salary + retention bonus  \\n- **2023**: $225,000 base salary + $75,000 performance bonus  \\n\\n## Other HR Notes\\n- **Professional Development**: Avery has actively participated in leadership training programs and industry conferences, representing Insurellm and fostering partnerships.  \\n- **Diversity & Inclusion Initiatives**: Avery has championed a commitment to diversity in hiring practices, seeing visible improvements in team representation since 2021.  \\n- **Work-Life Balance**: Feedback revealed concerns regarding work-life balance, which Avery has approached by implementing flexible working conditions and ensuring regular check-ins with the team.\\n- **Community Engagement**: Avery led community outreach efforts, focusing on financial literacy programs, particularly aimed at underserved populations, improving Insurellm's corporate social responsibility image.  \\n\\nAvery Lancaster has demonstrated resilience and adaptability throughout her career at Insurellm, positioning the company as a key player in the insurance technology landscape.\"), Document(metadata={'source': 'knowledge-base\\\\employees\\\\Emily Carter.md', 'doc_type': 'employees'}, page_content='# HR Record\\n\\n# Emily Carter\\n\\n## Summary\\n- **Date of Birth:** August 12, 1990  \\n- **Job Title:** Account Executive  \\n- **Location:** Austin, Texas  \\n\\n## Insurellm Career Progression\\n- **2021-Present:** Account Executive  \\n  - Responsibilities include managing a portfolio of B2B clients, conducting sales presentations, and ensuring customer satisfaction.  \\n  - Achievements: \\n    - Exceeded annual sales target by 30% in 2022.\\n    - Instrumental in acquiring 15 new corporate clients in half a year.\\n  \\n- **2019-2021:** Sales Coordinator  \\n  - Supported the sales team with administrative tasks, lead generation, and customer follow-ups.\\n  - Achievements:\\n    - Implemented a new lead tracking system that improved workflow efficiency by 25%.  \\n    - Received \"Employee of the Month\" award twice for outstanding contribution to team goals.  \\n\\n- **2017-2019:** Marketing Intern  \\n  - Assisted with market research and campaign development for social media outreach.  \\n  - Achievements:  \\n    - Contributed ideas for a social media campaign that increased brand awareness by 40% within 6 months.  \\n\\n## Annual Performance History\\n| Year | Performance Rating | Key Highlights |\\n|------|--------------------|----------------|\\n| 2023 | 4.8/5              | Recognized for exceptional client feedback and teamwork during product launches. |\\n| 2022 | 4.5/5              | Led a successful cross-selling initiative that boosted revenue in existing accounts. |\\n| 2021 | 4.2/5              | Successfully onboarded new clients and established strong relationships that resulted in renewals. |\\n\\n## Compensation History\\n| Year | Base Salary | Bonus         | Total Compensation |\\n|------|-------------|---------------|--------------------|\\n| 2023 | $70,000     | $10,000       | $80,000            |\\n| 2022 | $65,000     | $8,000        | $73,000            |\\n| 2021 | $60,000     | $5,000        | $65,000            |\\n\\n## Other HR Notes\\n- **Professional Development:** Emily is currently enrolled in a leadership training program to enhance her management skills and aims to move into a senior account role within the next 2 years.  \\n- **Volunteer Work:** Actively participates in community outreach programs, representing Insurellm in charity events to promote corporate social responsibility.  \\n- **Interests:** In her spare time, Emily enjoys hiking, photography, and volunteering at local animal shelters.  \\n- **Team Feedback:** Colleagues describe Emily as a highly motivated team player who consistently uplifts everyone around her.  \\n\\nEmily Carter exemplifies the kind of talent that drives Insurellm\\'s success and is an invaluable asset to the company.'), Document(metadata={'source': 'knowledge-base\\\\employees\\\\Emily Tran.md', 'doc_type': 'employees'}, page_content='# HR Record\\n\\n# Emily Tran\\n\\n## Summary\\n- **Date of Birth:** March 18, 1991  \\n- **Job Title:** Digital Marketing Specialist  \\n- **Location:** San Francisco, CA  \\n\\n---\\n\\n## Insurellm Career Progression\\n- **February 2020 - Present**: Digital Marketing Specialist  \\n   - Emily Tran has been pivotal in enhancing Insurellm\\'s online presence through targeted social media campaigns and SEO strategies.\\n   - Successfully managed a team of interns for the \\'Spring Into Safety\\' initiative, increasing customer engagement by 35%.\\n\\n- **June 2018 - January 2020**: Marketing Coordinator  \\n  - Assisted in the development and execution of marketing campaigns to promote Insurellm\\'s products.\\n  - Collected and analyzed data on customer demographics to inform Insurellm’s marketing strategies.\\n\\n- **January 2017 - May 2018**: Marketing Intern  \\n  - Supported the Marketing team by collaborating on content creation and digital advertising projects.\\n  - Gained hands-on experience with marketing automation tools, enriching her skillset for her role in Insurellm.\\n\\n---\\n\\n## Annual Performance History\\n- **2023**:  \\n  - Performance Rating: Exceeds Expectations  \\n  - Key Achievements: Led the \"Tech the Halls\" campaign that resulted in a 50% increase in leads during the holiday season. \\n  - Emily Tran\\'s innovative strategies and attention to detail have made her stand out among her peers.\\n\\n- **2022**:  \\n  - Performance Rating: Meets Expectations  \\n  - Key Achievements: Enhanced Insurellm\\'s email marketing strategy, achieving a 25% open rate increase.\\n\\n- **2021**:  \\n  - Performance Rating: Meets Expectations  \\n  - Key Achievements: Contributed to the launch of a customer referral program that resulted in a 15% growth in B2C customers.\\n\\n---\\n\\n## Compensation History\\n- **2023**:  \\n  - Base Salary: $75,000  \\n  - Bonus: $10,000 for exceeding annual targets.\\n\\n- **2022**:  \\n  - Base Salary: $70,000  \\n  - Bonus: $5,000 for achieving marketing milestones.\\n\\n- **2021**:  \\n  - Base Salary: $67,500  \\n  - No bonus due to reallocation of marketing funds during the pandemic.\\n\\n---\\n\\n## Other HR Notes\\n- **Training Completed**:  \\n  - Advanced Digital Marketing Workshop (2021)  \\n  - Analytics and Reporting in Digital Advertising (2022)\\n\\n- **Professional Development Goals**:  \\n  - Emily Tran aims to become a Marketing Manager within the next two years, focusing on leading larger campaigns and developing junior team members.\\n\\n- **Hobbies**:  \\n  - Emily enjoys photography and regularly contributes to Insurellm\\'s social media content with her own high-quality images.\\n  - She is also passionate about sustainability and organizes monthly team volunteer events for environmental awareness. \\n\\n---\\n\\nEmily Tran continues to be a valuable asset to Insurellm, driving innovative marketing strategies that resonate with a diverse customer base. Her contributions have significantly enhanced the company\\'s branding and customer outreach efforts.'), Document(metadata={'source': 'knowledge-base\\\\employees\\\\Jordan Blake.md', 'doc_type': 'employees'}, page_content=\"# HR Record\\n\\n# Jordan Blake\\n\\n## Summary\\n- **Date of Birth:** March 15, 1993  \\n- **Job Title:** Sales Development Representative (SDR)  \\n- **Location:** Austin, Texas  \\n\\n## Insurellm Career Progression\\n- **2021-06:** Joined Insurellm as an Entry-Level SDR  \\n- **2022-02:** Promoted to Junior SDR after exceeding quarterly targets by 25%  \\n- **2022-12:** Recognized as SDR of the Month for three consecutive months  \\n- **2023-05:** Participated in the Insurellm Leadership Training Program  \\n\\n## Annual Performance History\\n- **2021:** First year at Insurellm; achieved 90% of monthly targets.  \\n  - **Feedback:** Strong potential shown in lead generation; needs improvement in follow-up techniques.  \\n- **2022:** Achieved 120% of targets; pioneered outreach strategies that increased customer engagement.  \\n  - **Feedback:** Jordan's innovative approach contributed significantly to team success; recommended for leadership training.  \\n- **2023:** Set to exceed annual targets by 30% in Q3; initiated successful partnerships that broadened market reach.  \\n  - **Feedback:** Exceptional communicator; exemplifies the values of Insurellm and promotes team collaboration.\\n\\n## Compensation History\\n- **2021-06:** Starting Salary: $50,000  \\n- **2022-04:** Merit-based increase: $55,000 (based on performance review)  \\n- **2023-06:** Performance bonus awarded: $5,000 (for exceeding goals as recognized in annual review)  \\n- **2023-09:** Salary adjustment due to promotion to Senior SDR: $65,000  \\n\\n## Other HR Notes\\n- Jordan has shown an interest in continuing education, actively participating in company-sponsored sales webinars.  \\n- Notable for involvement in the Insurellm volunteer program, assisting local charity events related to financial literacy.  \\n- Employee wellness advocate, consistently promotes team bonding activities and stress-relief workshops.  \\n- Plans to enroll in a course for advanced sales strategies in Q4 2023, aiming to further enhance his skills at Insurellm.\"), Document(metadata={'source': 'knowledge-base\\\\employees\\\\Jordan K. Bishop.md', 'doc_type': 'employees'}, page_content=\"# HR Record\\n\\n# Jordan K. Bishop\\n\\n## Summary\\n- **Date of Birth:** March 15, 1990\\n- **Job Title:** Frontend Software Engineer\\n- **Location:** Austin, Texas\\n\\n## Insurellm Career Progression\\n- **June 2018:** Hired as a Frontend Software Engineer.\\n- **August 2019:** Promoted to Senior Frontend Software Engineer due to outstanding contributions to the Insurellm web application redesign project.\\n- **March 2021:** Led a cross-functional team for the launch of Insurellm's customer portal, enhancing user experience and engagement.\\n- **January 2022:** Transitioned to a mentorship role, where Jordan K. Bishop began training junior engineers, which affected the focus on personal projects.\\n- **August 2023:** Returned to core development tasks but faced challenges adapting to new frameworks, leading to performance reviews reflecting a need for improvement.\\n\\n## Annual Performance History\\n- **2019:** Exceeds Expectations - Continuously delivered high-quality code and participated actively in team meetings.\\n- **2020:** Meets Expectations - Jordan K. Bishop maintained steady performance but faced challenges due to a higher workload from multiple projects.\\n- **2021:** Exceeds Expectations - Recognized for leadership during the customer portal project; received the “Innovation Award” for creative problem-solving.\\n- **2022:** Meets Expectations - While mentoring others, the shift in focus led to fewer contributions to new features, marking a decrease in performance.\\n- **2023:** Needs Improvement - Transitioning back to development has resulted in difficulties with recent technologies, prompting a performance improvement plan.\\n\\n## Compensation History\\n- **June 2018:** Starting Salary - $85,000\\n- **June 2019:** Salary Increase - $95,000 (Promotion to Senior Engineer)\\n- **June 2021:** Salary Increase - $105,000 with bonus for project leadership.\\n- **June 2022:** Salary Freeze due to company budget adjustments.\\n- **June 2023:** Salary Adjustment - $92,000 after performance review; adjustments made in consideration of recent struggles with adaptation.\\n\\n## Other HR Notes\\n- Jordan K. Bishop has been an integral part of club initiatives, including the Insurellm Code Reviews and Feedback Group, providing peer support.\\n- Active participant in the company's Diversity and Inclusion committee, promoting a positive work culture.\\n- Jordan has expressed interest in professional development courses, particularly those focused on modern web technologies, which are being considered for sponsorship by Insurellm.\\n- Engaged in a 6-month performance improvement plan as of August 2023, focusing on skill development and consistent performance monitoring. \\n\\nJordan K. Bishop is a valued member of the Insurellm family, exhibiting a commitment to growth and development despite recent challenges.\"), Document(metadata={'source': 'knowledge-base\\\\employees\\\\Maxine Thompson.md', 'doc_type': 'employees'}, page_content=\"# HR Record\\n\\n# Maxine Thompson\\n\\n## Summary\\n- **Date of Birth:** January 15, 1991  \\n- **Job Title:** Data Engineer  \\n- **Location:** Austin, Texas  \\n\\n## Insurellm Career Progression\\n- **January 2017 - October 2018**: **Junior Data Engineer**  \\n  * Maxine joined Insurellm as a Junior Data Engineer, focusing primarily on ETL processes and data integration tasks. She quickly learned Insurellm's data architecture, collaborating with other team members to streamline data workflows.  \\n- **November 2018 - December 2020**: **Data Engineer**  \\n  * In her new role, Maxine expanded her responsibilities to include designing comprehensive data models and improving data quality measures. Though she excelled in technical skills, communication issues with non-technical teams led to some project delays.  \\n- **January 2021 - Present**: **Senior Data Engineer**  \\n  * Maxine was promoted to Senior Data Engineer after successfully leading a pivotal project that improved data retrieval times by 30%. She now mentors junior engineers and is involved in strategic data initiatives, solidifying her position as a valued asset at Insurellm. She was recognized as Insurellm Innovator of the year in 2023, receiving the prestigious IIOTY 2023 award.  \\n\\n## Annual Performance History\\n- **2017**: *Meets Expectations*  \\n  Maxine showed potential in her role but struggled with initial project deadlines. Her adaptability and willingness to learn made positive impacts on her team.  \\n\\n- **2018**: *Exceeds Expectations*  \\n  Maxine improved significantly, becoming a reliable team member with strong problem-solving skills. She took on leadership in a project that automated data entry processes.  \\n\\n- **2019**: *Needs Improvement*  \\n  During this year, difficult personal circumstances affected Maxine's performance. She missed key deadlines and had several communication issues with stakeholders.  \\n\\n- **2020**: *Meets Expectations*  \\n  Maxine focused on regaining her footing and excelling with technical skills. She was stable, though not standout, in her contributions. Feedback indicated a need for more proactivity.  \\n\\n- **2021**: *Exceeds Expectations*  \\n  Maxine spearheaded the transition to a new data warehousing solution, significantly enhancing Insurellm’s data analytics capabilities. This major achievement bolstered her reputation within the company.  \\n\\n- **2022**: *Outstanding*  \\n  Maxine continued her upward trajectory, successfully implementing machine learning algorithms to predict customer behavior, which was well-received by the leadership team and improved client satisfaction.  \\n\\n- **2023**: *Exceeds Expectations*  \\n  Maxine has taken on mentoring responsibilities and is leading a cross-functional team for data governance initiatives, showcasing her leadership and solidifying her role at Insurellm.  \\n\\n## Compensation History\\n- **2017**: $70,000 (Junior Data Engineer)  \\n- **2018**: $75,000 (Junior Data Engineer)  \\n- **2019**: $80,000 (Data Engineer)  \\n- **2020**: $84,000 (Data Engineer)  \\n- **2021**: $95,000 (Senior Data Engineer)  \\n- **2022**: $110,000 (Senior Data Engineer)  \\n- **2023**: $120,000 (Senior Data Engineer)  \\n\\n## Other HR Notes\\n- Maxine participated in various company-sponsored trainings related to big data technologies and cloud infrastructure.  \\n- She was recognized for her contributions with the “Insurellm Innovator Award” in 2022.  \\n- Maxine is currently involved in the women-in-tech initiative and participates in mentorship programs to guide junior employees.  \\n- Future development areas include improving her stakeholder communication skills to ensure smoother project transitions and collaboration.  \"), Document(metadata={'source': 'knowledge-base\\\\employees\\\\Oliver Spencer.md', 'doc_type': 'employees'}, page_content='# HR Record\\n\\n# Oliver Spencer\\n\\n## Summary\\n- **Date of Birth**: May 14, 1990  \\n- **Job Title**: Backend Software Engineer  \\n- **Location**: Austin, Texas  \\n\\n## Insurellm Career Progression\\n- **March 2018**: Joined Insurellm as a Backend Developer I, focusing on API development for customer management systems.\\n- **July 2019**: Promoted to Backend Developer II after successfully leading a team project to revamp the claims processing system, reducing response time by 30%.\\n- **June 2021**: Transitioned to Backend Software Engineer with a broader role in architecture and system design, collaborating closely with the DevOps team.\\n- **September 2022**: Assigned as the lead engineer for the new \"Innovate\" initiative, aimed at integrating AI-driven solutions into existing products.\\n- **January 2023**: Awarded a mentorship role to guide new hires in backend technology and best practices within Insurellm.\\n\\n## Annual Performance History\\n- **2018**: **3/5** - Adaptable team player but still learning to take initiative.\\n- **2019**: **4/5** - Demonstrated strong problem-solving skills, outstanding contribution on the claims project.\\n- **2020**: **2/5** - Struggled with time management; fell behind on deadlines during a high-traffic release period.\\n- **2021**: **4/5** - Made a significant turnaround with organized work habits and successful project management.\\n- **2022**: **5/5** - Exceptional performance during the \"Innovate\" initiative, showcasing leadership and creativity.\\n- **2023**: **3/5** - Maintaining steady work; expectations for innovation not fully met, leading to discussions about goals.\\n\\n## Compensation History\\n- **March 2018**: Initial salary of $80,000.\\n- **July 2019**: Salary increased to $90,000 post-promotion.\\n- **June 2021**: Salary raised to $105,000 after role transition.\\n- **September 2022**: Salary adjustment to $120,000 due to increased responsibilities and performance.\\n- **January 2023**: Revised salary of $125,000 in recognition of mentorship role.\\n\\n## Other HR Notes\\n- Oliver enjoys a strong rapport with team members and is known for organizing regular team-building activities.\\n- Participated in Insurellm’s Hackathon in 2022, where he led a project that won “Best Overall Solution.” \\n- Pursuing AWS Certified Solutions Architect certification to enhance cloud skillset.\\n- Has expressed interest in further leadership opportunities within Insurellm and may consider project management roles in the future.'), Document(metadata={'source': 'knowledge-base\\\\employees\\\\Samantha Greene.md', 'doc_type': 'employees'}, page_content=\"# Samantha Greene\\n\\n## Summary\\n- **Date of Birth:** October 14, 1990\\n- **Job Title:** HR Generalist\\n- **Location:** Denver, Colorado\\n\\n## Insurellm Career Progression\\n- **2020** - Joined Insurellm as a HR Coordinator\\n  - Responsibilities included assisting with recruitment processes and managing employee onboarding.\\n- **2021** - Promoted to HR Generalist\\n  - Transitioned to a role with expanded responsibilities, including handling employee relations and benefits administration.\\n- **2022** - Completed the HR Leadership Development Program\\n  - Enhanced skills in conflict resolution and strategic planning.\\n- **2023** - Actively involved in initiating the company’s Diversity and Inclusion programs.\\n  - Samantha Greene played a key role in launching mentorship initiatives and employee resource groups.\\n\\n## Annual Performance History\\n- **2020:** Exceeds Expectations  \\n  Samantha Greene demonstrated exceptional organizational skills and contributed to a streamlined onboarding process, earning commendations from senior leadership.\\n\\n- **2021:** Meets Expectations  \\n  While proficient in her new role, Samantha Greene struggled with time management during peak recruitment seasons, resulting in occasional missed deadlines. \\n\\n- **2022:** Below Expectations  \\n  Samantha Greene faced challenges in balancing employee relations issues, thereby impacting her performance. Gaps in communication and follow-up led to a push for additional training.\\n\\n- **2023:** Meets Expectations  \\n  After attending workshops focused on conflict resolution, Samantha Greene successfully improved her handling of employee grievances, though minor issues still arose in managing multitasking within projects.\\n\\n## Compensation History\\n- **2020:** Base Salary - $55,000  \\n  The entry-level salary matched industry standards for HR Coordinators with limited experience.\\n\\n- **2021:** Base Salary - $65,000  \\n  Following her promotion, Samantha Greene received a raise commensurate with her new responsibilities.\\n\\n- **2022:** Base Salary - $65,000  \\n  No increase as a result of performance concerns; however, Samantha Greene continued to receive positive feedback for her participation in diversity initiatives.\\n\\n- **2023:** Base Salary - $70,000  \\n  Recognized for substantial improvement in employee relations management and contributions to company culture, leading to a well-deserved increase.\\n\\n## Other HR Notes\\n- Samantha Greene has expressed interest in pursuing an HR certification (SHRM-CP) to further her career growth within Insurellm. \\n- Participated in Insurellm's employee wellness program, promoting mental health resources among staff.\\n- Actively volunteers with local nonprofits and encourages staff involvement in community outreach programs, enhancing Insurellm's corporate social responsibility initiatives. \\n\\nSamantha Greene is a valuable asset to Insurellm, continuously working on professional development and contributing to a supportive workplace culture.\"), Document(metadata={'source': 'knowledge-base\\\\employees\\\\Samuel Trenton.md', 'doc_type': 'employees'}, page_content='# HR Record\\n\\n# Samuel Trenton\\n\\n## Summary\\n- **Date of Birth:** April 12, 1989  \\n- **Job Title:** Senior Data Scientist  \\n- **Location:** Austin, Texas  \\n\\n## Insurellm Career Progression\\n- **January 2020 - Present:** Senior Data Scientist  \\n  *Promoted for demonstrating exceptional analytical skills and leadership potential. Led several projects that improved customer segmentation strategies, resulting in a 15% increase in customer retention.*\\n\\n- **June 2018 - December 2019:** Data Scientist  \\n  *Joined the Insurellm team and worked on developing predictive modeling techniques to assess risk for both B2B and B2C customers. Received recognition for the success of the \"Risk Assessment Model\" project.*\\n\\n- **August 2016 - May 2018:** Junior Data Analyst  \\n  *Started at Insurellm as a Junior Data Analyst, focusing on data cleaning and preliminary analysis of customer data. Received training in various data visualization techniques, which aided in the transition to a Data Scientist role.*\\n\\n## Annual Performance History\\n- **2023:** Rating: 4.5/5  \\n  *Samuel exceeded expectations, successfully leading a cross-departmental project on AI-driven underwriting processes.*\\n\\n- **2022:** Rating: 3.0/5  \\n  *Some challenges in meeting deadlines and collaboration with the engineering team. Received constructive feedback and participated in a team communication workshop.*\\n\\n- **2021:** Rating: 4.0/5  \\n  *There was notable improvement in performance. Worked to enhance model accuracy, leading to improved risk assessment outcomes for B2C customers.*\\n\\n- **2020:** Rating: 3.5/5  \\n  *Exhibited a solid performance during the initial year as a Senior Data Scientist but had struggles adapting to new leadership expectations.*\\n\\n## Compensation History\\n- **2023:** Base Salary: $115,000 + Bonus: $15,000  \\n  *Annual bonus based on successful project completions and performance metrics.*\\n\\n- **2022:** Base Salary: $110,000 + Bonus: $10,000  \\n  *Slight decrease in bonus due to performance challenges during the year.*\\n\\n- **2021:** Base Salary: $105,000 + Bonus: $12,000  \\n  *Merit-based increase, reflecting consistent contributions to the data science team.*\\n\\n- **2020:** Base Salary: $100,000 + Bonus: $8,000  \\n  *Initial compensation as Senior Data Scientist, with a focus on building rapport with cross-functional teams.*\\n\\n## Other HR Notes\\n- **Professional Development:** Completed several workshops on machine learning and AI applications in insurance. Currently pursuing an online certification in deep learning.\\n\\n- **Engagement in Company Culture:** Regularly participates in team-building events and contributes to the internal newsletter, sharing insights on data science trends.\\n\\n- **Areas for Improvement:** Collaboration with engineering teams has been noted as an area needing focus. Samuel has expressed a desire to work closely with tech teams to align data initiatives better.\\n\\n- **Personal Interests:** Has a keen interest in hiking and photography, often sharing his photography from weekend hikes with colleagues, fostering positive team relationships.'), Document(metadata={'source': 'knowledge-base\\\\products\\\\Carllm.md', 'doc_type': 'products'}, page_content='# Product Summary\\n\\n# Carllm\\n\\n## Summary\\n\\nCarllm is an innovative auto insurance product developed by Insurellm, designed to streamline the way insurance companies offer coverage to their customers. Powered by cutting-edge artificial intelligence, Carllm utilizes advanced algorithms to deliver personalized auto insurance solutions, ensuring optimal coverage while minimizing costs. With a robust infrastructure that supports both B2B and B2C customers, Carllm redefines the auto insurance landscape and empowers insurance providers to enhance customer satisfaction and retention.\\n\\n## Features\\n\\n- **AI-Powered Risk Assessment**: Carllm leverages artificial intelligence to analyze driver behavior, vehicle conditions, and historical claims data. This enables insurers to make informed decisions and set competitive premiums that reflect true risk profiles.\\n\\n- **Instant Quoting**: With Carllm, insurance companies can offer near-instant quotes to customers, enhancing the customer experience. The AI engine processes data in real-time, drastically reducing the time it takes to generate quotes.\\n\\n- **Customizable Coverage Plans**: Carllm allows insurers to create flexible and tailored insurance packages based on individual customer needs. This customization improves customer engagement and retention.\\n\\n- **Fraud Detection**: The product incorporates advanced analytics to identify potentially fraudulent claims, significantly reducing the risk of losses for insurance providers.\\n\\n- **Customer Insights Dashboard**: Carllm provides insurers with a powerful dashboard that offers deep insights into customer behavior, claims patterns, and market trends, enabling informed decision-making and strategic planning.\\n\\n- **Mobile Integration**: Carllm is designed to work seamlessly with mobile applications, providing both insurers and end-users access to policy management and claims reporting on the go.\\n\\n- **Automated Customer Support**: Leveraging AI chatbots, Carllm offers 24/7 customer support, helping to resolve inquiries quickly and efficiently, thus improving customer satisfaction.\\n\\n## Pricing\\n\\nCarllm is offered under a subscription-based pricing model tailored to meet the needs of insurance companies of all sizes. Our pricing tiers are designed to provide maximum flexibility and value:\\n\\n- **Basic Tier**: $1,000/month\\n  - Ideal for small insurance firms.\\n  - Access to core features and standard reporting.\\n\\n- **Professional Tier**: $2,500/month\\n  - For medium-sized companies.\\n  - All Basic Tier features plus advanced analytics and fraud detection.\\n\\n- **Enterprise Tier**: $5,000/month\\n  - Customized solutions for large insurance firms.\\n  - Comprehensive support, full feature access, and integration with existing systems.\\n\\nContact our sales team for a personalized quote and discover how Carllm can transform your auto insurance offerings!\\n\\n## 2025-2026 Roadmap\\n\\nIn our commitment to continuous improvement and innovation, Insurellm has outlined the following roadmap for Carllm:\\n\\n### Q1 2025: Launch Feature Enhancements\\n- **Expanded data integrations** for better risk assessment.\\n- **Enhanced fraud detection algorithms** to reduce losses.\\n\\n### Q2 2025: Customer Experience Improvements\\n- Launch of a new **mobile app** for end-users.\\n- Introduction of **telematics-based pricing** to provide even more tailored coverage options.\\n\\n### Q3 2025: Global Expansion\\n- Begin pilot programs for international insurance markets.\\n- Collaborate with local insurers to offer compliant, localized versions of Carllm.\\n\\n### Q4 2025: AI and Machine Learning Upgrades\\n- Implement next-gen machine learning models for predictive analysis.\\n- Roll out customer insights dashboard updates based on user feedback.\\n\\n### 2026: Scaling and Partnerships\\n- Increase partnerships with automakers for integrated insurance solutions.\\n- Enhance the **AI customer support system** to include multi-language support.\\n\\nCarllm is not just an auto insurance product; it is a transformative tool for the insurance industry. Join us on this exciting journey as we redefine the future of auto insurance with technology and customer-centric solutions.'), Document(metadata={'source': 'knowledge-base\\\\products\\\\Homellm.md', 'doc_type': 'products'}, page_content=\"# Product Summary\\n\\n# Homellm\\n\\n## Summary\\nHomellm is an innovative home insurance product developed by Insurellm that leverages advanced AI technology to revolutionize the way insurance providers offer coverage to homeowners. Designed for both B2B and B2C segments, Homellm empowers insurers to provide personalized, data-driven policies, enhancing customer experience while minimizing risk and operational costs. By integrating seamlessly with existing systems, Homellm helps insurance companies streamline their processes and stay competitive in the ever-evolving insurance industry.\\n\\n## Features\\n### 1. AI-Powered Risk Assessment\\nHomellm utilizes sophisticated AI algorithms to analyze vast datasets, allowing insurance companies to assess risks accurately. This feature provides real-time insights for underwriting decisions, enabling insurers to tailor policies to individual customer needs.\\n\\n### 2. Dynamic Pricing Model\\nWith Homellm's innovative dynamic pricing model, insurance providers can offer flexible premiums based on real-time risk evaluations and historical data. This adaptability ensures that customers pay a fair price that accurately reflects their unique risk profile.\\n\\n### 3. Instant Claim Processing\\nThe AI-driven claims management system in Homellm automates the entire claims process, reducing processing time from weeks to hours. Insurers can resolve claims quickly and efficiently, leading to enhanced customer satisfaction.\\n\\n### 4. Predictive Maintenance Alerts\\nHomellm incorporates predictive analytics to advise homeowners on potential risks and maintenance needs. By preventing issues before they arise, this feature helps customers minimize hazards, lowering the likelihood of claims.\\n\\n### 5. Multi-Channel Integration\\nHomellm seamlessly integrates into existing insurance platforms, providing a centralized hub for managing customer policies and claims. Insurance providers can easily access customer data, allowing for improved service delivery across various channels.\\n\\n### 6. Customer Portal\\nA user-friendly online portal and mobile application enables customers to manage their policies, submit claims, and view coverage details 24/7. Homellm prioritizes transparency and ease of use, helping insurers foster trust and long-term relationships with their customers.\\n\\n## Pricing\\nAt Insurellm, we believe in providing value without compromising quality. The pricing for Homellm is structured based on the size of the insurance provider and the level of customization required. \\n\\n- **Basic Tier:** Starting at $5,000/month for small insurers with basic integration features.\\n- **Standard Tier:** Starting at $10,000/month for medium-sized insurers including advanced analytics and reporting tools.\\n- **Enterprise Tier:** Custom pricing for large insurance companies that require full customization, dedicated support, and additional features, such as enterprise-grade security and compliance.\\n\\nAll tiers include a comprehensive training program and ongoing updates to ensure optimal performance.\\n\\n## Roadmap\\nThe development roadmap for Homellm includes the following key milestones:\\n\\n- **Q1 2024:** Launch of Homellm version 1.0, featuring core functionalities and integrations.\\n- **Q3 2024:** Introduction of enhanced analytics capabilities, including visualization tools and advanced reporting features.\\n- **Q1 2025:** Release of Homellm version 2.0, with expanded predictive maintenance alerts and automated underwriting processes.\\n- **Q3 2025:** Establish partnerships with IoT device manufacturers to provide integrated solutions for proactive risk management.\\n- **Q1 2026:** Ongoing improvements based on user feedback and industry trends, ensuring that Homellm remains at the forefront of home insurance technology. \\n\\nWith Homellm, Insurellm is committed to transforming the landscape of home insurance, ensuring both innovation and reliability for all insurance providers and their customers. Explore the future of home insurance today with Homellm!\"), Document(metadata={'source': 'knowledge-base\\\\products\\\\Markellm.md', 'doc_type': 'products'}, page_content=\"# Product Summary\\n\\n# Markellm\\n\\n## Summary\\n\\nMarkellm is an innovative two-sided marketplace designed to seamlessly connect consumers with insurance companies. Powered by advanced matching AI, Markellm transforms the insurance shopping experience, making it more efficient, personalized, and accessible. Whether you're a homeowner searching for the best rates on home insurance or an insurer looking to reach new customers, Markellm acts as the ultimate bridge, delivering tailored solutions for all parties involved. With a user-friendly interface and powerful algorithms, Markellm not only saves time but also enhances decision-making in the often-complex insurance landscape.\\n\\n## Features\\n\\n- **AI-Powered Matching**: Markellm utilizes sophisticated AI algorithms to match consumers with the most suitable insurance products based on their individual needs and preferences. This ensures that both parties get the best possible options.\\n\\n- **User-Friendly Interface**: Designed with user experience in mind, Markellm features an intuitive interface that allows consumers to easily browse and compare various insurance offerings from multiple providers.\\n\\n- **Real-Time Quotes**: Consumers can receive real-time quotes from different insurance companies, empowering them to make informed decisions quickly without endless back-and-forth communication.\\n\\n- **Customized Recommendations**: Based on user profiles and preferences, Markellm provides personalized insurance recommendations, ensuring consumers find the right coverage at competitive rates.\\n\\n- **Secure Transactions**: Markellm prioritizes security, employing robust encryption methods to ensure that all transactions and data exchanges are safe and secure.\\n\\n- **Customer Support**: Our dedicated support team is always available to assist both consumers and insurers throughout the process, providing guidance and answering any questions that may arise.\\n\\n- **Data Insights**: Insurers gain access to valuable data insights through Markellm's analytics dashboard, helping them understand market trends and consumer behavior to refine their offerings.\\n\\n## Pricing\\n\\nAt Markellm, we believe in transparency and flexibility. Our pricing structure is designed to accommodate different types of users—whether you're a consumer seeking insurance or an insurance provider seeking customers.\\n\\n### For Consumers:\\n- **Free Membership**: Access to the marketplace at no cost, allowing unlimited browsing and comparisons.\\n- **Premium Features**: Optional subscription at $9.99/month for advanced analytics on choices, priority customer support, and enhanced customization options.\\n\\n### For Insurance Companies:\\n- **Basic Listing Fee**: $199/month for a featured listing on the platform, providing exposure to thousands of potential customers.\\n- **Performance-Based Pricing**: Option for variable pricing based on successful customer acquisitions— pay $25 per lead generated through Markellm.\\n\\n## 2025-2026 Roadmap\\n\\n### Q1 2025\\n- Launch a mobile app version of Markellm, making it even easier for consumers and insurers to connect on-the-go.\\n- Introduce a referral program that rewards users for promoting Markellm to their network.\\n\\n### Q2 2025\\n- Expand the marketplace to include additional insurance products, such as life and health insurance.\\n- Partner with third-party data aggregators to enhance the accuracy of our AI matching capabilities.\\n\\n### Q3 2025\\n- Initiate a comprehensive marketing campaign targeting both consumers and insurers to increase user acquisition and brand awareness.\\n- Release user testimonials and case studies showcasing successful matches made through Markellm.\\n\\n### Q4 2026\\n- Implement machine learning enhancements to our AI algorithm, further increasing the precision and personalization of matches.\\n- Explore international expansion opportunities, launching in select markets outside the US.\\n\\nMarkellm is committed to improving the insurance experience for both consumers and providers. By leveraging technology and user insights, we aim to become the leading platform in the insurance marketplace ecosystem. Join us on this exciting journey towards smarter, more efficient insurance solutions!\"), Document(metadata={'source': 'knowledge-base\\\\products\\\\Rellm.md', 'doc_type': 'products'}, page_content=\"# Product Summary\\n\\n# Rellm: AI-Powered Enterprise Reinsurance Solution\\n\\n## Summary\\n\\nRellm is an innovative enterprise reinsurance product developed by Insurellm, designed to transform the way reinsurance companies operate. Harnessing the power of artificial intelligence, Rellm offers an advanced platform that redefines risk management, enhances decision-making processes, and optimizes operational efficiencies within the reinsurance industry. With seamless integrations and robust analytics, Rellm enables insurers to proactively manage their portfolios and respond to market dynamics with agility.\\n\\n## Features\\n\\n### AI-Driven Analytics\\nRellm utilizes cutting-edge AI algorithms to provide predictive insights into risk exposures, enabling users to forecast trends and make informed decisions. Its real-time data analysis empowers reinsurance professionals with actionable intelligence.\\n\\n### Seamless Integrations\\nRellm's architecture is designed for effortless integration with existing systems. Whether it's policy management, claims processing, or financial reporting, Rellm connects seamlessly with diverse data sources to create a unified ecosystem.\\n\\n### Risk Assessment Module\\nThe comprehensive risk assessment module within Rellm allows insurers to evaluate risk profiles accurately. By leveraging historical data and advanced modeling techniques, Rellm provides a clear picture of potential liabilities and expected outcomes.\\n\\n### Customizable Dashboard\\nRellm features a customizable dashboard that presents key metrics and performance indicators in an intuitive interface. Users can tailor their view to focus on what matters most to their business, enhancing user experience and productivity.\\n\\n### Regulatory Compliance Tools\\nRellm includes built-in compliance tracking features to help organizations meet local and international regulatory standards. This ensures that reinsurance practices remain transparent and accountable.\\n\\n### Client and Broker Portals\\nRellm offers dedicated portals for both clients and brokers, facilitating real-time communication and documentation sharing. This strengthens partnerships and drives operational excellence across the board.\\n\\n## Pricing\\n\\nInsurellm offers flexible pricing plans for Rellm to cater to various business needs:\\n\\n- **Basic Plan**: $5,000/month\\n  - Includes access to core features and standard integrations.\\n  \\n- **Professional Plan**: $10,000/month\\n  - Includes all features, advanced integrations, and priority customer support.\\n  \\n- **Enterprise Plan**: Custom pricing\\n  - Tailored solutions with personalized features, extensive integrations, and dedicated account management.\\n\\nJoin the growing number of organizations leveraging Rellm to enhance their reinsurance processes while driving profitability and compliance. \\n\\n## 2025-2026 Roadmap\\n\\nAt Insurellm, we are committed to the continuous improvement of Rellm. Our roadmap for 2025-2026 includes:\\n\\n- **Q3 2025**: \\n  - Launch of the Rellm Mobile App for on-the-go insights and management.\\n  - Introduction of augmented reality (AR) features for interactive risk assessments.\\n\\n- **Q1 2026**: \\n  - Deployment of advanced machine learning models for even more accurate risk predictions.\\n  - Expansion of integration capabilities to support emerging technologies in the insurance sector.\\n\\n- **Q3 2026**: \\n  - Release of a community platform for Rellm users to exchange insights, tips, and best practices.\\n  - Launch of Rellm 2.0, featuring enhanced user interface and premium features based on user feedback.\\n\\nExperience the future of reinsurance with Rellm, where innovation meets reliability. Let Insurellm help you navigate the complexities of the reinsurance market smarter and faster.\")]\n"
     ]
    }
   ],
   "source": [
    "print(documents)"
   ]
  },
  {
   "cell_type": "markdown",
   "id": "f065d4b1-80b7-4e15-abd4-60a83e752ea8",
   "metadata": {},
   "source": [
    "# Please note:\n",
    "\n",
    "In the next cell, we split the text into chunks.\n",
    "\n",
    "2 students let me know that the next cell crashed their computer.  \n",
    "They were able to fix it by changing the chunk_size from 1,000 to 2,000 and the chunk_overlap from 200 to 400.  \n",
    "This shouldn't be required; but if it happens to you, please make that change!  \n",
    "(Note that LangChain may give a warning about a chunk being larger than 1,000 - this can be safely ignored).\n",
    "\n",
    "_With much thanks to Steven W and Nir P for this valuable contribution._"
   ]
  },
  {
   "cell_type": "code",
   "execution_count": 8,
   "id": "7310c9c8-03c1-4efc-a104-5e89aec6db1a",
   "metadata": {},
   "outputs": [
    {
     "name": "stderr",
     "output_type": "stream",
     "text": [
      "Created a chunk of size 1088, which is longer than the specified 1000\n"
     ]
    }
   ],
   "source": [
    "text_splitter = CharacterTextSplitter(chunk_size=1000, chunk_overlap=200)\n",
    "chunks = text_splitter.split_documents(documents)"
   ]
  },
  {
   "cell_type": "code",
   "execution_count": 9,
   "id": "cd06e02f-6d9b-44cc-a43d-e1faa8acc7bb",
   "metadata": {},
   "outputs": [
    {
     "data": {
      "text/plain": [
       "123"
      ]
     },
     "execution_count": 9,
     "metadata": {},
     "output_type": "execute_result"
    }
   ],
   "source": [
    "len(chunks)"
   ]
  },
  {
   "cell_type": "code",
   "execution_count": 10,
   "id": "2c54b4b6-06da-463d-bee7-4dd456c2b887",
   "metadata": {},
   "outputs": [
    {
     "name": "stdout",
     "output_type": "stream",
     "text": [
      "Document types found: contracts, employees, products, company\n"
     ]
    }
   ],
   "source": [
    "doc_types = set(chunk.metadata['doc_type'] for chunk in chunks) # 使用set去重\n",
    "print(f\"Document types found: {', '.join(doc_types)}\")"
   ]
  },
  {
   "cell_type": "markdown",
   "id": "77f7d2a6-ccfa-425b-a1c3-5e55b23bd013",
   "metadata": {},
   "source": [
    "## A sidenote on Embeddings, and \"Auto-Encoding LLMs\"\n",
    "\n",
    "We will be mapping each chunk of text into a Vector that represents the meaning of the text, known as an embedding.\n",
    "\n",
    "OpenAI offers a model to do this, which we will use by calling their API with some LangChain code.\n",
    "\n",
    "This model is an example of an \"Auto-Encoding LLM\" which generates an output given a complete input.\n",
    "It's different to all the other LLMs we've discussed today, which are known as \"Auto-Regressive LLMs\", and generate future tokens based only on past context.\n",
    "\n",
    "Another example of an Auto-Encoding LLMs is BERT from Google. In addition to embedding, Auto-encoding LLMs are often used for classification.\n",
    "\n",
    "### Sidenote\n",
    "\n",
    "In week 8 we will return to RAG and vector embeddings, and we will use an open-source vector encoder so that the data never leaves our computer - that's an important consideration when building enterprise systems and the data needs to remain internal."
   ]
  },
  {
   "cell_type": "code",
   "execution_count": 11,
   "id": "78998399-ac17-4e28-b15f-0b5f51e6ee23",
   "metadata": {},
   "outputs": [
    {
     "name": "stderr",
     "output_type": "stream",
     "text": [
      "C:\\Users\\myhuuu\\AppData\\Local\\Temp\\ipykernel_25416\\1687908394.py:9: LangChainDeprecationWarning: The class `HuggingFaceEmbeddings` was deprecated in LangChain 0.2.2 and will be removed in 1.0. An updated version of the class exists in the :class:`~langchain-huggingface package and should be used instead. To use it run `pip install -U :class:`~langchain-huggingface` and import as `from :class:`~langchain_huggingface import HuggingFaceEmbeddings``.\n",
      "  embeddings = HuggingFaceEmbeddings(model_name=\"sentence-transformers/all-MiniLM-L6-v2\")\n"
     ]
    },
    {
     "data": {
      "application/vnd.jupyter.widget-view+json": {
       "model_id": "e7b14bf343a34530847556c6268ca023",
       "version_major": 2,
       "version_minor": 0
      },
      "text/plain": [
       "modules.json:   0%|          | 0.00/349 [00:00<?, ?B/s]"
      ]
     },
     "metadata": {},
     "output_type": "display_data"
    },
    {
     "name": "stderr",
     "output_type": "stream",
     "text": [
      "d:\\software\\anaconda3\\envs\\llms_engineering\\Lib\\site-packages\\huggingface_hub\\file_download.py:143: UserWarning: `huggingface_hub` cache-system uses symlinks by default to efficiently store duplicated files but your machine does not support them in D:\\cache\\huggingface\\hub\\models--sentence-transformers--all-MiniLM-L6-v2. Caching files will still work but in a degraded version that might require more space on your disk. This warning can be disabled by setting the `HF_HUB_DISABLE_SYMLINKS_WARNING` environment variable. For more details, see https://huggingface.co/docs/huggingface_hub/how-to-cache#limitations.\n",
      "To support symlinks on Windows, you either need to activate Developer Mode or to run Python as an administrator. In order to activate developer mode, see this article: https://docs.microsoft.com/en-us/windows/apps/get-started/enable-your-device-for-development\n",
      "  warnings.warn(message)\n"
     ]
    },
    {
     "data": {
      "application/vnd.jupyter.widget-view+json": {
       "model_id": "79b742d0352540ffb34f98c283ec8dcf",
       "version_major": 2,
       "version_minor": 0
      },
      "text/plain": [
       "config_sentence_transformers.json:   0%|          | 0.00/116 [00:00<?, ?B/s]"
      ]
     },
     "metadata": {},
     "output_type": "display_data"
    },
    {
     "data": {
      "application/vnd.jupyter.widget-view+json": {
       "model_id": "d9040af70f3542e39a4cddfb92f44003",
       "version_major": 2,
       "version_minor": 0
      },
      "text/plain": [
       "README.md:   0%|          | 0.00/10.5k [00:00<?, ?B/s]"
      ]
     },
     "metadata": {},
     "output_type": "display_data"
    },
    {
     "data": {
      "application/vnd.jupyter.widget-view+json": {
       "model_id": "de479aba339945169d67179c31a041ce",
       "version_major": 2,
       "version_minor": 0
      },
      "text/plain": [
       "sentence_bert_config.json:   0%|          | 0.00/53.0 [00:00<?, ?B/s]"
      ]
     },
     "metadata": {},
     "output_type": "display_data"
    },
    {
     "data": {
      "application/vnd.jupyter.widget-view+json": {
       "model_id": "dc9c7c8d6ed94c7fb8c2c5f1657405d2",
       "version_major": 2,
       "version_minor": 0
      },
      "text/plain": [
       "config.json:   0%|          | 0.00/612 [00:00<?, ?B/s]"
      ]
     },
     "metadata": {},
     "output_type": "display_data"
    },
    {
     "name": "stderr",
     "output_type": "stream",
     "text": [
      "Xet Storage is enabled for this repo, but the 'hf_xet' package is not installed. Falling back to regular HTTP download. For better performance, install the package with: `pip install huggingface_hub[hf_xet]` or `pip install hf_xet`\n"
     ]
    },
    {
     "data": {
      "application/vnd.jupyter.widget-view+json": {
       "model_id": "b44b3b4269a9490fb0747a85ddaad251",
       "version_major": 2,
       "version_minor": 0
      },
      "text/plain": [
       "model.safetensors:   0%|          | 0.00/90.9M [00:00<?, ?B/s]"
      ]
     },
     "metadata": {},
     "output_type": "display_data"
    },
    {
     "data": {
      "application/vnd.jupyter.widget-view+json": {
       "model_id": "3e908675d46b4cef99ea245e55c77584",
       "version_major": 2,
       "version_minor": 0
      },
      "text/plain": [
       "tokenizer_config.json:   0%|          | 0.00/350 [00:00<?, ?B/s]"
      ]
     },
     "metadata": {},
     "output_type": "display_data"
    },
    {
     "data": {
      "application/vnd.jupyter.widget-view+json": {
       "model_id": "aec4616ba90448fa8b40ab834aaffda1",
       "version_major": 2,
       "version_minor": 0
      },
      "text/plain": [
       "vocab.txt:   0%|          | 0.00/232k [00:00<?, ?B/s]"
      ]
     },
     "metadata": {},
     "output_type": "display_data"
    },
    {
     "data": {
      "application/vnd.jupyter.widget-view+json": {
       "model_id": "e860dee0c0634752bf488125eb864b5b",
       "version_major": 2,
       "version_minor": 0
      },
      "text/plain": [
       "tokenizer.json:   0%|          | 0.00/466k [00:00<?, ?B/s]"
      ]
     },
     "metadata": {},
     "output_type": "display_data"
    },
    {
     "data": {
      "application/vnd.jupyter.widget-view+json": {
       "model_id": "9fa2b6748a8b45bea6a32f79a7bf13b8",
       "version_major": 2,
       "version_minor": 0
      },
      "text/plain": [
       "special_tokens_map.json:   0%|          | 0.00/112 [00:00<?, ?B/s]"
      ]
     },
     "metadata": {},
     "output_type": "display_data"
    },
    {
     "data": {
      "application/vnd.jupyter.widget-view+json": {
       "model_id": "28e5bee67a464bc58b865761fe1aded2",
       "version_major": 2,
       "version_minor": 0
      },
      "text/plain": [
       "config.json:   0%|          | 0.00/190 [00:00<?, ?B/s]"
      ]
     },
     "metadata": {},
     "output_type": "display_data"
    }
   ],
   "source": [
    "# Put the chunks of data into a Vector Store that associates a Vector Embedding with each chunk\n",
    "\n",
    "# embeddings = OpenAIEmbeddings()\n",
    "\n",
    "# If you would rather use the free Vector Embeddings from HuggingFace sentence-transformers\n",
    "# Then replace embeddings = OpenAIEmbeddings()\n",
    "# with:\n",
    "from langchain.embeddings import HuggingFaceEmbeddings\n",
    "embeddings = HuggingFaceEmbeddings(model_name=\"sentence-transformers/all-MiniLM-L6-v2\")"
   ]
  },
  {
   "cell_type": "code",
   "execution_count": 12,
   "id": "763e51ff-5787-4a56-8176-36b7c5796fe3",
   "metadata": {},
   "outputs": [],
   "source": [
    "# Check if a Chroma Datastore already exists - if so, delete the collection to start from scratch\n",
    "\n",
    "if os.path.exists(db_name):\n",
    "    Chroma(persist_directory=db_name, embedding_function=embeddings).delete_collection()"
   ]
  },
  {
   "cell_type": "code",
   "execution_count": 13,
   "id": "99fe3a37-480f-4d55-be48-120588d5846b",
   "metadata": {},
   "outputs": [
    {
     "name": "stdout",
     "output_type": "stream",
     "text": [
      "Vectorstore created with 123 documents\n"
     ]
    }
   ],
   "source": [
    "# Create our Chroma vectorstore!\n",
    "\n",
    "vectorstore = Chroma.from_documents(documents=chunks, embedding=embeddings, persist_directory=db_name)\n",
    "print(f\"Vectorstore created with {vectorstore._collection.count()} documents\")"
   ]
  },
  {
   "cell_type": "code",
   "execution_count": 15,
   "id": "057868f6-51a6-4087-94d1-380145821550",
   "metadata": {},
   "outputs": [
    {
     "name": "stdout",
     "output_type": "stream",
     "text": [
      "{'ids': ['f4217b8f-d38f-4ddb-b0bd-bbcda91d022b'], 'embeddings': array([[-4.51702289e-02, -4.03837115e-03, -4.76738065e-02,\n",
      "         5.79420365e-02,  7.09055085e-03, -1.20240906e-02,\n",
      "         1.13990404e-01,  3.22364978e-02, -2.38573346e-02,\n",
      "        -2.50851680e-02,  7.44797289e-02,  2.48318519e-02,\n",
      "         1.05261981e-01, -2.77122390e-02, -3.79517823e-02,\n",
      "         1.81515012e-02, -1.18474700e-02, -4.32383046e-02,\n",
      "         3.21236514e-02,  2.71694474e-02, -4.61054370e-02,\n",
      "        -4.26115748e-03, -1.15558309e-02, -8.19229614e-03,\n",
      "        -3.33760642e-02,  6.54421654e-03,  4.88266498e-02,\n",
      "         3.43602151e-02, -3.53719741e-02, -5.88528961e-02,\n",
      "        -1.16648413e-02, -3.25214863e-02,  2.13794466e-02,\n",
      "         6.14821576e-02,  1.26224617e-03,  1.59482993e-02,\n",
      "        -2.78290100e-02, -7.27213100e-02, -9.33095440e-02,\n",
      "         4.26133443e-03,  3.62291224e-02, -2.61924379e-02,\n",
      "        -4.81943563e-02, -2.92451885e-02, -9.08270702e-02,\n",
      "         5.86406998e-02,  4.04887050e-02,  6.68056980e-02,\n",
      "        -5.96315973e-02,  1.25992000e-01, -2.81627700e-02,\n",
      "         5.62680140e-02,  2.90568415e-02, -5.17439581e-02,\n",
      "        -2.20289156e-02, -1.88408941e-02, -4.46904451e-02,\n",
      "        -1.29052158e-02, -7.19451010e-02, -6.48973882e-02,\n",
      "         5.76532595e-02,  2.73288339e-02, -5.86839244e-02,\n",
      "         5.96785285e-02, -5.05450591e-02,  6.79686964e-02,\n",
      "         1.02982640e-01,  1.29486233e-01, -1.27733992e-02,\n",
      "        -7.13688880e-02,  7.87820071e-02, -9.12843794e-02,\n",
      "         1.66152436e-02,  6.69939741e-02, -2.13634837e-02,\n",
      "         2.19272338e-02,  6.92718197e-03,  1.74605306e-02,\n",
      "        -1.69388931e-02, -5.71900494e-02, -8.82360525e-03,\n",
      "        -4.26466651e-02,  6.88562244e-02,  4.35564555e-02,\n",
      "        -3.34248096e-02,  6.45424500e-02, -4.92105335e-02,\n",
      "        -3.70661467e-02,  4.67712320e-02, -2.75494773e-02,\n",
      "         2.65480950e-02,  8.51867534e-03, -1.00642689e-01,\n",
      "        -2.52060965e-02,  1.07471682e-02, -4.33035158e-02,\n",
      "        -6.46335185e-02, -9.65611637e-03, -5.84280044e-02,\n",
      "         2.62037646e-02, -4.68233377e-02,  3.95896360e-02,\n",
      "         1.48222893e-02,  3.56702432e-02,  4.66044014e-03,\n",
      "        -9.32681784e-02, -2.09247973e-02,  6.97035436e-03,\n",
      "         1.08305752e-01,  4.27837744e-02, -1.01844762e-02,\n",
      "        -4.48177755e-02,  3.36762555e-02,  3.90458293e-02,\n",
      "         2.58668642e-02, -6.46437630e-02, -2.61345562e-02,\n",
      "        -1.53385308e-02,  1.09725736e-01, -6.45134300e-02,\n",
      "         5.65448068e-02,  6.84373155e-02, -6.12878427e-02,\n",
      "        -5.49484827e-02, -9.01258513e-02,  8.80382657e-02,\n",
      "        -1.08962245e-02,  1.87315392e-33, -4.42026556e-03,\n",
      "         1.15845382e-01,  3.16276290e-02,  7.44844079e-02,\n",
      "         4.04200815e-02,  9.68617294e-03,  4.63092327e-02,\n",
      "         4.27445546e-02, -6.94032386e-03, -4.64724340e-02,\n",
      "        -4.42888290e-02, -8.15009549e-02,  2.47626118e-02,\n",
      "         3.07595427e-03, -6.41970187e-02, -5.36688603e-03,\n",
      "        -8.38096961e-02,  1.99778546e-02, -1.11008780e-02,\n",
      "         1.97610259e-02, -5.54999523e-02,  5.42536452e-02,\n",
      "         1.01588152e-01, -9.26374793e-02, -2.94418703e-03,\n",
      "         3.67198065e-02,  1.91202499e-02,  9.14467778e-03,\n",
      "         7.60403201e-02,  3.49372998e-02,  6.47009537e-02,\n",
      "         2.12100912e-02, -1.72482692e-02, -6.57219142e-02,\n",
      "         5.02805524e-02,  4.00595181e-02, -5.87127954e-02,\n",
      "        -9.59531218e-02, -1.42265689e-02, -1.72388740e-02,\n",
      "        -5.03245648e-03, -2.82435976e-02,  9.53426659e-02,\n",
      "        -3.68662737e-02, -5.64250723e-02,  3.79587407e-03,\n",
      "        -4.06035371e-02, -1.69737432e-02,  4.50246893e-02,\n",
      "        -1.14824280e-01, -5.86560071e-02, -1.24749979e-02,\n",
      "        -1.87464077e-02,  4.69910027e-03,  5.88910766e-02,\n",
      "        -1.77015308e-02, -8.83172378e-02,  9.28201247e-03,\n",
      "         6.09904900e-03,  4.07874875e-04, -7.73805156e-02,\n",
      "         2.32593212e-02, -8.12786072e-03,  1.72662351e-03,\n",
      "         1.16494379e-03,  1.68217532e-02, -4.49755304e-02,\n",
      "         1.15790514e-04,  1.54576143e-02, -1.06168063e-02,\n",
      "         3.43373232e-02,  1.75278187e-02,  4.90923121e-04,\n",
      "        -3.22449505e-02,  2.52886526e-02,  1.17190890e-02,\n",
      "        -1.77157447e-02,  1.89313721e-02, -6.02473458e-03,\n",
      "         1.04745068e-02,  4.88474332e-02, -1.66951008e-02,\n",
      "         1.12187132e-01,  1.38228247e-02,  3.45308594e-02,\n",
      "        -7.46321306e-02,  1.07070804e-02,  1.50382677e-02,\n",
      "        -9.76538286e-03,  4.21516150e-02,  1.70144215e-02,\n",
      "         1.82011239e-02, -2.38734353e-02,  1.06678717e-01,\n",
      "        -1.07833138e-02, -4.18317848e-33, -2.13428531e-02,\n",
      "        -3.41331214e-02,  1.23024561e-01,  7.95304030e-02,\n",
      "        -6.32814271e-03, -7.19609782e-02, -3.22234556e-02,\n",
      "         3.14570069e-02,  1.29053770e-02,  6.32250011e-02,\n",
      "         7.87537172e-02,  3.32515687e-02,  1.85758490e-02,\n",
      "         1.41192535e-02, -1.87546723e-02,  2.30842829e-02,\n",
      "         4.80952673e-02, -8.74367729e-02,  2.01784391e-02,\n",
      "        -7.73821846e-02,  3.92169170e-02, -7.81398173e-03,\n",
      "        -4.20822017e-02,  5.93919680e-02, -2.98310760e-02,\n",
      "        -2.06886027e-02,  1.69371162e-02, -2.28610379e-03,\n",
      "         6.04790598e-02,  1.17409630e-02, -1.40298512e-02,\n",
      "         2.88494583e-02, -3.34352590e-02,  2.81561352e-02,\n",
      "        -8.14818814e-02,  6.02091365e-02, -1.70168020e-02,\n",
      "         1.07052043e-01, -4.06268984e-02, -7.18007684e-02,\n",
      "         5.94422780e-02, -7.96236470e-02, -6.35006726e-02,\n",
      "        -6.61739334e-02,  3.65681536e-02, -4.38845567e-02,\n",
      "         4.47431132e-02, -5.96863404e-02,  3.45575176e-02,\n",
      "         2.03191210e-02, -5.17547503e-02,  4.43700142e-03,\n",
      "         2.64554322e-02, -2.06682850e-02, -7.21154138e-02,\n",
      "        -4.41170894e-02, -4.50437739e-02,  1.37802390e-02,\n",
      "        -8.47419649e-02, -5.74726006e-03, -1.37304356e-02,\n",
      "         8.78202990e-02,  1.05396360e-01,  9.72963171e-04,\n",
      "        -3.60567160e-02,  1.55129666e-02,  1.70166865e-02,\n",
      "         5.60779274e-02, -6.52092323e-02, -8.51731002e-02,\n",
      "        -1.26693798e-02, -1.53507590e-02, -3.18100192e-02,\n",
      "        -7.30730593e-02, -3.55056338e-02, -7.02789100e-03,\n",
      "        -5.89752458e-02, -7.57961497e-02, -1.32952169e-01,\n",
      "        -3.58770266e-02,  1.09788790e-01, -9.13244560e-02,\n",
      "        -4.78665568e-02,  1.34270310e-01,  4.05564299e-03,\n",
      "         3.34814936e-02,  4.76629920e-02,  3.02792080e-02,\n",
      "        -2.51840595e-02,  4.80010249e-02, -4.39710799e-04,\n",
      "         3.66879138e-03, -6.83877617e-02,  3.18236910e-02,\n",
      "        -1.78519506e-02, -4.18369801e-08, -7.84025118e-02,\n",
      "         4.32456397e-02,  6.38707802e-02, -1.04226917e-01,\n",
      "        -1.41697330e-02, -9.75168347e-02,  1.14220344e-02,\n",
      "         8.50223824e-02,  3.75325754e-02, -2.90996116e-02,\n",
      "        -1.03833191e-02,  8.64108428e-02,  2.08036918e-02,\n",
      "         1.48067325e-02, -6.09909836e-03, -1.25949234e-01,\n",
      "        -5.59479184e-02,  5.77289499e-02, -3.99992950e-02,\n",
      "         1.02530858e-02, -2.13313308e-02, -1.05624339e-02,\n",
      "         2.16686223e-02, -6.00546710e-02,  3.83485146e-02,\n",
      "        -2.19129231e-02,  2.46561933e-02, -4.69176993e-02,\n",
      "        -2.45089689e-03, -1.32081844e-02, -8.95522907e-02,\n",
      "         4.73342836e-02, -1.64467879e-02,  6.16068244e-02,\n",
      "        -2.87731066e-02,  4.52372013e-03,  4.61722203e-02,\n",
      "         2.38370113e-02,  3.09782997e-02, -6.97788596e-02,\n",
      "         1.79532077e-02,  4.88201827e-02,  6.44247755e-02,\n",
      "         4.79762927e-02, -2.02127118e-02, -1.94198620e-02,\n",
      "        -5.46856038e-02, -1.39008127e-02,  4.59093191e-02,\n",
      "        -5.66227920e-02, -2.98701953e-02,  4.77998480e-02,\n",
      "         6.15493245e-02, -1.53662395e-02,  3.55651230e-02,\n",
      "        -6.33180141e-02, -2.85491385e-02, -1.01086674e-02,\n",
      "         4.05582264e-02,  5.60178608e-02, -1.07632177e-02,\n",
      "        -1.07707605e-01,  1.04498141e-01,  5.49105220e-02]]), 'documents': None, 'uris': None, 'included': ['embeddings'], 'data': None, 'metadatas': None}\n",
      "The vectors have 384 dimensions\n"
     ]
    }
   ],
   "source": [
    "# Get one vector and find how many dimensions it has\n",
    "\n",
    "collection = vectorstore._collection\n",
    "print(collection.get(limit=1, include=[\"embeddings\"]))\n",
    "sample_embedding = collection.get(limit=1, include=[\"embeddings\"])[\"embeddings\"][0]\n",
    "dimensions = len(sample_embedding)\n",
    "print(f\"The vectors have {dimensions:,} dimensions\")"
   ]
  },
  {
   "cell_type": "code",
   "execution_count": null,
   "id": "61e393a0-dd4c-419f-842f-60c1cb3b716b",
   "metadata": {},
   "outputs": [],
   "source": []
  },
  {
   "cell_type": "markdown",
   "id": "b0d45462-a818-441c-b010-b85b32bcf618",
   "metadata": {},
   "source": [
    "## Visualizing the Vector Store\n",
    "\n",
    "Let's take a minute to look at the documents and their embedding vectors to see what's going on."
   ]
  },
  {
   "cell_type": "code",
   "execution_count": 16,
   "id": "b98adf5e-d464-4bd2-9bdf-bc5b6770263b",
   "metadata": {},
   "outputs": [],
   "source": [
    "# Prework\n",
    "\n",
    "# Retrieve data from the 'collection' object.\n",
    "# 'include' specifies which components of the data to fetch:\n",
    "# - 'embeddings': The high-dimensional vector representations of the documents.\n",
    "# - 'documents': The original text content of the documents.\n",
    "# - 'metadatas': Additional metadata associated with each document, including 'doc_type'.\n",
    "result = collection.get(include=['embeddings', 'documents', 'metadatas'])\n",
    "\n",
    "# Extract the embeddings (vectors) from the result and convert them to a NumPy array.\n",
    "# NumPy arrays are efficient for numerical computations required by t-SNE.\n",
    "vectors = np.array(result['embeddings'])\n",
    "\n",
    "# Extract the original documents.\n",
    "documents = result['documents']\n",
    "\n",
    "# Extract 'doc_type' from the metadata of each document.\n",
    "# This will be used to assign different colors to different types of documents.\n",
    "doc_types = [metadata['doc_type'] for metadata in result['metadatas']]\n",
    "\n",
    "# Assign a color to each document based on its 'doc_type'.\n",
    "# The index of the doc_type in the fixed list determines the color.\n",
    "colors = [['blue', 'green', 'red', 'orange'][['products', 'employees', 'contracts', 'company'].index(t)] for t in doc_types]"
   ]
  },
  {
   "cell_type": "code",
   "execution_count": 19,
   "id": "427149d5-e5d8-4abd-bb6f-7ef0333cca21",
   "metadata": {},
   "outputs": [
    {
     "data": {
      "application/vnd.plotly.v1+json": {
       "config": {
        "plotlyServerURL": "https://plot.ly"
       },
       "data": [
        {
         "hoverinfo": "text",
         "marker": {
          "color": [
           "orange",
           "orange",
           "orange",
           "red",
           "red",
           "red",
           "red",
           "red",
           "red",
           "red",
           "red",
           "red",
           "red",
           "red",
           "red",
           "red",
           "red",
           "red",
           "red",
           "red",
           "red",
           "red",
           "red",
           "red",
           "red",
           "red",
           "red",
           "red",
           "red",
           "red",
           "red",
           "red",
           "red",
           "red",
           "red",
           "red",
           "red",
           "red",
           "red",
           "red",
           "red",
           "red",
           "red",
           "red",
           "red",
           "red",
           "red",
           "red",
           "red",
           "red",
           "red",
           "red",
           "red",
           "red",
           "red",
           "green",
           "green",
           "green",
           "green",
           "green",
           "green",
           "green",
           "green",
           "green",
           "green",
           "green",
           "green",
           "green",
           "green",
           "green",
           "green",
           "green",
           "green",
           "green",
           "green",
           "green",
           "green",
           "green",
           "green",
           "green",
           "green",
           "green",
           "green",
           "green",
           "green",
           "green",
           "green",
           "green",
           "green",
           "green",
           "green",
           "green",
           "green",
           "green",
           "green",
           "green",
           "green",
           "green",
           "green",
           "green",
           "green",
           "green",
           "blue",
           "blue",
           "blue",
           "blue",
           "blue",
           "blue",
           "blue",
           "blue",
           "blue",
           "blue",
           "blue",
           "blue",
           "blue",
           "blue",
           "blue",
           "blue",
           "blue",
           "blue",
           "blue",
           "blue",
           "blue"
          ],
          "opacity": 0.8,
          "size": 5
         },
         "mode": "markers",
         "text": [
          "Type: company<br>Text: # About Insurellm\n\nInsurellm was founded by Avery Lancaster in 2015 as an insurance tech startup des...",
          "Type: company<br>Text: # Careers at Insurellm\n\nInsurellm is hiring! We are looking for talented software engineers, data sc...",
          "Type: company<br>Text: # Overview of Insurellm\n\nInsurellm is an innovative insurance tech firm with 200 employees across th...",
          "Type: contracts<br>Text: # Contract with Apex Reinsurance for Rellm: AI-Powered Enterprise Reinsurance Solution\n\n## Terms\n\n1....",
          "Type: contracts<br>Text: ## Renewal\n\n1. **Automatic Renewal**: This Agreement will automatically renew for successive one-yea...",
          "Type: contracts<br>Text: 2. **Seamless Integrations**: The architecture of Rellm allows for easy integration with existing sy...",
          "Type: contracts<br>Text: 1. **Technical Support**: Provider shall offer dedicated technical support to the Client via phone, ...",
          "Type: contracts<br>Text: **Insurellm, Inc.**  \n_____________________________  \nAuthorized Signature   \nDate: ________________...",
          "Type: contracts<br>Text: # Contract with Belvedere Insurance for Markellm\n\n## Terms\nThis Contract (\"Agreement\") is made and e...",
          "Type: contracts<br>Text: ## Renewal\n1. **Renewal Terms**: This Agreement may be renewed for additional one-year terms upon mu...",
          "Type: contracts<br>Text: ## Features\n1. **AI-Powered Matching**: Belvedere Insurance will benefit from Markellm's AI-powered ...",
          "Type: contracts<br>Text: ## Support\n1. **Technical Support**: Technical support will be available from 9 AM to 7 PM EST, Mond...",
          "Type: contracts<br>Text: **Belvedere Insurance**  \nSignature: ______________________  \nName: [Authorized Signatory]  \nTitle: ...",
          "Type: contracts<br>Text: # Contract with BrightWay Solutions for Markellm\n\n**Contract Date:** October 5, 2023  \n**Contract ID...",
          "Type: contracts<br>Text: 3. **Service Level Agreement (SLA):**  \n   Insurellm commits to a 99.9% uptime for the platform with...",
          "Type: contracts<br>Text: 2. **Real-Time Quote Availability:**  \n   Consumers sourced via BrightWay Solutions will receive rea...",
          "Type: contracts<br>Text: 3. **Training and Onboarding:**  \n   Insurellm agrees to provide one free training session on how to...",
          "Type: contracts<br>Text: # Contract with EverGuard Insurance for Rellm: AI-Powered Enterprise Reinsurance Solution\n\n**Contrac...",
          "Type: contracts<br>Text: 4. **Usage Rights**: EverGuard Insurance is granted a non-exclusive, non-transferable license to acc...",
          "Type: contracts<br>Text: 1. **Core Functionality**: Rellm provides EverGuard Insurance with advanced AI-driven analytics, sea...",
          "Type: contracts<br>Text: 1. **Customer Support**: Insurellm will provide EverGuard Insurance with 24/7 customer support, incl...",
          "Type: contracts<br>Text: ---\n\n**Signatures**  \n**For Insurellm**: __________________________  \n**Name**: John Smith  \n**Title...",
          "Type: contracts<br>Text: # Contract with GreenField Holdings for Markellm\n\n**Effective Date:** November 15, 2023  \n**Contract...",
          "Type: contracts<br>Text: ## Renewal\n1. **Automatic Renewal**: This contract will automatically renew for sequential one-year ...",
          "Type: contracts<br>Text: ## Features\n1. **AI-Powered Matching**: Access to advanced algorithms that connect GreenField Holdin...",
          "Type: contracts<br>Text: ## Support\n1. **Customer Support Access**: The Client will have access to dedicated support through ...",
          "Type: contracts<br>Text: **Signatures:**  \n_________________________                           _________________________  \n**...",
          "Type: contracts<br>Text: # Contract with Greenstone Insurance for Homellm\n\n---\n\n## Terms\n\n1. **Parties**: This Contract (\"Agr...",
          "Type: contracts<br>Text: 4. **Payment Terms**: \n   - The Customer shall pay an amount of $10,000 per month for the Standard T...",
          "Type: contracts<br>Text: ---\n\n## Features\n\n- **AI-Powered Risk Assessment**: Customer will have access to enhanced risk evalu...",
          "Type: contracts<br>Text: - **Customer Portal**: A dedicated portal will be provided, allowing the Customer's clients to manag...",
          "Type: contracts<br>Text: ______________________________  \n[Name], [Title]  \nDate: ______________________\n\n**For Greenstone In...",
          "Type: contracts<br>Text: # Contract with GreenValley Insurance for Homellm\n\n**Contract Date:** October 6, 2023  \n**Contract N...",
          "Type: contracts<br>Text: 4. **Confidentiality:** Both parties agree to maintain the confidentiality of proprietary informatio...",
          "Type: contracts<br>Text: 1. **AI-Powered Risk Assessment:** Access to advanced AI algorithms for real-time risk evaluations.\n...",
          "Type: contracts<br>Text: 3. **Regular Updates:** Insurellm will offer ongoing updates and enhancements to the Homellm platfor...",
          "Type: contracts<br>Text: # Contract with Pinnacle Insurance Co. for Homellm\n\n## Terms\nThis contract (\"Contract\") is entered i...",
          "Type: contracts<br>Text: ## Renewal\n1. **Renewal Terms**: At the end of the initial term, this Contract shall automatically r...",
          "Type: contracts<br>Text: ## Features\n1. **AI-Powered Risk Assessment**: Utilized for tailored underwriting decisions specific...",
          "Type: contracts<br>Text: ## Support\n1. **Technical Support**: Insurellm shall provide 24/7 technical support via an email and...",
          "Type: contracts<br>Text: # Contract with Roadway Insurance Inc. for Carllm\n\n---\n\n## Terms\n\n1. **Agreement Effective Date**: T...",
          "Type: contracts<br>Text: ---\n\n## Renewal\n\n1. **Automatic Renewal**: This agreement will automatically renew for an additional...",
          "Type: contracts<br>Text: ---\n\n## Features\n\n1. **Access to Core Features**: Roadway Insurance Inc. will have access to all Pro...",
          "Type: contracts<br>Text: ---\n\n## Support\n\n1. **Technical Support**: Roadway Insurance Inc. will receive priority technical su...",
          "Type: contracts<br>Text: # Contract with Stellar Insurance Co. for Rellm\n\n## Terms\nThis contract is made between **Insurellm*...",
          "Type: contracts<br>Text: ### Termination\nEither party may terminate this agreement with a **30-day written notice**. In the e...",
          "Type: contracts<br>Text: ## Features\nStellar Insurance Co. will receive access to the following features of the Rellm product...",
          "Type: contracts<br>Text: ## Support\nInsurellm provides Stellar Insurance Co. with the following support services:\n\n- **24/7 T...",
          "Type: contracts<br>Text: # Contract with TechDrive Insurance for Carllm\n\n**Contract Date:** October 1, 2024  \n**Contract Dura...",
          "Type: contracts<br>Text: ## Renewal\n\n1. **Automatic Renewal**: This contract shall automatically renew for additional one-yea...",
          "Type: contracts<br>Text: ## Support\n\n1. **Customer Support**: Insurellm will provide 24/7 customer support to TechDrive Insur...",
          "Type: contracts<br>Text: **TechDrive Insurance Representative:**  \nName: Sarah Johnson  \nTitle: Operations Director  \nDate: _...",
          "Type: contracts<br>Text: # Contract with Velocity Auto Solutions for Carllm\n\n**Contract Date:** October 1, 2023  \n**Contract ...",
          "Type: contracts<br>Text: ## Renewal\n\n1. **Automatic Renewal**: This contract will automatically renew for successive 12-month...",
          "Type: contracts<br>Text: ## Support\n\n1. **Customer Support**: Velocity Auto Solutions will have access to Insurellm’s custome...",
          "Type: employees<br>Text: # HR Record\n\n# Alex Chen\n\n## Summary\n- **Date of Birth:** March 15, 1990  \n- **Job Title:** Backend ...",
          "Type: employees<br>Text: ## Annual Performance History\n- **2020:**  \n  - Completed onboarding successfully.  \n  - Met expecta...",
          "Type: employees<br>Text: ## Compensation History\n- **2020:** Base Salary: $80,000  \n- **2021:** Base Salary Increase to $90,0...",
          "Type: employees<br>Text: Alex Chen continues to be a vital asset at Insurellm, contributing significantly to innovative backe...",
          "Type: employees<br>Text: # HR Record\n\n# Alex Harper\n\n## Summary\n- **Date of Birth**: March 15, 1993  \n- **Job Title**: Sales ...",
          "Type: employees<br>Text: ## Annual Performance History  \n- **2021**:  \n  - **Performance Rating**: 4.5/5  \n  - **Key Achievem...",
          "Type: employees<br>Text: - **2022**:  \n  - **Base Salary**: $65,000 (Promotion to Senior SDR)  \n  - **Bonus**: $13,000 (20% o...",
          "Type: employees<br>Text: # HR Record\n\n# Alex Thomson\n\n## Summary\n- **Date of Birth:** March 15, 1995  \n- **Job Title:** Sales...",
          "Type: employees<br>Text: ## Annual Performance History  \n- **2022** - Rated as \"Exceeds Expectations.\" Alex Thomson achieved ...",
          "Type: employees<br>Text: ## Other HR Notes\n- Alex Thomson is an active member of the Diversity and Inclusion committee at Ins...",
          "Type: employees<br>Text: # Avery Lancaster\n\n## Summary\n- **Date of Birth**: March 15, 1985  \n- **Job Title**: Co-Founder & Ch...",
          "Type: employees<br>Text: - **2010 - 2013**: Business Analyst at Edge Analytics  \n  Prior to joining Innovate, Avery worked as...",
          "Type: employees<br>Text: - **2018**: **Exceeds Expectations**  \n  Under Avery’s pivoted vision, Insurellm launched two new su...",
          "Type: employees<br>Text: - **2022**: **Satisfactory**  \n  Avery focused on rebuilding team dynamics and addressing employee c...",
          "Type: employees<br>Text: ## Compensation History\n- **2015**: $150,000 base salary + Significant equity stake  \n- **2016**: $1...",
          "Type: employees<br>Text: ## Other HR Notes\n- **Professional Development**: Avery has actively participated in leadership trai...",
          "Type: employees<br>Text: # HR Record\n\n# Emily Carter\n\n## Summary\n- **Date of Birth:** August 12, 1990  \n- **Job Title:** Acco...",
          "Type: employees<br>Text: - **2017-2019:** Marketing Intern  \n  - Assisted with market research and campaign development for s...",
          "Type: employees<br>Text: ## Compensation History\n| Year | Base Salary | Bonus         | Total Compensation |\n|------|--------...",
          "Type: employees<br>Text: Emily Carter exemplifies the kind of talent that drives Insurellm's success and is an invaluable ass...",
          "Type: employees<br>Text: # HR Record\n\n# Emily Tran\n\n## Summary\n- **Date of Birth:** March 18, 1991  \n- **Job Title:** Digital...",
          "Type: employees<br>Text: - **January 2017 - May 2018**: Marketing Intern  \n  - Supported the Marketing team by collaborating ...",
          "Type: employees<br>Text: - **2021**:  \n  - Performance Rating: Meets Expectations  \n  - Key Achievements: Contributed to the ...",
          "Type: employees<br>Text: - **Professional Development Goals**:  \n  - Emily Tran aims to become a Marketing Manager within the...",
          "Type: employees<br>Text: # HR Record\n\n# Jordan Blake\n\n## Summary\n- **Date of Birth:** March 15, 1993  \n- **Job Title:** Sales...",
          "Type: employees<br>Text: ## Annual Performance History\n- **2021:** First year at Insurellm; achieved 90% of monthly targets. ...",
          "Type: employees<br>Text: ## Other HR Notes\n- Jordan has shown an interest in continuing education, actively participating in ...",
          "Type: employees<br>Text: # HR Record\n\n# Jordan K. Bishop\n\n## Summary\n- **Date of Birth:** March 15, 1990\n- **Job Title:** Fro...",
          "Type: employees<br>Text: ## Annual Performance History\n- **2019:** Exceeds Expectations - Continuously delivered high-quality...",
          "Type: employees<br>Text: ## Compensation History\n- **June 2018:** Starting Salary - $85,000\n- **June 2019:** Salary Increase ...",
          "Type: employees<br>Text: ## Other HR Notes\n- Jordan K. Bishop has been an integral part of club initiatives, including the In...",
          "Type: employees<br>Text: # HR Record\n\n# Maxine Thompson\n\n## Summary\n- **Date of Birth:** January 15, 1991  \n- **Job Title:** ...",
          "Type: employees<br>Text: ## Insurellm Career Progression\n- **January 2017 - October 2018**: **Junior Data Engineer**  \n  * Ma...",
          "Type: employees<br>Text: ## Annual Performance History\n- **2017**: *Meets Expectations*  \n  Maxine showed potential in her ro...",
          "Type: employees<br>Text: - **2021**: *Exceeds Expectations*  \n  Maxine spearheaded the transition to a new data warehousing s...",
          "Type: employees<br>Text: ## Compensation History\n- **2017**: $70,000 (Junior Data Engineer)  \n- **2018**: $75,000 (Junior Dat...",
          "Type: employees<br>Text: # HR Record\n\n# Oliver Spencer\n\n## Summary\n- **Date of Birth**: May 14, 1990  \n- **Job Title**: Backe...",
          "Type: employees<br>Text: ## Annual Performance History\n- **2018**: **3/5** - Adaptable team player but still learning to take...",
          "Type: employees<br>Text: ## Compensation History\n- **March 2018**: Initial salary of $80,000.\n- **July 2019**: Salary increas...",
          "Type: employees<br>Text: # Samantha Greene\n\n## Summary\n- **Date of Birth:** October 14, 1990\n- **Job Title:** HR Generalist\n-...",
          "Type: employees<br>Text: ## Annual Performance History\n- **2020:** Exceeds Expectations  \n  Samantha Greene demonstrated exce...",
          "Type: employees<br>Text: ## Compensation History\n- **2020:** Base Salary - $55,000  \n  The entry-level salary matched industr...",
          "Type: employees<br>Text: - **2023:** Base Salary - $70,000  \n  Recognized for substantial improvement in employee relations m...",
          "Type: employees<br>Text: # HR Record\n\n# Samuel Trenton\n\n## Summary\n- **Date of Birth:** April 12, 1989  \n- **Job Title:** Sen...",
          "Type: employees<br>Text: ## Annual Performance History\n- **2023:** Rating: 4.5/5  \n  *Samuel exceeded expectations, successfu...",
          "Type: employees<br>Text: ## Compensation History\n- **2023:** Base Salary: $115,000 + Bonus: $15,000  \n  *Annual bonus based o...",
          "Type: employees<br>Text: - **Engagement in Company Culture:** Regularly participates in team-building events and contributes ...",
          "Type: products<br>Text: # Product Summary\n\n# Carllm\n\n## Summary\n\nCarllm is an innovative auto insurance product developed by...",
          "Type: products<br>Text: - **Instant Quoting**: With Carllm, insurance companies can offer near-instant quotes to customers, ...",
          "Type: products<br>Text: - **Mobile Integration**: Carllm is designed to work seamlessly with mobile applications, providing ...",
          "Type: products<br>Text: - **Professional Tier**: $2,500/month\n  - For medium-sized companies.\n  - All Basic Tier features pl...",
          "Type: products<br>Text: ### Q2 2025: Customer Experience Improvements\n- Launch of a new **mobile app** for end-users.\n- Intr...",
          "Type: products<br>Text: # Product Summary\n\n# Homellm\n\n## Summary\nHomellm is an innovative home insurance product developed b...",
          "Type: products<br>Text: ### 2. Dynamic Pricing Model\nWith Homellm's innovative dynamic pricing model, insurance providers ca...",
          "Type: products<br>Text: ### 5. Multi-Channel Integration\nHomellm seamlessly integrates into existing insurance platforms, pr...",
          "Type: products<br>Text: - **Basic Tier:** Starting at $5,000/month for small insurers with basic integration features.\n- **S...",
          "Type: products<br>Text: All tiers include a comprehensive training program and ongoing updates to ensure optimal performance...",
          "Type: products<br>Text: With Homellm, Insurellm is committed to transforming the landscape of home insurance, ensuring both ...",
          "Type: products<br>Text: # Product Summary\n\n# Markellm\n\n## Summary\n\nMarkellm is an innovative two-sided marketplace designed ...",
          "Type: products<br>Text: - **User-Friendly Interface**: Designed with user experience in mind, Markellm features an intuitive...",
          "Type: products<br>Text: - **Customer Support**: Our dedicated support team is always available to assist both consumers and ...",
          "Type: products<br>Text: ### For Insurance Companies:\n- **Basic Listing Fee**: $199/month for a featured listing on the platf...",
          "Type: products<br>Text: ### Q3 2025\n- Initiate a comprehensive marketing campaign targeting both consumers and insurers to i...",
          "Type: products<br>Text: # Product Summary\n\n# Rellm: AI-Powered Enterprise Reinsurance Solution\n\n## Summary\n\nRellm is an inno...",
          "Type: products<br>Text: ### Seamless Integrations\nRellm's architecture is designed for effortless integration with existing ...",
          "Type: products<br>Text: ### Regulatory Compliance Tools\nRellm includes built-in compliance tracking features to help organiz...",
          "Type: products<br>Text: Join the growing number of organizations leveraging Rellm to enhance their reinsurance processes whi...",
          "Type: products<br>Text: Experience the future of reinsurance with Rellm, where innovation meets reliability. Let Insurellm h..."
         ],
         "type": "scatter",
         "x": {
          "bdata": "KwW6v0EiM8Dt+8i+b8j0QOFdF0Ei46lAXGoFQR06HkGTeLNA6FYzQWz2Z0CRZApBwLnbQKaQfUAEzwRBJFxeQMQiBkGeIwJBHZ0WQbOJD0HfYxNBZ/QcQUyK20DUpipB9QuuP4dc8D+LvyRBO1bDQNjYLkE51TVA+Nz0QHzXDEEMV8FAU4S6QCWfkkA8vOdAYQ6oQJcBMUFUSFZA0Mb+QCvltUBMLCZBrbbqP7VbmkAedg1B7yIYQcXBwkCTsfRAsijAQKPd00BP9KNAR0ajQAVa5UBj5vRAHkbkQNBS5cBo7ALB6XoywU7LIMA+kuTABbALwQIMF8FDac/AuqklwUgwuMAHcVfAIYaNwKUopMDsYpvAGwdAwWHgkMAXvAHB9ieMwKU7K8FLZyrAVkJkwPmud8DYmhLB6chfwOUE38AJoBrBVxeewCq3vsD05AXBmqZLwS0Kp8Du/QzBYPz4wM4xIMFUlPDAyOsQwbxx3cBt0wvBMMkrwdGDOcGgGSzBHo9HwTTqQMHsBtXAm2MiwbjcNMG26qXAhxVHQBj5K0CezHVAKxqAQHIELEB7exFA/pcRQFt5kD+1t0A/xqHTP1cnFj8grgZAtpcfQGGGGUDkIAVArpAdQIdshUCDXKtAnwHbQIHemECx2ddA",
          "dtype": "f4"
         },
         "y": {
          "bdata": "fvXwv1cB1T8OEQbANl0NwIzWZz769RHBrNuawGxKz8BSP+XAfbKzP8wqmMAy+rnAXvsBwU4Z6sBLVaM+XGHfwPbc1sBqMB3AVLU3wHGbVcACJnPAIYalwCKf38Dxa6M/dvyAPmV2+sDt8d7AOzWrwKg5xzw6IUrAFu64wMGNBMEoQ5vAATSMwGwyacBWa6XAez7JwBn+nD861knA4mm7wMtnUEC0XNs/G+BjP3x/IECZXM+/3RuOv2ZQH8CVQWXAzGoHQBS61z9Tg78/RfD+P0XFQUCISAhAZZpPQOzagj9Y16M+1HckQK0lKL7UZDtANgosQMmNTUCYXDlAted3QAL8K0DwIKG/0NrSv8sP278Rj9e/oeBsQOm6D7933x9AwWGDQLHup0AKOpVAXrJKQKlQXEAN3HtA6QiRQCPEV0DZPA5A95fiPxVRYD+m7iW/pHtkQES/hz/jBdJAi0uxQMwPh75xa7hAnpOnQLkdij/AKgS/J6j/P/IX+z7zazq+cpASQO1inj9+RptAbVZIQKtyTkAtVrVA/2W1PzNd1D7T77M+pA7SPvIeqz3rzgHADSkgwK8nQsA68oXA3MZfwO4RLcCSJKjAvEK2wCPzysDyq+HAMOYgv5o8vL92PQfAOa0jwADCrr8Rwq2/",
          "dtype": "f4"
         }
        }
       ],
       "layout": {
        "height": 600,
        "margin": {
         "b": 10,
         "l": 10,
         "r": 20,
         "t": 40
        },
        "scene": {
         "xaxis": {
          "title": {
           "text": "x"
          }
         },
         "yaxis": {
          "title": {
           "text": "y"
          }
         }
        },
        "template": {
         "data": {
          "bar": [
           {
            "error_x": {
             "color": "#2a3f5f"
            },
            "error_y": {
             "color": "#2a3f5f"
            },
            "marker": {
             "line": {
              "color": "#E5ECF6",
              "width": 0.5
             },
             "pattern": {
              "fillmode": "overlay",
              "size": 10,
              "solidity": 0.2
             }
            },
            "type": "bar"
           }
          ],
          "barpolar": [
           {
            "marker": {
             "line": {
              "color": "#E5ECF6",
              "width": 0.5
             },
             "pattern": {
              "fillmode": "overlay",
              "size": 10,
              "solidity": 0.2
             }
            },
            "type": "barpolar"
           }
          ],
          "carpet": [
           {
            "aaxis": {
             "endlinecolor": "#2a3f5f",
             "gridcolor": "white",
             "linecolor": "white",
             "minorgridcolor": "white",
             "startlinecolor": "#2a3f5f"
            },
            "baxis": {
             "endlinecolor": "#2a3f5f",
             "gridcolor": "white",
             "linecolor": "white",
             "minorgridcolor": "white",
             "startlinecolor": "#2a3f5f"
            },
            "type": "carpet"
           }
          ],
          "choropleth": [
           {
            "colorbar": {
             "outlinewidth": 0,
             "ticks": ""
            },
            "type": "choropleth"
           }
          ],
          "contour": [
           {
            "colorbar": {
             "outlinewidth": 0,
             "ticks": ""
            },
            "colorscale": [
             [
              0,
              "#0d0887"
             ],
             [
              0.1111111111111111,
              "#46039f"
             ],
             [
              0.2222222222222222,
              "#7201a8"
             ],
             [
              0.3333333333333333,
              "#9c179e"
             ],
             [
              0.4444444444444444,
              "#bd3786"
             ],
             [
              0.5555555555555556,
              "#d8576b"
             ],
             [
              0.6666666666666666,
              "#ed7953"
             ],
             [
              0.7777777777777778,
              "#fb9f3a"
             ],
             [
              0.8888888888888888,
              "#fdca26"
             ],
             [
              1,
              "#f0f921"
             ]
            ],
            "type": "contour"
           }
          ],
          "contourcarpet": [
           {
            "colorbar": {
             "outlinewidth": 0,
             "ticks": ""
            },
            "type": "contourcarpet"
           }
          ],
          "heatmap": [
           {
            "colorbar": {
             "outlinewidth": 0,
             "ticks": ""
            },
            "colorscale": [
             [
              0,
              "#0d0887"
             ],
             [
              0.1111111111111111,
              "#46039f"
             ],
             [
              0.2222222222222222,
              "#7201a8"
             ],
             [
              0.3333333333333333,
              "#9c179e"
             ],
             [
              0.4444444444444444,
              "#bd3786"
             ],
             [
              0.5555555555555556,
              "#d8576b"
             ],
             [
              0.6666666666666666,
              "#ed7953"
             ],
             [
              0.7777777777777778,
              "#fb9f3a"
             ],
             [
              0.8888888888888888,
              "#fdca26"
             ],
             [
              1,
              "#f0f921"
             ]
            ],
            "type": "heatmap"
           }
          ],
          "histogram": [
           {
            "marker": {
             "pattern": {
              "fillmode": "overlay",
              "size": 10,
              "solidity": 0.2
             }
            },
            "type": "histogram"
           }
          ],
          "histogram2d": [
           {
            "colorbar": {
             "outlinewidth": 0,
             "ticks": ""
            },
            "colorscale": [
             [
              0,
              "#0d0887"
             ],
             [
              0.1111111111111111,
              "#46039f"
             ],
             [
              0.2222222222222222,
              "#7201a8"
             ],
             [
              0.3333333333333333,
              "#9c179e"
             ],
             [
              0.4444444444444444,
              "#bd3786"
             ],
             [
              0.5555555555555556,
              "#d8576b"
             ],
             [
              0.6666666666666666,
              "#ed7953"
             ],
             [
              0.7777777777777778,
              "#fb9f3a"
             ],
             [
              0.8888888888888888,
              "#fdca26"
             ],
             [
              1,
              "#f0f921"
             ]
            ],
            "type": "histogram2d"
           }
          ],
          "histogram2dcontour": [
           {
            "colorbar": {
             "outlinewidth": 0,
             "ticks": ""
            },
            "colorscale": [
             [
              0,
              "#0d0887"
             ],
             [
              0.1111111111111111,
              "#46039f"
             ],
             [
              0.2222222222222222,
              "#7201a8"
             ],
             [
              0.3333333333333333,
              "#9c179e"
             ],
             [
              0.4444444444444444,
              "#bd3786"
             ],
             [
              0.5555555555555556,
              "#d8576b"
             ],
             [
              0.6666666666666666,
              "#ed7953"
             ],
             [
              0.7777777777777778,
              "#fb9f3a"
             ],
             [
              0.8888888888888888,
              "#fdca26"
             ],
             [
              1,
              "#f0f921"
             ]
            ],
            "type": "histogram2dcontour"
           }
          ],
          "mesh3d": [
           {
            "colorbar": {
             "outlinewidth": 0,
             "ticks": ""
            },
            "type": "mesh3d"
           }
          ],
          "parcoords": [
           {
            "line": {
             "colorbar": {
              "outlinewidth": 0,
              "ticks": ""
             }
            },
            "type": "parcoords"
           }
          ],
          "pie": [
           {
            "automargin": true,
            "type": "pie"
           }
          ],
          "scatter": [
           {
            "fillpattern": {
             "fillmode": "overlay",
             "size": 10,
             "solidity": 0.2
            },
            "type": "scatter"
           }
          ],
          "scatter3d": [
           {
            "line": {
             "colorbar": {
              "outlinewidth": 0,
              "ticks": ""
             }
            },
            "marker": {
             "colorbar": {
              "outlinewidth": 0,
              "ticks": ""
             }
            },
            "type": "scatter3d"
           }
          ],
          "scattercarpet": [
           {
            "marker": {
             "colorbar": {
              "outlinewidth": 0,
              "ticks": ""
             }
            },
            "type": "scattercarpet"
           }
          ],
          "scattergeo": [
           {
            "marker": {
             "colorbar": {
              "outlinewidth": 0,
              "ticks": ""
             }
            },
            "type": "scattergeo"
           }
          ],
          "scattergl": [
           {
            "marker": {
             "colorbar": {
              "outlinewidth": 0,
              "ticks": ""
             }
            },
            "type": "scattergl"
           }
          ],
          "scattermap": [
           {
            "marker": {
             "colorbar": {
              "outlinewidth": 0,
              "ticks": ""
             }
            },
            "type": "scattermap"
           }
          ],
          "scattermapbox": [
           {
            "marker": {
             "colorbar": {
              "outlinewidth": 0,
              "ticks": ""
             }
            },
            "type": "scattermapbox"
           }
          ],
          "scatterpolar": [
           {
            "marker": {
             "colorbar": {
              "outlinewidth": 0,
              "ticks": ""
             }
            },
            "type": "scatterpolar"
           }
          ],
          "scatterpolargl": [
           {
            "marker": {
             "colorbar": {
              "outlinewidth": 0,
              "ticks": ""
             }
            },
            "type": "scatterpolargl"
           }
          ],
          "scatterternary": [
           {
            "marker": {
             "colorbar": {
              "outlinewidth": 0,
              "ticks": ""
             }
            },
            "type": "scatterternary"
           }
          ],
          "surface": [
           {
            "colorbar": {
             "outlinewidth": 0,
             "ticks": ""
            },
            "colorscale": [
             [
              0,
              "#0d0887"
             ],
             [
              0.1111111111111111,
              "#46039f"
             ],
             [
              0.2222222222222222,
              "#7201a8"
             ],
             [
              0.3333333333333333,
              "#9c179e"
             ],
             [
              0.4444444444444444,
              "#bd3786"
             ],
             [
              0.5555555555555556,
              "#d8576b"
             ],
             [
              0.6666666666666666,
              "#ed7953"
             ],
             [
              0.7777777777777778,
              "#fb9f3a"
             ],
             [
              0.8888888888888888,
              "#fdca26"
             ],
             [
              1,
              "#f0f921"
             ]
            ],
            "type": "surface"
           }
          ],
          "table": [
           {
            "cells": {
             "fill": {
              "color": "#EBF0F8"
             },
             "line": {
              "color": "white"
             }
            },
            "header": {
             "fill": {
              "color": "#C8D4E3"
             },
             "line": {
              "color": "white"
             }
            },
            "type": "table"
           }
          ]
         },
         "layout": {
          "annotationdefaults": {
           "arrowcolor": "#2a3f5f",
           "arrowhead": 0,
           "arrowwidth": 1
          },
          "autotypenumbers": "strict",
          "coloraxis": {
           "colorbar": {
            "outlinewidth": 0,
            "ticks": ""
           }
          },
          "colorscale": {
           "diverging": [
            [
             0,
             "#8e0152"
            ],
            [
             0.1,
             "#c51b7d"
            ],
            [
             0.2,
             "#de77ae"
            ],
            [
             0.3,
             "#f1b6da"
            ],
            [
             0.4,
             "#fde0ef"
            ],
            [
             0.5,
             "#f7f7f7"
            ],
            [
             0.6,
             "#e6f5d0"
            ],
            [
             0.7,
             "#b8e186"
            ],
            [
             0.8,
             "#7fbc41"
            ],
            [
             0.9,
             "#4d9221"
            ],
            [
             1,
             "#276419"
            ]
           ],
           "sequential": [
            [
             0,
             "#0d0887"
            ],
            [
             0.1111111111111111,
             "#46039f"
            ],
            [
             0.2222222222222222,
             "#7201a8"
            ],
            [
             0.3333333333333333,
             "#9c179e"
            ],
            [
             0.4444444444444444,
             "#bd3786"
            ],
            [
             0.5555555555555556,
             "#d8576b"
            ],
            [
             0.6666666666666666,
             "#ed7953"
            ],
            [
             0.7777777777777778,
             "#fb9f3a"
            ],
            [
             0.8888888888888888,
             "#fdca26"
            ],
            [
             1,
             "#f0f921"
            ]
           ],
           "sequentialminus": [
            [
             0,
             "#0d0887"
            ],
            [
             0.1111111111111111,
             "#46039f"
            ],
            [
             0.2222222222222222,
             "#7201a8"
            ],
            [
             0.3333333333333333,
             "#9c179e"
            ],
            [
             0.4444444444444444,
             "#bd3786"
            ],
            [
             0.5555555555555556,
             "#d8576b"
            ],
            [
             0.6666666666666666,
             "#ed7953"
            ],
            [
             0.7777777777777778,
             "#fb9f3a"
            ],
            [
             0.8888888888888888,
             "#fdca26"
            ],
            [
             1,
             "#f0f921"
            ]
           ]
          },
          "colorway": [
           "#636efa",
           "#EF553B",
           "#00cc96",
           "#ab63fa",
           "#FFA15A",
           "#19d3f3",
           "#FF6692",
           "#B6E880",
           "#FF97FF",
           "#FECB52"
          ],
          "font": {
           "color": "#2a3f5f"
          },
          "geo": {
           "bgcolor": "white",
           "lakecolor": "white",
           "landcolor": "#E5ECF6",
           "showlakes": true,
           "showland": true,
           "subunitcolor": "white"
          },
          "hoverlabel": {
           "align": "left"
          },
          "hovermode": "closest",
          "mapbox": {
           "style": "light"
          },
          "paper_bgcolor": "white",
          "plot_bgcolor": "#E5ECF6",
          "polar": {
           "angularaxis": {
            "gridcolor": "white",
            "linecolor": "white",
            "ticks": ""
           },
           "bgcolor": "#E5ECF6",
           "radialaxis": {
            "gridcolor": "white",
            "linecolor": "white",
            "ticks": ""
           }
          },
          "scene": {
           "xaxis": {
            "backgroundcolor": "#E5ECF6",
            "gridcolor": "white",
            "gridwidth": 2,
            "linecolor": "white",
            "showbackground": true,
            "ticks": "",
            "zerolinecolor": "white"
           },
           "yaxis": {
            "backgroundcolor": "#E5ECF6",
            "gridcolor": "white",
            "gridwidth": 2,
            "linecolor": "white",
            "showbackground": true,
            "ticks": "",
            "zerolinecolor": "white"
           },
           "zaxis": {
            "backgroundcolor": "#E5ECF6",
            "gridcolor": "white",
            "gridwidth": 2,
            "linecolor": "white",
            "showbackground": true,
            "ticks": "",
            "zerolinecolor": "white"
           }
          },
          "shapedefaults": {
           "line": {
            "color": "#2a3f5f"
           }
          },
          "ternary": {
           "aaxis": {
            "gridcolor": "white",
            "linecolor": "white",
            "ticks": ""
           },
           "baxis": {
            "gridcolor": "white",
            "linecolor": "white",
            "ticks": ""
           },
           "bgcolor": "#E5ECF6",
           "caxis": {
            "gridcolor": "white",
            "linecolor": "white",
            "ticks": ""
           }
          },
          "title": {
           "x": 0.05
          },
          "xaxis": {
           "automargin": true,
           "gridcolor": "white",
           "linecolor": "white",
           "ticks": "",
           "title": {
            "standoff": 15
           },
           "zerolinecolor": "white",
           "zerolinewidth": 2
          },
          "yaxis": {
           "automargin": true,
           "gridcolor": "white",
           "linecolor": "white",
           "ticks": "",
           "title": {
            "standoff": 15
           },
           "zerolinecolor": "white",
           "zerolinewidth": 2
          }
         }
        },
        "title": {
         "text": "2D Chroma Vector Store Visualization"
        },
        "width": 800
       }
      }
     },
     "metadata": {},
     "output_type": "display_data"
    }
   ],
   "source": [
    "# We humans find it easier to visalize things in 2D!\n",
    "# Reduce the dimensionality of the vectors to 2D using t-SNE\n",
    "# (t-distributed stochastic neighbor embedding)\n",
    "# 使用 t-SNE（t-分布随机邻域嵌入）将高维向量降维到2D\n",
    "# t-SNE 是一种非线性降维技术，能够保持数据点之间的相对距离关系\n",
    "\n",
    "# n_components=2: 降维到2维\n",
    "# random_state=42: 设置随机种子，确保结果可重现\n",
    "tsne = TSNE(n_components=2, random_state=42)\n",
    "\n",
    "# 执行降维操作，将高维向量转换为2D坐标\n",
    "reduced_vectors = tsne.fit_transform(vectors)\n",
    "\n",
    "# Create the 2D scatter plot\n",
    "# 创建2D散点图可视化\n",
    "# 使用 Plotly 创建交互式散点图\n",
    "fig = go.Figure(data=[go.Scatter(\n",
    "    x=reduced_vectors[:, 0],  # X轴坐标（降维后的第一维）\n",
    "    y=reduced_vectors[:, 1],  # Y轴坐标（降维后的第二维）\n",
    "    mode='markers',           # 显示模式为散点\n",
    "    marker=dict(\n",
    "        size=5,               # 散点大小\n",
    "        color=colors,         # 散点颜色（根据文档类型）\n",
    "        opacity=0.8           # 透明度\n",
    "    ),\n",
    "    # 悬停文本：显示文档类型和文档内容的前100个字符\n",
    "    text=[f\"Type: {t}<br>Text: {d[:100]}...\" for t, d in zip(doc_types, documents)],\n",
    "    hoverinfo='text'          # 悬停时显示自定义文本\n",
    ")])\n",
    "\n",
    "# 设置图表布局和样式\n",
    "fig.update_layout(\n",
    "    title='2D Chroma Vector Store Visualization',  # 图表标题\n",
    "    scene=dict(\n",
    "        xaxis_title='x',      # X轴标题\n",
    "        yaxis_title='y'       # Y轴标题\n",
    "    ),\n",
    "    width=800,                # 图表宽度\n",
    "    height=600,               # 图表高度\n",
    "    margin=dict(              # 边距设置\n",
    "        r=20,                 # 右边距\n",
    "        b=10,                 # 下边距  \n",
    "        l=10,                 # 左边距\n",
    "        t=40                  # 上边距\n",
    "    )\n",
    ")\n",
    "\n",
    "\n",
    "fig.show()"
   ]
  },
  {
   "cell_type": "code",
   "execution_count": 18,
   "id": "e1418e88-acd5-460a-bf2b-4e6efc88e3dd",
   "metadata": {},
   "outputs": [
    {
     "data": {
      "application/vnd.plotly.v1+json": {
       "config": {
        "plotlyServerURL": "https://plot.ly"
       },
       "data": [
        {
         "hoverinfo": "text",
         "marker": {
          "color": [
           "orange",
           "orange",
           "orange",
           "red",
           "red",
           "red",
           "red",
           "red",
           "red",
           "red",
           "red",
           "red",
           "red",
           "red",
           "red",
           "red",
           "red",
           "red",
           "red",
           "red",
           "red",
           "red",
           "red",
           "red",
           "red",
           "red",
           "red",
           "red",
           "red",
           "red",
           "red",
           "red",
           "red",
           "red",
           "red",
           "red",
           "red",
           "red",
           "red",
           "red",
           "red",
           "red",
           "red",
           "red",
           "red",
           "red",
           "red",
           "red",
           "red",
           "red",
           "red",
           "red",
           "red",
           "red",
           "red",
           "green",
           "green",
           "green",
           "green",
           "green",
           "green",
           "green",
           "green",
           "green",
           "green",
           "green",
           "green",
           "green",
           "green",
           "green",
           "green",
           "green",
           "green",
           "green",
           "green",
           "green",
           "green",
           "green",
           "green",
           "green",
           "green",
           "green",
           "green",
           "green",
           "green",
           "green",
           "green",
           "green",
           "green",
           "green",
           "green",
           "green",
           "green",
           "green",
           "green",
           "green",
           "green",
           "green",
           "green",
           "green",
           "green",
           "green",
           "blue",
           "blue",
           "blue",
           "blue",
           "blue",
           "blue",
           "blue",
           "blue",
           "blue",
           "blue",
           "blue",
           "blue",
           "blue",
           "blue",
           "blue",
           "blue",
           "blue",
           "blue",
           "blue",
           "blue",
           "blue"
          ],
          "opacity": 0.8,
          "size": 5
         },
         "mode": "markers",
         "text": [
          "Type: company<br>Text: # About Insurellm\n\nInsurellm was founded by Avery Lancaster in 2015 as an insurance tech startup des...",
          "Type: company<br>Text: # Careers at Insurellm\n\nInsurellm is hiring! We are looking for talented software engineers, data sc...",
          "Type: company<br>Text: # Overview of Insurellm\n\nInsurellm is an innovative insurance tech firm with 200 employees across th...",
          "Type: contracts<br>Text: # Contract with Apex Reinsurance for Rellm: AI-Powered Enterprise Reinsurance Solution\n\n## Terms\n\n1....",
          "Type: contracts<br>Text: ## Renewal\n\n1. **Automatic Renewal**: This Agreement will automatically renew for successive one-yea...",
          "Type: contracts<br>Text: 2. **Seamless Integrations**: The architecture of Rellm allows for easy integration with existing sy...",
          "Type: contracts<br>Text: 1. **Technical Support**: Provider shall offer dedicated technical support to the Client via phone, ...",
          "Type: contracts<br>Text: **Insurellm, Inc.**  \n_____________________________  \nAuthorized Signature   \nDate: ________________...",
          "Type: contracts<br>Text: # Contract with Belvedere Insurance for Markellm\n\n## Terms\nThis Contract (\"Agreement\") is made and e...",
          "Type: contracts<br>Text: ## Renewal\n1. **Renewal Terms**: This Agreement may be renewed for additional one-year terms upon mu...",
          "Type: contracts<br>Text: ## Features\n1. **AI-Powered Matching**: Belvedere Insurance will benefit from Markellm's AI-powered ...",
          "Type: contracts<br>Text: ## Support\n1. **Technical Support**: Technical support will be available from 9 AM to 7 PM EST, Mond...",
          "Type: contracts<br>Text: **Belvedere Insurance**  \nSignature: ______________________  \nName: [Authorized Signatory]  \nTitle: ...",
          "Type: contracts<br>Text: # Contract with BrightWay Solutions for Markellm\n\n**Contract Date:** October 5, 2023  \n**Contract ID...",
          "Type: contracts<br>Text: 3. **Service Level Agreement (SLA):**  \n   Insurellm commits to a 99.9% uptime for the platform with...",
          "Type: contracts<br>Text: 2. **Real-Time Quote Availability:**  \n   Consumers sourced via BrightWay Solutions will receive rea...",
          "Type: contracts<br>Text: 3. **Training and Onboarding:**  \n   Insurellm agrees to provide one free training session on how to...",
          "Type: contracts<br>Text: # Contract with EverGuard Insurance for Rellm: AI-Powered Enterprise Reinsurance Solution\n\n**Contrac...",
          "Type: contracts<br>Text: 4. **Usage Rights**: EverGuard Insurance is granted a non-exclusive, non-transferable license to acc...",
          "Type: contracts<br>Text: 1. **Core Functionality**: Rellm provides EverGuard Insurance with advanced AI-driven analytics, sea...",
          "Type: contracts<br>Text: 1. **Customer Support**: Insurellm will provide EverGuard Insurance with 24/7 customer support, incl...",
          "Type: contracts<br>Text: ---\n\n**Signatures**  \n**For Insurellm**: __________________________  \n**Name**: John Smith  \n**Title...",
          "Type: contracts<br>Text: # Contract with GreenField Holdings for Markellm\n\n**Effective Date:** November 15, 2023  \n**Contract...",
          "Type: contracts<br>Text: ## Renewal\n1. **Automatic Renewal**: This contract will automatically renew for sequential one-year ...",
          "Type: contracts<br>Text: ## Features\n1. **AI-Powered Matching**: Access to advanced algorithms that connect GreenField Holdin...",
          "Type: contracts<br>Text: ## Support\n1. **Customer Support Access**: The Client will have access to dedicated support through ...",
          "Type: contracts<br>Text: **Signatures:**  \n_________________________                           _________________________  \n**...",
          "Type: contracts<br>Text: # Contract with Greenstone Insurance for Homellm\n\n---\n\n## Terms\n\n1. **Parties**: This Contract (\"Agr...",
          "Type: contracts<br>Text: 4. **Payment Terms**: \n   - The Customer shall pay an amount of $10,000 per month for the Standard T...",
          "Type: contracts<br>Text: ---\n\n## Features\n\n- **AI-Powered Risk Assessment**: Customer will have access to enhanced risk evalu...",
          "Type: contracts<br>Text: - **Customer Portal**: A dedicated portal will be provided, allowing the Customer's clients to manag...",
          "Type: contracts<br>Text: ______________________________  \n[Name], [Title]  \nDate: ______________________\n\n**For Greenstone In...",
          "Type: contracts<br>Text: # Contract with GreenValley Insurance for Homellm\n\n**Contract Date:** October 6, 2023  \n**Contract N...",
          "Type: contracts<br>Text: 4. **Confidentiality:** Both parties agree to maintain the confidentiality of proprietary informatio...",
          "Type: contracts<br>Text: 1. **AI-Powered Risk Assessment:** Access to advanced AI algorithms for real-time risk evaluations.\n...",
          "Type: contracts<br>Text: 3. **Regular Updates:** Insurellm will offer ongoing updates and enhancements to the Homellm platfor...",
          "Type: contracts<br>Text: # Contract with Pinnacle Insurance Co. for Homellm\n\n## Terms\nThis contract (\"Contract\") is entered i...",
          "Type: contracts<br>Text: ## Renewal\n1. **Renewal Terms**: At the end of the initial term, this Contract shall automatically r...",
          "Type: contracts<br>Text: ## Features\n1. **AI-Powered Risk Assessment**: Utilized for tailored underwriting decisions specific...",
          "Type: contracts<br>Text: ## Support\n1. **Technical Support**: Insurellm shall provide 24/7 technical support via an email and...",
          "Type: contracts<br>Text: # Contract with Roadway Insurance Inc. for Carllm\n\n---\n\n## Terms\n\n1. **Agreement Effective Date**: T...",
          "Type: contracts<br>Text: ---\n\n## Renewal\n\n1. **Automatic Renewal**: This agreement will automatically renew for an additional...",
          "Type: contracts<br>Text: ---\n\n## Features\n\n1. **Access to Core Features**: Roadway Insurance Inc. will have access to all Pro...",
          "Type: contracts<br>Text: ---\n\n## Support\n\n1. **Technical Support**: Roadway Insurance Inc. will receive priority technical su...",
          "Type: contracts<br>Text: # Contract with Stellar Insurance Co. for Rellm\n\n## Terms\nThis contract is made between **Insurellm*...",
          "Type: contracts<br>Text: ### Termination\nEither party may terminate this agreement with a **30-day written notice**. In the e...",
          "Type: contracts<br>Text: ## Features\nStellar Insurance Co. will receive access to the following features of the Rellm product...",
          "Type: contracts<br>Text: ## Support\nInsurellm provides Stellar Insurance Co. with the following support services:\n\n- **24/7 T...",
          "Type: contracts<br>Text: # Contract with TechDrive Insurance for Carllm\n\n**Contract Date:** October 1, 2024  \n**Contract Dura...",
          "Type: contracts<br>Text: ## Renewal\n\n1. **Automatic Renewal**: This contract shall automatically renew for additional one-yea...",
          "Type: contracts<br>Text: ## Support\n\n1. **Customer Support**: Insurellm will provide 24/7 customer support to TechDrive Insur...",
          "Type: contracts<br>Text: **TechDrive Insurance Representative:**  \nName: Sarah Johnson  \nTitle: Operations Director  \nDate: _...",
          "Type: contracts<br>Text: # Contract with Velocity Auto Solutions for Carllm\n\n**Contract Date:** October 1, 2023  \n**Contract ...",
          "Type: contracts<br>Text: ## Renewal\n\n1. **Automatic Renewal**: This contract will automatically renew for successive 12-month...",
          "Type: contracts<br>Text: ## Support\n\n1. **Customer Support**: Velocity Auto Solutions will have access to Insurellm’s custome...",
          "Type: employees<br>Text: # HR Record\n\n# Alex Chen\n\n## Summary\n- **Date of Birth:** March 15, 1990  \n- **Job Title:** Backend ...",
          "Type: employees<br>Text: ## Annual Performance History\n- **2020:**  \n  - Completed onboarding successfully.  \n  - Met expecta...",
          "Type: employees<br>Text: ## Compensation History\n- **2020:** Base Salary: $80,000  \n- **2021:** Base Salary Increase to $90,0...",
          "Type: employees<br>Text: Alex Chen continues to be a vital asset at Insurellm, contributing significantly to innovative backe...",
          "Type: employees<br>Text: # HR Record\n\n# Alex Harper\n\n## Summary\n- **Date of Birth**: March 15, 1993  \n- **Job Title**: Sales ...",
          "Type: employees<br>Text: ## Annual Performance History  \n- **2021**:  \n  - **Performance Rating**: 4.5/5  \n  - **Key Achievem...",
          "Type: employees<br>Text: - **2022**:  \n  - **Base Salary**: $65,000 (Promotion to Senior SDR)  \n  - **Bonus**: $13,000 (20% o...",
          "Type: employees<br>Text: # HR Record\n\n# Alex Thomson\n\n## Summary\n- **Date of Birth:** March 15, 1995  \n- **Job Title:** Sales...",
          "Type: employees<br>Text: ## Annual Performance History  \n- **2022** - Rated as \"Exceeds Expectations.\" Alex Thomson achieved ...",
          "Type: employees<br>Text: ## Other HR Notes\n- Alex Thomson is an active member of the Diversity and Inclusion committee at Ins...",
          "Type: employees<br>Text: # Avery Lancaster\n\n## Summary\n- **Date of Birth**: March 15, 1985  \n- **Job Title**: Co-Founder & Ch...",
          "Type: employees<br>Text: - **2010 - 2013**: Business Analyst at Edge Analytics  \n  Prior to joining Innovate, Avery worked as...",
          "Type: employees<br>Text: - **2018**: **Exceeds Expectations**  \n  Under Avery’s pivoted vision, Insurellm launched two new su...",
          "Type: employees<br>Text: - **2022**: **Satisfactory**  \n  Avery focused on rebuilding team dynamics and addressing employee c...",
          "Type: employees<br>Text: ## Compensation History\n- **2015**: $150,000 base salary + Significant equity stake  \n- **2016**: $1...",
          "Type: employees<br>Text: ## Other HR Notes\n- **Professional Development**: Avery has actively participated in leadership trai...",
          "Type: employees<br>Text: # HR Record\n\n# Emily Carter\n\n## Summary\n- **Date of Birth:** August 12, 1990  \n- **Job Title:** Acco...",
          "Type: employees<br>Text: - **2017-2019:** Marketing Intern  \n  - Assisted with market research and campaign development for s...",
          "Type: employees<br>Text: ## Compensation History\n| Year | Base Salary | Bonus         | Total Compensation |\n|------|--------...",
          "Type: employees<br>Text: Emily Carter exemplifies the kind of talent that drives Insurellm's success and is an invaluable ass...",
          "Type: employees<br>Text: # HR Record\n\n# Emily Tran\n\n## Summary\n- **Date of Birth:** March 18, 1991  \n- **Job Title:** Digital...",
          "Type: employees<br>Text: - **January 2017 - May 2018**: Marketing Intern  \n  - Supported the Marketing team by collaborating ...",
          "Type: employees<br>Text: - **2021**:  \n  - Performance Rating: Meets Expectations  \n  - Key Achievements: Contributed to the ...",
          "Type: employees<br>Text: - **Professional Development Goals**:  \n  - Emily Tran aims to become a Marketing Manager within the...",
          "Type: employees<br>Text: # HR Record\n\n# Jordan Blake\n\n## Summary\n- **Date of Birth:** March 15, 1993  \n- **Job Title:** Sales...",
          "Type: employees<br>Text: ## Annual Performance History\n- **2021:** First year at Insurellm; achieved 90% of monthly targets. ...",
          "Type: employees<br>Text: ## Other HR Notes\n- Jordan has shown an interest in continuing education, actively participating in ...",
          "Type: employees<br>Text: # HR Record\n\n# Jordan K. Bishop\n\n## Summary\n- **Date of Birth:** March 15, 1990\n- **Job Title:** Fro...",
          "Type: employees<br>Text: ## Annual Performance History\n- **2019:** Exceeds Expectations - Continuously delivered high-quality...",
          "Type: employees<br>Text: ## Compensation History\n- **June 2018:** Starting Salary - $85,000\n- **June 2019:** Salary Increase ...",
          "Type: employees<br>Text: ## Other HR Notes\n- Jordan K. Bishop has been an integral part of club initiatives, including the In...",
          "Type: employees<br>Text: # HR Record\n\n# Maxine Thompson\n\n## Summary\n- **Date of Birth:** January 15, 1991  \n- **Job Title:** ...",
          "Type: employees<br>Text: ## Insurellm Career Progression\n- **January 2017 - October 2018**: **Junior Data Engineer**  \n  * Ma...",
          "Type: employees<br>Text: ## Annual Performance History\n- **2017**: *Meets Expectations*  \n  Maxine showed potential in her ro...",
          "Type: employees<br>Text: - **2021**: *Exceeds Expectations*  \n  Maxine spearheaded the transition to a new data warehousing s...",
          "Type: employees<br>Text: ## Compensation History\n- **2017**: $70,000 (Junior Data Engineer)  \n- **2018**: $75,000 (Junior Dat...",
          "Type: employees<br>Text: # HR Record\n\n# Oliver Spencer\n\n## Summary\n- **Date of Birth**: May 14, 1990  \n- **Job Title**: Backe...",
          "Type: employees<br>Text: ## Annual Performance History\n- **2018**: **3/5** - Adaptable team player but still learning to take...",
          "Type: employees<br>Text: ## Compensation History\n- **March 2018**: Initial salary of $80,000.\n- **July 2019**: Salary increas...",
          "Type: employees<br>Text: # Samantha Greene\n\n## Summary\n- **Date of Birth:** October 14, 1990\n- **Job Title:** HR Generalist\n-...",
          "Type: employees<br>Text: ## Annual Performance History\n- **2020:** Exceeds Expectations  \n  Samantha Greene demonstrated exce...",
          "Type: employees<br>Text: ## Compensation History\n- **2020:** Base Salary - $55,000  \n  The entry-level salary matched industr...",
          "Type: employees<br>Text: - **2023:** Base Salary - $70,000  \n  Recognized for substantial improvement in employee relations m...",
          "Type: employees<br>Text: # HR Record\n\n# Samuel Trenton\n\n## Summary\n- **Date of Birth:** April 12, 1989  \n- **Job Title:** Sen...",
          "Type: employees<br>Text: ## Annual Performance History\n- **2023:** Rating: 4.5/5  \n  *Samuel exceeded expectations, successfu...",
          "Type: employees<br>Text: ## Compensation History\n- **2023:** Base Salary: $115,000 + Bonus: $15,000  \n  *Annual bonus based o...",
          "Type: employees<br>Text: - **Engagement in Company Culture:** Regularly participates in team-building events and contributes ...",
          "Type: products<br>Text: # Product Summary\n\n# Carllm\n\n## Summary\n\nCarllm is an innovative auto insurance product developed by...",
          "Type: products<br>Text: - **Instant Quoting**: With Carllm, insurance companies can offer near-instant quotes to customers, ...",
          "Type: products<br>Text: - **Mobile Integration**: Carllm is designed to work seamlessly with mobile applications, providing ...",
          "Type: products<br>Text: - **Professional Tier**: $2,500/month\n  - For medium-sized companies.\n  - All Basic Tier features pl...",
          "Type: products<br>Text: ### Q2 2025: Customer Experience Improvements\n- Launch of a new **mobile app** for end-users.\n- Intr...",
          "Type: products<br>Text: # Product Summary\n\n# Homellm\n\n## Summary\nHomellm is an innovative home insurance product developed b...",
          "Type: products<br>Text: ### 2. Dynamic Pricing Model\nWith Homellm's innovative dynamic pricing model, insurance providers ca...",
          "Type: products<br>Text: ### 5. Multi-Channel Integration\nHomellm seamlessly integrates into existing insurance platforms, pr...",
          "Type: products<br>Text: - **Basic Tier:** Starting at $5,000/month for small insurers with basic integration features.\n- **S...",
          "Type: products<br>Text: All tiers include a comprehensive training program and ongoing updates to ensure optimal performance...",
          "Type: products<br>Text: With Homellm, Insurellm is committed to transforming the landscape of home insurance, ensuring both ...",
          "Type: products<br>Text: # Product Summary\n\n# Markellm\n\n## Summary\n\nMarkellm is an innovative two-sided marketplace designed ...",
          "Type: products<br>Text: - **User-Friendly Interface**: Designed with user experience in mind, Markellm features an intuitive...",
          "Type: products<br>Text: - **Customer Support**: Our dedicated support team is always available to assist both consumers and ...",
          "Type: products<br>Text: ### For Insurance Companies:\n- **Basic Listing Fee**: $199/month for a featured listing on the platf...",
          "Type: products<br>Text: ### Q3 2025\n- Initiate a comprehensive marketing campaign targeting both consumers and insurers to i...",
          "Type: products<br>Text: # Product Summary\n\n# Rellm: AI-Powered Enterprise Reinsurance Solution\n\n## Summary\n\nRellm is an inno...",
          "Type: products<br>Text: ### Seamless Integrations\nRellm's architecture is designed for effortless integration with existing ...",
          "Type: products<br>Text: ### Regulatory Compliance Tools\nRellm includes built-in compliance tracking features to help organiz...",
          "Type: products<br>Text: Join the growing number of organizations leveraging Rellm to enhance their reinsurance processes whi...",
          "Type: products<br>Text: Experience the future of reinsurance with Rellm, where innovation meets reliability. Let Insurellm h..."
         ],
         "type": "scatter3d",
         "x": {
          "bdata": "90CRQQQkO8ECdwhCu72WQoG0n8Ko+/RBDoHAwZYq6cE+dpLBij/Iwuq9dkHIZb/AODASwC50h8F2Av/ALdKPwJxybsCuQoBCBiuSQpdfeUIh7i1CBwGAQRP/usEVP8vClYAxQjYFJsKddCnBvQkswjjCasIY7EpCgngIwtRyWMJ4oP7B13E1QtyIX0J3joLBF74OQqI/psI5NBVC6MFDwmouhcIuianCpUSCQu5yo0KXLEvCHvaVwgMMsMELqzfC3ywowmJcPMJYGLTBxsm4wScUhcJRrozCspxKwm8OJcIHQZlClMXDwcyrRkKggJBBqZgBQj+yhUEX+nxBycLIQKrXBkHAq3BBlc41QkK2f0IPHY9CGdPmwcj+akL8WrJB1m25QhzR+EGyzHHCp4cXQCf+hMJE1f1Bb4r7QZbjrMBOMb2/HT2hwPBaysEh5YxCGZG4wGuylMFwI4TCvGAxwr4PHUKYEnjCi+24PxFBsMF1/VdCoNlpwRnQMcB8T7pBZ+viwahBusGHRkHC86WFQt2m58DiQk9CFeuHQe6s3EF8aThA9YokQKokNkL3h+lB/KWaQWIuoUFIeUBAZDwsQjIYIUL+XexBpr/rQSrYR0GF/q3BtSUzQvblNkILECjBVDXhwe7X+0Hfs+/B",
          "dtype": "f4"
         },
         "y": {
          "bdata": "k0JiQQOysEHBJVA+6hC1wagpxUDVkFbCO2WTwg3NzsL/iJ3BDKvsweNi4MHNaXnCcRUrwn2d9z+5O6NBiwg5QRQYucI3dKnCtXJjwm6Dj8KUgYjC3pWkwjkT/MFRHzjBRqSTwQ3V3UFXfNXCpk9Iwod2TsEK3plAakqBwhQUosJCuX3CfmL+QiQSXMJj0JPC7eokQM8O78FwE7HCg6yHQOmnP8JZOcvAj5YDwiPieMFm+F/BSpegwTfPGsITjxLCR1MiwjVSksESrJHB9Egcwj0b/MEJ2RfBAkxXwcSHFULL2qdCw8iUQtc6A0JupUlC8mxKQjlBj0J7suJBsouuQve7kUEDFzZCxRBtQXwgzUFFk2NBwg3MQqFP1UEWdyNCcL3+QafwzEJWt2BChFtuQJNMqMJ3haRCuDtIQq8ATkLhOmpCin/BQX/+3UE0qGVCaETvQtobg0Hlk4xC+LJoQvvKp0JVol1Cr5S3QuDA50HblIZCXsxkQn/LnELYVq1CWujSQsKssUJfQvBB6ot+QqQztEKUekRCY4OowaVviMFE4f3BpnDxQrAV4MF7eiHCL4JpwlXS3MFx68nB0MBDwrRXp8EwKUDCgcSQwg3Qe8JZWf9B4OpPwrM5zMGUqHLCa0VbwY7TxcJVuO/B",
          "dtype": "f4"
         },
         "z": {
          "bdata": "YVMCQiGG50AVsDtCq6EQQu6MyEHKPrPCYgP5wRaIt0CJkKtBkFYewRhQB0DBdArB9u2PQc8cM0K6yrJCSHt/Qu2FPsEC67dBh3E2QeqA7MD4PQVBsj4+QXZ2k8BcBypBBcJuwejDYEL7X8VBCauwQRnB6UBNXXfC9nG8wFN72UGXYyFCBo+IQXysLUKIQYZBJx2/Qtdh/kBqBF9CLEK1woyZ/8HQxSTB5SrUweyBR8LnXy9CiKQyQkhFi0KYNl5C4S0uwmo/9sE9U0XCJ2aCwlFmfcJkdCbCo2qCwmk62MGdG6/Bn4aPwRsQfEKE5E/CYfvYwc1tLcF+lWbCUm1TwrHVGMLCemNCNnPkwJRqpMGoIAXAlC4bwkgTp0GaMOXAbtw7wgngMsHqgGXCEhzlwOhlhMEWDhDCrDboQfnhgMIeiPjBHU2xwrQ5QMKo3N/ByKLRwZ8niMKYZj7Bh2I5Qbkje0FaRc5B5icNQGkar8GQ0knBp5GJwC+0AkL+6A5ChcNqwCjinkFwB/tA8JFBQe30vMEWh4TCOx6AwjKiEMLYJg3Co3HkQUDKUcKFdRZCPnlUQuV7lEJOY1JCeE6XQgB2eUJS6pXBuPXXwYFfK8JP6idC/o9HwitjlUEhvKVCfHWWQqo+TcK5TM5C",
          "dtype": "f4"
         }
        }
       ],
       "layout": {
        "height": 700,
        "margin": {
         "b": 10,
         "l": 10,
         "r": 20,
         "t": 40
        },
        "scene": {
         "xaxis": {
          "title": {
           "text": "x"
          }
         },
         "yaxis": {
          "title": {
           "text": "y"
          }
         },
         "zaxis": {
          "title": {
           "text": "z"
          }
         }
        },
        "template": {
         "data": {
          "bar": [
           {
            "error_x": {
             "color": "#2a3f5f"
            },
            "error_y": {
             "color": "#2a3f5f"
            },
            "marker": {
             "line": {
              "color": "#E5ECF6",
              "width": 0.5
             },
             "pattern": {
              "fillmode": "overlay",
              "size": 10,
              "solidity": 0.2
             }
            },
            "type": "bar"
           }
          ],
          "barpolar": [
           {
            "marker": {
             "line": {
              "color": "#E5ECF6",
              "width": 0.5
             },
             "pattern": {
              "fillmode": "overlay",
              "size": 10,
              "solidity": 0.2
             }
            },
            "type": "barpolar"
           }
          ],
          "carpet": [
           {
            "aaxis": {
             "endlinecolor": "#2a3f5f",
             "gridcolor": "white",
             "linecolor": "white",
             "minorgridcolor": "white",
             "startlinecolor": "#2a3f5f"
            },
            "baxis": {
             "endlinecolor": "#2a3f5f",
             "gridcolor": "white",
             "linecolor": "white",
             "minorgridcolor": "white",
             "startlinecolor": "#2a3f5f"
            },
            "type": "carpet"
           }
          ],
          "choropleth": [
           {
            "colorbar": {
             "outlinewidth": 0,
             "ticks": ""
            },
            "type": "choropleth"
           }
          ],
          "contour": [
           {
            "colorbar": {
             "outlinewidth": 0,
             "ticks": ""
            },
            "colorscale": [
             [
              0,
              "#0d0887"
             ],
             [
              0.1111111111111111,
              "#46039f"
             ],
             [
              0.2222222222222222,
              "#7201a8"
             ],
             [
              0.3333333333333333,
              "#9c179e"
             ],
             [
              0.4444444444444444,
              "#bd3786"
             ],
             [
              0.5555555555555556,
              "#d8576b"
             ],
             [
              0.6666666666666666,
              "#ed7953"
             ],
             [
              0.7777777777777778,
              "#fb9f3a"
             ],
             [
              0.8888888888888888,
              "#fdca26"
             ],
             [
              1,
              "#f0f921"
             ]
            ],
            "type": "contour"
           }
          ],
          "contourcarpet": [
           {
            "colorbar": {
             "outlinewidth": 0,
             "ticks": ""
            },
            "type": "contourcarpet"
           }
          ],
          "heatmap": [
           {
            "colorbar": {
             "outlinewidth": 0,
             "ticks": ""
            },
            "colorscale": [
             [
              0,
              "#0d0887"
             ],
             [
              0.1111111111111111,
              "#46039f"
             ],
             [
              0.2222222222222222,
              "#7201a8"
             ],
             [
              0.3333333333333333,
              "#9c179e"
             ],
             [
              0.4444444444444444,
              "#bd3786"
             ],
             [
              0.5555555555555556,
              "#d8576b"
             ],
             [
              0.6666666666666666,
              "#ed7953"
             ],
             [
              0.7777777777777778,
              "#fb9f3a"
             ],
             [
              0.8888888888888888,
              "#fdca26"
             ],
             [
              1,
              "#f0f921"
             ]
            ],
            "type": "heatmap"
           }
          ],
          "histogram": [
           {
            "marker": {
             "pattern": {
              "fillmode": "overlay",
              "size": 10,
              "solidity": 0.2
             }
            },
            "type": "histogram"
           }
          ],
          "histogram2d": [
           {
            "colorbar": {
             "outlinewidth": 0,
             "ticks": ""
            },
            "colorscale": [
             [
              0,
              "#0d0887"
             ],
             [
              0.1111111111111111,
              "#46039f"
             ],
             [
              0.2222222222222222,
              "#7201a8"
             ],
             [
              0.3333333333333333,
              "#9c179e"
             ],
             [
              0.4444444444444444,
              "#bd3786"
             ],
             [
              0.5555555555555556,
              "#d8576b"
             ],
             [
              0.6666666666666666,
              "#ed7953"
             ],
             [
              0.7777777777777778,
              "#fb9f3a"
             ],
             [
              0.8888888888888888,
              "#fdca26"
             ],
             [
              1,
              "#f0f921"
             ]
            ],
            "type": "histogram2d"
           }
          ],
          "histogram2dcontour": [
           {
            "colorbar": {
             "outlinewidth": 0,
             "ticks": ""
            },
            "colorscale": [
             [
              0,
              "#0d0887"
             ],
             [
              0.1111111111111111,
              "#46039f"
             ],
             [
              0.2222222222222222,
              "#7201a8"
             ],
             [
              0.3333333333333333,
              "#9c179e"
             ],
             [
              0.4444444444444444,
              "#bd3786"
             ],
             [
              0.5555555555555556,
              "#d8576b"
             ],
             [
              0.6666666666666666,
              "#ed7953"
             ],
             [
              0.7777777777777778,
              "#fb9f3a"
             ],
             [
              0.8888888888888888,
              "#fdca26"
             ],
             [
              1,
              "#f0f921"
             ]
            ],
            "type": "histogram2dcontour"
           }
          ],
          "mesh3d": [
           {
            "colorbar": {
             "outlinewidth": 0,
             "ticks": ""
            },
            "type": "mesh3d"
           }
          ],
          "parcoords": [
           {
            "line": {
             "colorbar": {
              "outlinewidth": 0,
              "ticks": ""
             }
            },
            "type": "parcoords"
           }
          ],
          "pie": [
           {
            "automargin": true,
            "type": "pie"
           }
          ],
          "scatter": [
           {
            "fillpattern": {
             "fillmode": "overlay",
             "size": 10,
             "solidity": 0.2
            },
            "type": "scatter"
           }
          ],
          "scatter3d": [
           {
            "line": {
             "colorbar": {
              "outlinewidth": 0,
              "ticks": ""
             }
            },
            "marker": {
             "colorbar": {
              "outlinewidth": 0,
              "ticks": ""
             }
            },
            "type": "scatter3d"
           }
          ],
          "scattercarpet": [
           {
            "marker": {
             "colorbar": {
              "outlinewidth": 0,
              "ticks": ""
             }
            },
            "type": "scattercarpet"
           }
          ],
          "scattergeo": [
           {
            "marker": {
             "colorbar": {
              "outlinewidth": 0,
              "ticks": ""
             }
            },
            "type": "scattergeo"
           }
          ],
          "scattergl": [
           {
            "marker": {
             "colorbar": {
              "outlinewidth": 0,
              "ticks": ""
             }
            },
            "type": "scattergl"
           }
          ],
          "scattermap": [
           {
            "marker": {
             "colorbar": {
              "outlinewidth": 0,
              "ticks": ""
             }
            },
            "type": "scattermap"
           }
          ],
          "scattermapbox": [
           {
            "marker": {
             "colorbar": {
              "outlinewidth": 0,
              "ticks": ""
             }
            },
            "type": "scattermapbox"
           }
          ],
          "scatterpolar": [
           {
            "marker": {
             "colorbar": {
              "outlinewidth": 0,
              "ticks": ""
             }
            },
            "type": "scatterpolar"
           }
          ],
          "scatterpolargl": [
           {
            "marker": {
             "colorbar": {
              "outlinewidth": 0,
              "ticks": ""
             }
            },
            "type": "scatterpolargl"
           }
          ],
          "scatterternary": [
           {
            "marker": {
             "colorbar": {
              "outlinewidth": 0,
              "ticks": ""
             }
            },
            "type": "scatterternary"
           }
          ],
          "surface": [
           {
            "colorbar": {
             "outlinewidth": 0,
             "ticks": ""
            },
            "colorscale": [
             [
              0,
              "#0d0887"
             ],
             [
              0.1111111111111111,
              "#46039f"
             ],
             [
              0.2222222222222222,
              "#7201a8"
             ],
             [
              0.3333333333333333,
              "#9c179e"
             ],
             [
              0.4444444444444444,
              "#bd3786"
             ],
             [
              0.5555555555555556,
              "#d8576b"
             ],
             [
              0.6666666666666666,
              "#ed7953"
             ],
             [
              0.7777777777777778,
              "#fb9f3a"
             ],
             [
              0.8888888888888888,
              "#fdca26"
             ],
             [
              1,
              "#f0f921"
             ]
            ],
            "type": "surface"
           }
          ],
          "table": [
           {
            "cells": {
             "fill": {
              "color": "#EBF0F8"
             },
             "line": {
              "color": "white"
             }
            },
            "header": {
             "fill": {
              "color": "#C8D4E3"
             },
             "line": {
              "color": "white"
             }
            },
            "type": "table"
           }
          ]
         },
         "layout": {
          "annotationdefaults": {
           "arrowcolor": "#2a3f5f",
           "arrowhead": 0,
           "arrowwidth": 1
          },
          "autotypenumbers": "strict",
          "coloraxis": {
           "colorbar": {
            "outlinewidth": 0,
            "ticks": ""
           }
          },
          "colorscale": {
           "diverging": [
            [
             0,
             "#8e0152"
            ],
            [
             0.1,
             "#c51b7d"
            ],
            [
             0.2,
             "#de77ae"
            ],
            [
             0.3,
             "#f1b6da"
            ],
            [
             0.4,
             "#fde0ef"
            ],
            [
             0.5,
             "#f7f7f7"
            ],
            [
             0.6,
             "#e6f5d0"
            ],
            [
             0.7,
             "#b8e186"
            ],
            [
             0.8,
             "#7fbc41"
            ],
            [
             0.9,
             "#4d9221"
            ],
            [
             1,
             "#276419"
            ]
           ],
           "sequential": [
            [
             0,
             "#0d0887"
            ],
            [
             0.1111111111111111,
             "#46039f"
            ],
            [
             0.2222222222222222,
             "#7201a8"
            ],
            [
             0.3333333333333333,
             "#9c179e"
            ],
            [
             0.4444444444444444,
             "#bd3786"
            ],
            [
             0.5555555555555556,
             "#d8576b"
            ],
            [
             0.6666666666666666,
             "#ed7953"
            ],
            [
             0.7777777777777778,
             "#fb9f3a"
            ],
            [
             0.8888888888888888,
             "#fdca26"
            ],
            [
             1,
             "#f0f921"
            ]
           ],
           "sequentialminus": [
            [
             0,
             "#0d0887"
            ],
            [
             0.1111111111111111,
             "#46039f"
            ],
            [
             0.2222222222222222,
             "#7201a8"
            ],
            [
             0.3333333333333333,
             "#9c179e"
            ],
            [
             0.4444444444444444,
             "#bd3786"
            ],
            [
             0.5555555555555556,
             "#d8576b"
            ],
            [
             0.6666666666666666,
             "#ed7953"
            ],
            [
             0.7777777777777778,
             "#fb9f3a"
            ],
            [
             0.8888888888888888,
             "#fdca26"
            ],
            [
             1,
             "#f0f921"
            ]
           ]
          },
          "colorway": [
           "#636efa",
           "#EF553B",
           "#00cc96",
           "#ab63fa",
           "#FFA15A",
           "#19d3f3",
           "#FF6692",
           "#B6E880",
           "#FF97FF",
           "#FECB52"
          ],
          "font": {
           "color": "#2a3f5f"
          },
          "geo": {
           "bgcolor": "white",
           "lakecolor": "white",
           "landcolor": "#E5ECF6",
           "showlakes": true,
           "showland": true,
           "subunitcolor": "white"
          },
          "hoverlabel": {
           "align": "left"
          },
          "hovermode": "closest",
          "mapbox": {
           "style": "light"
          },
          "paper_bgcolor": "white",
          "plot_bgcolor": "#E5ECF6",
          "polar": {
           "angularaxis": {
            "gridcolor": "white",
            "linecolor": "white",
            "ticks": ""
           },
           "bgcolor": "#E5ECF6",
           "radialaxis": {
            "gridcolor": "white",
            "linecolor": "white",
            "ticks": ""
           }
          },
          "scene": {
           "xaxis": {
            "backgroundcolor": "#E5ECF6",
            "gridcolor": "white",
            "gridwidth": 2,
            "linecolor": "white",
            "showbackground": true,
            "ticks": "",
            "zerolinecolor": "white"
           },
           "yaxis": {
            "backgroundcolor": "#E5ECF6",
            "gridcolor": "white",
            "gridwidth": 2,
            "linecolor": "white",
            "showbackground": true,
            "ticks": "",
            "zerolinecolor": "white"
           },
           "zaxis": {
            "backgroundcolor": "#E5ECF6",
            "gridcolor": "white",
            "gridwidth": 2,
            "linecolor": "white",
            "showbackground": true,
            "ticks": "",
            "zerolinecolor": "white"
           }
          },
          "shapedefaults": {
           "line": {
            "color": "#2a3f5f"
           }
          },
          "ternary": {
           "aaxis": {
            "gridcolor": "white",
            "linecolor": "white",
            "ticks": ""
           },
           "baxis": {
            "gridcolor": "white",
            "linecolor": "white",
            "ticks": ""
           },
           "bgcolor": "#E5ECF6",
           "caxis": {
            "gridcolor": "white",
            "linecolor": "white",
            "ticks": ""
           }
          },
          "title": {
           "x": 0.05
          },
          "xaxis": {
           "automargin": true,
           "gridcolor": "white",
           "linecolor": "white",
           "ticks": "",
           "title": {
            "standoff": 15
           },
           "zerolinecolor": "white",
           "zerolinewidth": 2
          },
          "yaxis": {
           "automargin": true,
           "gridcolor": "white",
           "linecolor": "white",
           "ticks": "",
           "title": {
            "standoff": 15
           },
           "zerolinecolor": "white",
           "zerolinewidth": 2
          }
         }
        },
        "title": {
         "text": "3D Chroma Vector Store Visualization"
        },
        "width": 900
       }
      }
     },
     "metadata": {},
     "output_type": "display_data"
    }
   ],
   "source": [
    "# Let's try 3D!\n",
    "\n",
    "tsne = TSNE(n_components=3, random_state=42)\n",
    "reduced_vectors = tsne.fit_transform(vectors)\n",
    "\n",
    "# Create the 3D scatter plot\n",
    "fig = go.Figure(data=[go.Scatter3d(\n",
    "    x=reduced_vectors[:, 0],\n",
    "    y=reduced_vectors[:, 1],\n",
    "    z=reduced_vectors[:, 2],\n",
    "    mode='markers',\n",
    "    marker=dict(size=5, color=colors, opacity=0.8),\n",
    "    text=[f\"Type: {t}<br>Text: {d[:100]}...\" for t, d in zip(doc_types, documents)],\n",
    "    hoverinfo='text'\n",
    ")])\n",
    "\n",
    "fig.update_layout(\n",
    "    title='3D Chroma Vector Store Visualization',\n",
    "    scene=dict(xaxis_title='x', yaxis_title='y', zaxis_title='z'),\n",
    "    width=900,\n",
    "    height=700,\n",
    "    margin=dict(r=20, b=10, l=10, t=40)\n",
    ")\n",
    "\n",
    "fig.show()"
   ]
  },
  {
   "cell_type": "code",
   "execution_count": null,
   "id": "9b3ada26-b4b7-42fc-b943-933c14adf89b",
   "metadata": {},
   "outputs": [],
   "source": []
  }
 ],
 "metadata": {
  "kernelspec": {
   "display_name": "llms_engineering",
   "language": "python",
   "name": "python3"
  },
  "language_info": {
   "codemirror_mode": {
    "name": "ipython",
    "version": 3
   },
   "file_extension": ".py",
   "mimetype": "text/x-python",
   "name": "python",
   "nbconvert_exporter": "python",
   "pygments_lexer": "ipython3",
   "version": "3.11.11"
  }
 },
 "nbformat": 4,
 "nbformat_minor": 5
}
