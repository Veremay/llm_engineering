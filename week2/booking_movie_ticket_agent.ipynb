{
 "cells": [
  {
   "cell_type": "code",
   "execution_count": 1,
   "metadata": {},
   "outputs": [],
   "source": [
    "import os\n",
    "import json\n",
    "from dotenv import load_dotenv\n",
    "from openai import OpenAI\n",
    "import gradio as gr"
   ]
  },
  {
   "cell_type": "code",
   "execution_count": null,
   "metadata": {},
   "outputs": [],
   "source": [
    "load_dotenv(override=True)\n",
    "\n",
    "openai_api_key = os.getenv('OPENAI_API_KEY')\n",
    "if openai_api_key:\n",
    "    print(f\"OpenAI API Key exists and begins {openai_api_key[:8]}\")\n",
    "else:\n",
    "    print(\"OpenAI API Key not set\")\n",
    "    \n",
    "MODEL = \"Qwen/QwQ-32B\"\n",
    "openai = OpenAI(base_url='https://api.siliconflow.cn/v1',\n",
    "                            api_key=openai_api_key)"
   ]
  },
  {
   "cell_type": "code",
   "execution_count": 3,
   "metadata": {},
   "outputs": [],
   "source": [
    "system_message = \"你是一个电影院票务助手，能够帮助用户查询电影票价、放映时间和剩余座位数，还能处理用户的订票请求。\"\n",
    "system_message += \"\\n当用户请求订票时，需要检查该场次剩余座位是否足够。\"\n",
    "system_message += \"\\n若足够则完成订票并更新剩余座位数，并且询问用户的姓名和电话来填写预约信息；若不足则告知用户该场次剩余座位不足，看看别的场次。\"\n",
    "system_message += \"\\n一定要准确。 如果你不知道答案，就说不知道。\"\n",
    "system_message += \"\\n今天的日期是2025-06-09\""
   ]
  },
  {
   "cell_type": "code",
   "execution_count": null,
   "metadata": {},
   "outputs": [],
   "source": [
    "try:\n",
    "    with open('ticket_info.json', 'r', encoding='utf-8') as file:\n",
    "        ticket_info = json.load(file)\n",
    "    print(\"文件读取成功\")\n",
    "except FileNotFoundError:\n",
    "    print(\"未找到指定的 JSON 文件，请检查文件路径。\")\n",
    "except json.JSONDecodeError:\n",
    "    print(\"JSON 文件格式错误，无法解析。\")\n",
    "except Exception as e:\n",
    "    print(f\"读取文件时发生错误: {e}\")"
   ]
  },
  {
   "cell_type": "code",
   "execution_count": 5,
   "metadata": {},
   "outputs": [],
   "source": [
    "def save_ticket_info(data):\n",
    "    try:\n",
    "        with open('ticket_info.json', 'w', encoding='utf-8') as file:\n",
    "            json.dump(data, file, ensure_ascii=False, indent=2)\n",
    "    except Exception as e:\n",
    "        print(f\"保存文件时发生错误: {e}\")"
   ]
  },
  {
   "cell_type": "code",
   "execution_count": 6,
   "metadata": {},
   "outputs": [],
   "source": [
    "def update_booking_info(movie_name, show_time, seats_booked, name, phone):\n",
    "    \"\"\"\n",
    "    保存订票信息到 booking_list.txt 文件\n",
    "    :param movie_name: 电影名称\n",
    "    :param show_time: 放映时间\n",
    "    :param seats_booked: 预定票数\n",
    "    :param name: 预定人姓名\n",
    "    :param phone: 预定人电话号码\n",
    "    \"\"\"\n",
    "    booking_info = f\"电影名称: {movie_name}, 放映时间: {show_time}, 预定票数: {seats_booked}, 预定人姓名: {name}, 预定人电话: {phone}\\n\"\n",
    "    try:\n",
    "        with open('booking_list.txt', 'a', encoding='utf-8') as file:\n",
    "            file.write(booking_info)\n",
    "        print(\"订票信息保存成功\")\n",
    "    except Exception as e:\n",
    "        print(f\"保存订票信息时发生错误: {e}\")"
   ]
  },
  {
   "cell_type": "code",
   "execution_count": 7,
   "metadata": {},
   "outputs": [],
   "source": [
    "def get_ticket_price(movie_name):\n",
    "    print(f\"Tool get_ticket_price called for {movie_name}\")\n",
    "    for movie in ticket_info.get('movies', []):\n",
    "        if movie.get('movie_name') == movie_name:\n",
    "            return movie.get('price', \"未知\")\n",
    "    return \"不知道这个电影票价。\""
   ]
  },
  {
   "cell_type": "code",
   "execution_count": null,
   "metadata": {},
   "outputs": [],
   "source": [
    "get_ticket_price(\"泰坦尼克号\")"
   ]
  },
  {
   "cell_type": "code",
   "execution_count": 9,
   "metadata": {},
   "outputs": [],
   "source": [
    "def get_movie_time(movie_name):\n",
    "    print(f\"Tool get_movie_time called for {movie_name}\")\n",
    "    times = []\n",
    "    for movie in ticket_info.get('movies', []):\n",
    "        if movie.get('movie_name') == movie_name:\n",
    "            show_times = movie.get('show_times', [])\n",
    "            for time in show_times:\n",
    "                print(f\"Movie: {movie_name}, Time: {time}\")\n",
    "                times.append(time)\n",
    "            return times\n",
    "        \n",
    "    return \"不知道这个电影的放映时间。\""
   ]
  },
  {
   "cell_type": "code",
   "execution_count": null,
   "metadata": {},
   "outputs": [],
   "source": [
    "get_movie_time(\"泰坦尼克号\")"
   ]
  },
  {
   "cell_type": "code",
   "execution_count": 11,
   "metadata": {},
   "outputs": [],
   "source": [
    "def get_remaining_seats(movie_name, time):\n",
    "    print(f\"Tool get_remaining_seats called for {movie_name}\")\n",
    "    for movie in ticket_info.get('movies', []):\n",
    "        if movie.get('movie_name') == movie_name:\n",
    "            show_times = movie.get('show_times', [])\n",
    "            for show_time in show_times:\n",
    "                if show_time.get('time') == time:\n",
    "                    return show_time.get('remaining_seats')\n",
    "    return None\n",
    "    "
   ]
  },
  {
   "cell_type": "code",
   "execution_count": null,
   "metadata": {},
   "outputs": [],
   "source": [
    "get_remaining_seats(\"泰坦尼克号\", \"2025-06-09 12:00\")"
   ]
  },
  {
   "cell_type": "code",
   "execution_count": 13,
   "metadata": {},
   "outputs": [],
   "source": [
    "def booking_ticket(movie_name, time, num_tickets, name, phone):\n",
    "    print(f\"Tool booking_ticket called for {movie_name} at {time}\")\n",
    "    try:\n",
    "        # 加载票务信息\n",
    "        with open('ticket_info.json', 'r', encoding='utf-8') as file:\n",
    "            ticket_info = json.load(file)\n",
    "\n",
    "        # 查找对应电影和场次\n",
    "        for movie in ticket_info.get('movies', []):\n",
    "            if movie.get('movie_name') == movie_name:\n",
    "                for time_info in movie.get('show_times', []):\n",
    "                    if time_info.get('time') == time:\n",
    "                        remaining_seats = time_info.get('remaining_seats', 0)\n",
    "                        if remaining_seats >= num_tickets:\n",
    "                            # 更新剩余票数\n",
    "                            print(\"应该更新剩余票数\")\n",
    "                            time_info['remaining_seats'] -= num_tickets\n",
    "                            save_ticket_info(ticket_info)\n",
    "                            print(\"成功更新剩余票数\")\n",
    "                            # 保存订票信息\n",
    "                            update_booking_info(movie_name, time, num_tickets, name, phone)\n",
    "                            print(\"成功保存订票信息\")\n",
    "                            return True\n",
    "                        else:\n",
    "                            print(\"该场次剩余座位不足\")\n",
    "                            return False\n",
    "        print(\"未找到对应的电影场次\")\n",
    "        return False\n",
    "    except Exception as e:\n",
    "        print(f\"订票过程中发生错误: {e}\")\n",
    "        return False"
   ]
  },
  {
   "cell_type": "code",
   "execution_count": 14,
   "metadata": {},
   "outputs": [],
   "source": [
    "ticket_price_function = {\n",
    "        \"name\": \"get_ticket_price\",\n",
    "        \"description\": \"Get the ticket price of a specific movie in the cinema. Call this whenever you need to know the ticket price of a movie, for example when a customer asks 'How much is a ticket for this movie' or '这个电影票多少钱'\",\n",
    "        \"parameters\": {\n",
    "            \"type\": \"object\",\n",
    "            \"properties\": {\n",
    "                \"movie_name\": {\n",
    "                    \"type\": \"string\",\n",
    "                    \"description\": \"The name of the movie that the customer wants to know the ticket price for.\",\n",
    "                },\n",
    "            },\n",
    "            \"required\": [\"movie_name\"],\n",
    "            \"additionalProperties\": False\n",
    "        }\n",
    "    }"
   ]
  },
  {
   "cell_type": "code",
   "execution_count": 15,
   "metadata": {},
   "outputs": [],
   "source": [
    "movie_time_function = {\n",
    "        \"name\": \"get_movie_time\",\n",
    "        \"description\": \"Get all screening times of a specific movie in the cinema. Call this whenever you need to know when a movie is being shown, for example when a customer asks 'When is this movie playing'\",\n",
    "        \"parameters\": {\n",
    "            \"type\": \"object\",\n",
    "            \"properties\": {\n",
    "                \"movie_name\": {\n",
    "                    \"type\": \"string\",\n",
    "                    \"description\": \"The name of the movie that the customer wants to know the screening times for.\",\n",
    "                },\n",
    "            },\n",
    "            \"required\": [\"movie_name\"],\n",
    "            \"additionalProperties\": False\n",
    "        }\n",
    "    }"
   ]
  },
  {
   "cell_type": "code",
   "execution_count": 16,
   "metadata": {},
   "outputs": [],
   "source": [
    "remaining_seats_function = {\n",
    "        \"name\": \"get_remaining_seats\",\n",
    "        \"description\": \"Get the remaining seats of a specific movie at a certain screening time. Call this whenever you need to know the remaining seats of a movie screening, for example when a customer asks 'How many seats are left for this movie at this time'\",\n",
    "        \"parameters\": {\n",
    "            \"type\": \"object\",\n",
    "            \"properties\": {\n",
    "                \"movie_name\": {\n",
    "                    \"type\": \"string\",\n",
    "                    \"description\": \"The name of the movie that the customer wants to know the remaining seats for.\",\n",
    "                },\n",
    "                \"time\": {\n",
    "                    \"type\": \"string\",\n",
    "                    \"description\": \"The screening time of the movie, formatted as 'YYYY-MM-DD HH:MM'.\",\n",
    "                }\n",
    "            },\n",
    "            \"required\": [\"movie_name\", \"time\"],\n",
    "            \"additionalProperties\": False\n",
    "        }\n",
    "    }"
   ]
  },
  {
   "cell_type": "code",
   "execution_count": 17,
   "metadata": {},
   "outputs": [],
   "source": [
    "booking_function = {\n",
    "    \"name\": \"booking_ticket\",\n",
    "    \"description\": \"Book tickets for a specific movie at a specific time. Call this when making a reservation.\",\n",
    "    \"parameters\": {\n",
    "        \"type\": \"object\",\n",
    "        \"properties\": {\n",
    "            \"movie_name\": {\n",
    "                \"type\": \"string\",\n",
    "                \"description\": \"The name of the movie that the customer wants to book tickets for.\",\n",
    "            },\n",
    "            \"time\": {\n",
    "                \"type\": \"string\",\n",
    "                \"description\": \"The screening time of the movie, formatted as 'YYYY-MM-DD HH:MM'.\",\n",
    "            },\n",
    "            \"num_tickets\": {\n",
    "                \"type\": \"integer\",\n",
    "                \"description\": \"The number of tickets the customer wants to book.\",\n",
    "            },\n",
    "            \"name\": {\n",
    "                \"type\": \"string\",\n",
    "                \"description\": \"The name of the person making the reservation.\",\n",
    "            },\n",
    "            \"phone\": {\n",
    "                \"type\": \"string\",\n",
    "                \"description\": \"The phone number of the person making the reservation.\",\n",
    "            }\n",
    "        },\n",
    "        \"required\": [\"movie_name\", \"time\", \"num_tickets\", \"name\", \"phone\"],\n",
    "        \"additionalProperties\": False\n",
    "    }\n",
    "}"
   ]
  },
  {
   "cell_type": "code",
   "execution_count": 18,
   "metadata": {},
   "outputs": [],
   "source": [
    "# And this is included in a list of tools:\n",
    "\n",
    "tools = [{\"type\": \"function\", \"function\": ticket_price_function}, \n",
    "         {\"type\": \"function\", \"function\": movie_time_function}, \n",
    "         {\"type\": \"function\", \"function\": remaining_seats_function},\n",
    "         {\"type\": \"function\", \"function\": booking_function}]"
   ]
  },
  {
   "cell_type": "code",
   "execution_count": null,
   "metadata": {},
   "outputs": [],
   "source": [
    "system_message"
   ]
  },
  {
   "cell_type": "code",
   "execution_count": 20,
   "metadata": {},
   "outputs": [],
   "source": [
    "# We have to write that function handle_tool_call:\n",
    "\n",
    "def handle_tool_call(message):\n",
    "    print(\"tool_calls: \" + str(message.tool_calls))\n",
    "    tool_call = message.tool_calls[0]\n",
    "    arguments = json.loads(tool_call.function.arguments)\n",
    "\n",
    "    function_name = tool_call.function.name\n",
    "    movie_name = arguments.get('movie_name')\n",
    "    time = arguments.get('time')\n",
    "    num_tickets = arguments.get('num_tickets')\n",
    "    name = arguments.get('name')\n",
    "    phone = arguments.get('phone')\n",
    "\n",
    "    result = None\n",
    "    if function_name == \"get_ticket_price\":\n",
    "        result = get_ticket_price(movie_name)\n",
    "    elif function_name == \"get_movie_time\":\n",
    "        # 假设 get_movie_time 函数返回指定电影的所有放映时间\n",
    "        result = get_movie_time(movie_name)\n",
    "    elif function_name == \"get_remaining_seats\":\n",
    "        result = get_remaining_seats(movie_name, time)\n",
    "    elif function_name == \"booking_ticket\":\n",
    "        result = booking_ticket(movie_name, time, num_tickets, name, phone)\n",
    "\n",
    "    response = {\n",
    "        \"role\": \"tool\",\n",
    "        \"content\": json.dumps({\"movie_name\": movie_name, \"result\": result}),\n",
    "        \"tool_call_id\": tool_call.id\n",
    "    }\n",
    "\n",
    "    # 这里根据不同函数返回不同额外信息\n",
    "    if function_name == \"get_ticket_price\":\n",
    "        return response, movie_name, None, None, None\n",
    "    elif function_name == \"get_movie_time\":\n",
    "        return response, movie_name, result, None, None\n",
    "    elif function_name == \"get_remaining_seats\":\n",
    "        return response, movie_name, None, result, None\n",
    "    elif function_name == \"booking_ticket\":\n",
    "        return response, movie_name, None, None, result\n",
    "    return response, movie_name, None, None, None"
   ]
  },
  {
   "cell_type": "code",
   "execution_count": 21,
   "metadata": {},
   "outputs": [],
   "source": [
    "def chat(message, history):\n",
    "    messages = [{\"role\": \"system\", \"content\": system_message}] + history + [{\"role\": \"user\", \"content\": message}]\n",
    "    print(\"successfully called chat\")\n",
    "    response = openai.chat.completions.create(model=MODEL, messages=messages, tools=tools)\n",
    "    print(response.choices[0])\n",
    "\n",
    "    if response.choices[0].finish_reason==\"tool_calls\":\n",
    "        message = response.choices[0].message\n",
    "        response, movie_name, _, _, _ = handle_tool_call(message)\n",
    "        print(message)\n",
    "        messages.append(message)\n",
    "        print(response)\n",
    "        messages.append(response)\n",
    "        response = openai.chat.completions.create(model=MODEL, messages=messages)\n",
    "    \n",
    "    return response.choices[0].message.content"
   ]
  },
  {
   "cell_type": "code",
   "execution_count": null,
   "metadata": {},
   "outputs": [],
   "source": [
    "gr.ChatInterface(fn=chat, type=\"messages\").launch()"
   ]
  }
 ],
 "metadata": {
  "kernelspec": {
   "display_name": "llms_engineering",
   "language": "python",
   "name": "python3"
  },
  "language_info": {
   "codemirror_mode": {
    "name": "ipython",
    "version": 3
   },
   "file_extension": ".py",
   "mimetype": "text/x-python",
   "name": "python",
   "nbconvert_exporter": "python",
   "pygments_lexer": "ipython3",
   "version": "3.11.11"
  }
 },
 "nbformat": 4,
 "nbformat_minor": 2
}
